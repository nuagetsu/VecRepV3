{
 "cells": [
  {
   "cell_type": "code",
   "execution_count": 1,
   "id": "4fc86b4d-a26a-4c99-be8a-dfab7579a505",
   "metadata": {
    "tags": []
   },
   "outputs": [
    {
     "name": "stderr",
     "output_type": "stream",
     "text": [
      "/home/jovyan/miniconda3/envs/test/lib/python3.12/site-packages/_distutils_hack/__init__.py:53: UserWarning: Reliance on distutils from stdlib is deprecated. Users must rely on setuptools to provide the distutils module. Avoid importing distutils or import setuptools first, and avoid setting SETUPTOOLS_USE_DISTUTILS=stdlib. Register concerns at https://github.com/pypa/setuptools/issues/new?template=distutils-deprecation.yml\n",
      "  warnings.warn(\n"
     ]
    }
   ],
   "source": [
    "import torch\n",
    "import torch.nn as nn\n",
    "import torch.optim as optim\n",
    "import torch.nn.functional as F\n",
    "from torch.utils.data import DataLoader, TensorDataset, Sampler, random_split, Dataset\n",
    "from torchvision import datasets, transforms\n",
    "\n",
    "import matplotlib.pyplot as plt\n",
    "import numpy as np\n",
    "import math\n",
    "import pandas as pd\n",
    "\n",
    "from collections import defaultdict\n",
    "from line_profiler import profile\n",
    "from sklearn.model_selection import train_test_split\n",
    "\n",
    "import src.data_processing.BruteForceEstimator as bfEstimator\n",
    "import src.data_processing.ImageCalculations as imgcalc\n",
    "import src.visualization.BFmethod as graphing\n",
    "import src.visualization.Metrics as metrics\n",
    "import src.visualization.ImagePlots as imgplt\n",
    "import src.data_processing.ImageProducts as ImageProducts\n",
    "import src.helpers.ModelUtilities as models\n",
    "\n",
    "\n",
    "device = torch.device(\"cuda\" if torch.cuda.is_available() else \"cpu\")  "
   ]
  },
  {
   "cell_type": "code",
   "execution_count": 2,
   "id": "6a946225-8604-4203-9e62-4c7c217a9a3e",
   "metadata": {
    "tags": []
   },
   "outputs": [
    {
     "data": {
      "image/png": "[encoded data removed]",
      "text/plain": [
       "<Figure size 1000x500 with 2 Axes>"
      ]
     },
     "metadata": {},
     "output_type": "display_data"
    }
   ],
   "source": [
    "# ----------------------------------Image Input----------------------------------\n",
    "IMAGE_TYPES = [\"NbinMmax_ones\", \"Nbin\", \"triangles\", \"triangle_mean_subtracted\"]\n",
    "\n",
    "IMAGE_FILTERS = [\"unique\", \"Nmax_ones\", \"one_island\"]\n",
    "\n",
    "IMAGE_PRODUCT_TYPES = [\"ncc\", \"ncc_scaled\"]\n",
    "\n",
    "EMBEDDING_TYPES = [\"pencorr_D\"]\n",
    "\n",
    "dimensions = 32\n",
    "\n",
    "imageType = \"triangles\"\n",
    "filters = [\"unique\"]\n",
    "imageProductType = \"ncc_scaled_-1\"\n",
    "overwrite = {\"imgSet\": False, \"imgProd\": False, \"embedding\": False}\n",
    "weight = None\n",
    "embeddingType = f\"pencorr_{dimensions}\"\n",
    "k=5\n",
    "\n",
    "bruteForceEstimator = bfEstimator.BruteForceEstimator(\n",
    "    imageType=imageType, filters=filters, imageProductType=imageProductType, embeddingType=embeddingType, overwrite=overwrite)\n",
    "\n",
    "index1 = np.random.randint(len(bruteForceEstimator.imageSet))\n",
    "index2 = np.random.randint(len(bruteForceEstimator.imageSet))\n",
    "\n",
    "input1=bruteForceEstimator.imageSet[index1]\n",
    "input2=bruteForceEstimator.imageSet[index2]\n",
    "\n",
    "imgplt.plot_original_images(input1, input2, index1, index2)\n",
    "\n",
    "input_dataset = []\n",
    "input_images = [input1, input2] \n",
    "for i in range(len(input_images)):\n",
    "    img = np.array(input_images[i], dtype=np.float64)\n",
    "    img = torch.from_numpy(img)\n",
    "    img = img.unsqueeze(0).unsqueeze(0).cuda().double()\n",
    "    input_dataset.append(img)\n",
    "\n",
    "stacked_tensor = torch.stack(input_dataset)\n",
    "input_dataset = stacked_tensor.cpu().numpy()      \n",
    "input_dataset = [torch.tensor(data).cuda().float() for data in input_dataset]"
   ]
  },
  {
   "cell_type": "code",
   "execution_count": 3,
   "id": "476d2473-5f71-4235-b68f-3fc779afb916",
   "metadata": {
    "tags": []
   },
   "outputs": [
    {
     "name": "stdout",
     "output_type": "stream",
     "text": [
      "\n",
      "Loss Calculation\n",
      "\n",
      "Scaled NCC:  0.014185190200805664\n"
     ]
    },
    {
     "name": "stderr",
     "output_type": "stream",
     "text": [
      "/tmp/ipykernel_27344/2309580364.py:3: FutureWarning: You are using `torch.load` with `weights_only=False` (the current default value), which uses the default pickle module implicitly. It is possible to construct malicious pickle data which will execute arbitrary code during unpickling (See https://github.com/pytorch/pytorch/blob/main/SECURITY.md#untrusted-models for more details). In a future release, the default value for `weights_only` will be flipped to `True`. This limits the functions that could be executed during unpickling. Arbitrary objects will no longer be allowed to be loaded via this mode unless they are explicitly allowlisted by the user via `torch.serialization.add_safe_globals`. We recommend you start setting `weights_only=True` for any use case where you don't have full control of the loaded file. Please open an issue on GitHub for any issues related to this experimental feature.\n",
      "  model.load_state_dict(torch.load('model/best_model_batch_greyscale_8bin.pt'))\n"
     ]
    },
    {
     "name": "stdout",
     "output_type": "stream",
     "text": [
      "Dot product value of model:  -0.40566331148147583\n",
      "Loss:  0.4198485016822815\n",
      "\n",
      "Dot product value of BF Method:  0.024273956695438664\n",
      "Difference in values of BF Method and Model Method:  0.4299372732639313\n"
     ]
    }
   ],
   "source": [
    "# -----------------------------Evaluating Results-----------------------------\n",
    "model = models.SimpleCNN().cuda()\n",
    "model.load_state_dict(torch.load('model/best_model_batch_greyscale_8bin.pt'))\n",
    "model.eval()\n",
    "\n",
    "device = torch.device(\"cuda\" if torch.cuda.is_available() else \"cpu\")\n",
    "model.to(device)\n",
    "\n",
    "#----------------------Metric 1 - Loss Calculation-----------------\n",
    "scale = ImageProducts.scale_min(ImageProducts.ncc, -1)\n",
    "NCC_scaled_value = scale(input1,input2)\n",
    "\n",
    "print(\"\\nLoss Calculation\")\n",
    "print(\"\\nScaled NCC: \",NCC_scaled_value)\n",
    "\n",
    "embedded_vector_image1 = model(input_dataset[0])\n",
    "embedded_vector_image2 = model(input_dataset[1])\n",
    "\n",
    "dot_product_value = torch.sum(embedded_vector_image1 * embedded_vector_image2, dim=1) \n",
    "\n",
    "print(\"Dot product value of model: \", dot_product_value.item())\n",
    "\n",
    "NCC_scaled_value = torch.tensor(NCC_scaled_value).to(dot_product_value.device).float()\n",
    "if NCC_scaled_value.ndim == 0:\n",
    "    NCC_scaled_value = NCC_scaled_value.unsqueeze(0)\n",
    "\n",
    "train_loss_value = models.loss_fn_frobenius(dot_product_value, NCC_scaled_value) \n",
    "print(\"Loss: \", train_loss_value.item())\n",
    "\n",
    "matrixA = bruteForceEstimator.matrixA\n",
    "matrixG = bruteForceEstimator.matrixG\n",
    "dot_product_matrix = np.dot(matrixA.T, matrixA)\n",
    "dot_product_value_Pencorr = dot_product_matrix[index1][index2]\n",
    "difference = abs(dot_product_value_Pencorr - dot_product_value)\n",
    "\n",
    "print(\"\\nDot product value of BF Method: \", dot_product_value_Pencorr)\n",
    "print(\"Difference in values of BF Method and Model Method: \", difference.item())"
   ]
  },
  {
   "cell_type": "code",
   "execution_count": 4,
   "id": "e3011ca1-0bea-43d7-b13e-f7bf252861f0",
   "metadata": {
    "tags": []
   },
   "outputs": [
    {
     "name": "stdout",
     "output_type": "stream",
     "text": [
      "\n",
      "Brute Force Method -- KNN-IOU score\n",
      "embProd_max_index:  [182 157  88 174  67 181]\n",
      "imgProd_max_index:  [ 67  72  88  89 157 165 171 172 174 177 181 182 186]\n",
      "\n",
      "Intersection sets:  [ 67  88 157 174 181 182]\n",
      "Union sets:  [ 67  72  88  89 157 165 171 172 174 177 181 182 186]\n",
      "Estimating K-Score for Image 181: K-Score = 0.46153846153846156\n",
      "\n",
      "Top 13 values of Vector b\n",
      "Rank 1: Value = 1.0, Index = 181\n",
      "Rank 2: Value = 0.7888543605804443, Index = 67\n",
      "Rank 3: Value = 0.7888543605804443, Index = 88\n",
      "Rank 4: Value = 0.6903085708618164, Index = 182\n",
      "Rank 5: Value = 0.6000000238418579, Index = 72\n",
      "Rank 6: Value = 0.6000000238418579, Index = 89\n",
      "Rank 7: Value = 0.6000000238418579, Index = 157\n",
      "Rank 8: Value = 0.6000000238418579, Index = 165\n",
      "Rank 9: Value = 0.6000000238418579, Index = 171\n",
      "Rank 10: Value = 0.6000000238418579, Index = 172\n",
      "Rank 11: Value = 0.6000000238418579, Index = 174\n",
      "Rank 12: Value = 0.6000000238418579, Index = 177\n",
      "Rank 13: Value = 0.6000000238418579, Index = 186\n",
      "\n",
      "Top 13 values of Vector c\n",
      "Rank 1: Value = 1.0000000000000002, Index = 181\n",
      "Rank 2: Value = 0.8829907863868753, Index = 67\n",
      "Rank 3: Value = 0.7561871269995669, Index = 174\n",
      "Rank 4: Value = 0.6830810901097603, Index = 88\n",
      "Rank 5: Value = 0.5781113033437766, Index = 157\n",
      "Rank 6: Value = 0.5630986337620786, Index = 182\n",
      "Rank 7: Value = 0.5326094444430076, Index = 64\n",
      "Rank 8: Value = 0.5257649725842959, Index = 171\n",
      "Rank 9: Value = 0.5122488283764626, Index = 89\n",
      "Rank 10: Value = 0.5114547168275743, Index = 72\n",
      "Rank 11: Value = 0.5064821208384156, Index = 165\n",
      "Rank 12: Value = 0.4904132281820999, Index = 186\n",
      "Rank 13: Value = 0.4695310340578872, Index = 6\n",
      "\n",
      "Comparison between vector c and vector b\n",
      " Index  Vector b Value (NCC value)  Vector c Value (Dot product value)\n",
      "   181                    1.000000                            1.000000\n",
      "    67                    0.788854                            0.882991\n",
      "    72                    0.600000                            0.511455\n",
      "    88                    0.788854                            0.683081\n",
      "    89                    0.600000                            0.512249\n",
      "   157                    0.600000                            0.578111\n",
      "   165                    0.600000                            0.506482\n",
      "   171                    0.600000                            0.525765\n",
      "   172                    0.600000                            0.373776\n",
      "   174                    0.600000                            0.756187\n",
      "   177                    0.600000                            0.454140\n",
      "   182                    0.690309                            0.563099\n",
      "   186                    0.600000                            0.490413\n",
      "\n",
      "Comparing images in intersection & union sets\n",
      "\n",
      "Plotting images in the intersection set:\n"
     ]
    },
    {
     "data": {
      "image/png": "[encoded data removed]",
      "text/plain": [
       "<Figure size 1000x500 with 6 Axes>"
      ]
     },
     "metadata": {},
     "output_type": "display_data"
    },
    {
     "name": "stdout",
     "output_type": "stream",
     "text": [
      "\n",
      "Plotting images in the union set:\n"
     ]
    },
    {
     "data": {
      "image/png": "[encoded data removed]",
      "text/plain": [
       "<Figure size 1000x500 with 13 Axes>"
      ]
     },
     "metadata": {},
     "output_type": "display_data"
    },
    {
     "name": "stdout",
     "output_type": "stream",
     "text": [
      "\n",
      "For translationally unique plots: \n",
      "Image 67 has no translationally similar images.\n",
      "Image 72 has no translationally similar images.\n",
      "Image 88 has no translationally similar images.\n",
      "Image 89 has no translationally similar images.\n",
      "Image 157 has no translationally similar images.\n",
      "Image 165 has no translationally similar images.\n",
      "Image 171 has no translationally similar images.\n",
      "Image 172 has no translationally similar images.\n",
      "Image 174 has no translationally similar images.\n",
      "Image 177 has no translationally similar images.\n",
      "Image 181 has no translationally similar images.\n",
      "Image 182 has no translationally similar images.\n",
      "Image 186 has no translationally similar images.\n",
      "\n",
      "Plotting images in the intersection set:\n"
     ]
    },
    {
     "data": {
      "image/png": "[encoded data removed]",
      "text/plain": [
       "<Figure size 1000x500 with 6 Axes>"
      ]
     },
     "metadata": {},
     "output_type": "display_data"
    },
    {
     "name": "stdout",
     "output_type": "stream",
     "text": [
      "\n",
      "Plotting images in the union set:\n"
     ]
    },
    {
     "data": {
      "image/png": "[encoded data removed]",
      "text/plain": [
       "<Figure size 1000x500 with 13 Axes>"
      ]
     },
     "metadata": {},
     "output_type": "display_data"
    },
    {
     "name": "stdout",
     "output_type": "stream",
     "text": [
      "embProd_max_index:  [ 93  92 169 126  77 170]\n",
      "imgProd_max_index:  [ 77  92  93 126 164 169 170 180]\n",
      "\n",
      "Intersection sets:  [ 77  92  93 126 169 170]\n",
      "Union sets:  [ 77  92  93 126 164 169 170 180]\n",
      "Estimating K-Score for Image 170: K-Score = 0.75\n",
      "\n",
      "Top 8 values of Vector b\n",
      "Rank 1: Value = 1.0, Index = 170\n",
      "Rank 2: Value = 0.8516402244567871, Index = 77\n",
      "Rank 3: Value = 0.7142858505249023, Index = 92\n",
      "Rank 4: Value = 0.7142858505249023, Index = 93\n",
      "Rank 5: Value = 0.7142858505249023, Index = 126\n",
      "Rank 6: Value = 0.7142858505249023, Index = 164\n",
      "Rank 7: Value = 0.7142858505249023, Index = 169\n",
      "Rank 8: Value = 0.7142858505249023, Index = 180\n",
      "\n",
      "Top 8 values of Vector c\n",
      "Rank 1: Value = 0.9999999999999998, Index = 170\n",
      "Rank 2: Value = 0.8656732520623038, Index = 77\n",
      "Rank 3: Value = 0.8331530740994797, Index = 169\n",
      "Rank 4: Value = 0.7417583101875044, Index = 126\n",
      "Rank 5: Value = 0.7057356513887262, Index = 92\n",
      "Rank 6: Value = 0.6997669935782442, Index = 93\n",
      "Rank 7: Value = 0.6966058164910961, Index = 180\n",
      "Rank 8: Value = 0.692732642950808, Index = 164\n",
      "\n",
      "Comparison between vector c and vector b\n",
      " Index  Vector b Value (NCC value)  Vector c Value (Dot product value)\n",
      "   170                    1.000000                            1.000000\n",
      "    77                    0.851640                            0.865673\n",
      "    92                    0.714286                            0.705736\n",
      "    93                    0.714286                            0.699767\n",
      "   126                    0.714286                            0.741758\n",
      "   164                    0.714286                            0.692733\n",
      "   169                    0.714286                            0.833153\n",
      "   180                    0.714286                            0.696606\n",
      "\n",
      "Comparing images in intersection & union sets\n",
      "\n",
      "Plotting images in the intersection set:\n"
     ]
    },
    {
     "data": {
      "image/png": "[encoded data removed]",
      "text/plain": [
       "<Figure size 1000x500 with 6 Axes>"
      ]
     },
     "metadata": {},
     "output_type": "display_data"
    },
    {
     "name": "stdout",
     "output_type": "stream",
     "text": [
      "\n",
      "Plotting images in the union set:\n"
     ]
    },
    {
     "data": {
      "image/png": "[encoded data removed]",
      "text/plain": [
       "<Figure size 1000x500 with 8 Axes>"
      ]
     },
     "metadata": {},
     "output_type": "display_data"
    },
    {
     "name": "stdout",
     "output_type": "stream",
     "text": [
      "\n",
      "For translationally unique plots: \n",
      "Image 77 has no translationally similar images.\n",
      "Image 92 has no translationally similar images.\n",
      "Image 93 has no translationally similar images.\n",
      "Image 126 has no translationally similar images.\n",
      "Image 164 has no translationally similar images.\n",
      "Image 169 has no translationally similar images.\n",
      "Image 170 has no translationally similar images.\n",
      "Image 180 has no translationally similar images.\n",
      "\n",
      "Plotting images in the intersection set:\n"
     ]
    },
    {
     "data": {
      "image/png": "[encoded data removed]",
      "text/plain": [
       "<Figure size 1000x500 with 6 Axes>"
      ]
     },
     "metadata": {},
     "output_type": "display_data"
    },
    {
     "name": "stdout",
     "output_type": "stream",
     "text": [
      "\n",
      "Plotting images in the union set:\n"
     ]
    },
    {
     "data": {
      "image/png": "[encoded data removed]",
      "text/plain": [
       "<Figure size 1000x500 with 8 Axes>"
      ]
     },
     "metadata": {},
     "output_type": "display_data"
    },
    {
     "name": "stdout",
     "output_type": "stream",
     "text": [
      "\n",
      "Model Method -- KNN-IOU score\n",
      "embProd_max_index:  [182 174  88 186 165 181]\n",
      "imgProd_max_index:  [ 67  72  88  89 157 165 171 172 174 177 181 182 186]\n",
      "\n",
      "Intersection sets:  [ 88 165 174 181 182 186]\n",
      "Union sets:  [ 67  72  88  89 157 165 171 172 174 177 181 182 186]\n",
      "Estimating K-Score for Image 181: K-Score = 0.46153846153846156\n",
      "\n",
      "Top 13 values of Vector b\n",
      "Rank 1: Value = 1.0, Index = 181\n",
      "Rank 2: Value = 0.7888543605804443, Index = 67\n",
      "Rank 3: Value = 0.7888543605804443, Index = 88\n",
      "Rank 4: Value = 0.6903085708618164, Index = 182\n",
      "Rank 5: Value = 0.6000000238418579, Index = 72\n",
      "Rank 6: Value = 0.6000000238418579, Index = 89\n",
      "Rank 7: Value = 0.6000000238418579, Index = 157\n",
      "Rank 8: Value = 0.6000000238418579, Index = 165\n",
      "Rank 9: Value = 0.6000000238418579, Index = 171\n",
      "Rank 10: Value = 0.6000000238418579, Index = 172\n",
      "Rank 11: Value = 0.6000000238418579, Index = 174\n",
      "Rank 12: Value = 0.6000000238418579, Index = 177\n",
      "Rank 13: Value = 0.6000000238418579, Index = 186\n",
      "\n",
      "Top 13 values of Vector c\n",
      "Rank 1: Value = 1.0000001192092896, Index = 181\n",
      "Rank 2: Value = 0.919721245765686, Index = 165\n",
      "Rank 3: Value = 0.8563498258590698, Index = 186\n",
      "Rank 4: Value = 0.822705864906311, Index = 88\n",
      "Rank 5: Value = 0.7494723200798035, Index = 174\n",
      "Rank 6: Value = 0.7339314222335815, Index = 182\n",
      "Rank 7: Value = 0.7132084369659424, Index = 156\n",
      "Rank 8: Value = 0.7056901454925537, Index = 172\n",
      "Rank 9: Value = 0.6812398433685303, Index = 72\n",
      "Rank 10: Value = 0.6661765575408936, Index = 89\n",
      "Rank 11: Value = 0.6431089639663696, Index = 177\n",
      "Rank 12: Value = 0.6298916339874268, Index = 67\n",
      "Rank 13: Value = 0.6251969337463379, Index = 171\n",
      "\n",
      "Comparison between vector c and vector b\n",
      " Index  Vector b Value (NCC value)  Vector c Value (Dot product value)\n",
      "   181                    1.000000                            1.000000\n",
      "    67                    0.788854                            0.629892\n",
      "    72                    0.600000                            0.681240\n",
      "    88                    0.788854                            0.822706\n",
      "    89                    0.600000                            0.666177\n",
      "   157                    0.600000                            0.576164\n",
      "   165                    0.600000                            0.919721\n",
      "   171                    0.600000                            0.625197\n",
      "   172                    0.600000                            0.705690\n",
      "   174                    0.600000                            0.749472\n",
      "   177                    0.600000                            0.643109\n",
      "   182                    0.690309                            0.733931\n",
      "   186                    0.600000                            0.856350\n",
      "\n",
      "Comparing images in intersection & union sets\n",
      "\n",
      "Plotting images in the intersection set:\n"
     ]
    },
    {
     "data": {
      "image/png": "[encoded data removed]",
      "text/plain": [
       "<Figure size 1000x500 with 6 Axes>"
      ]
     },
     "metadata": {},
     "output_type": "display_data"
    },
    {
     "name": "stdout",
     "output_type": "stream",
     "text": [
      "\n",
      "Plotting images in the union set:\n"
     ]
    },
    {
     "data": {
      "image/png": "[encoded data removed]",
      "text/plain": [
       "<Figure size 1000x500 with 13 Axes>"
      ]
     },
     "metadata": {},
     "output_type": "display_data"
    },
    {
     "name": "stdout",
     "output_type": "stream",
     "text": [
      "\n",
      "For translationally unique plots: \n",
      "Image 67 has no translationally similar images.\n",
      "Image 72 has no translationally similar images.\n",
      "Image 88 has no translationally similar images.\n",
      "Image 89 has no translationally similar images.\n",
      "Image 157 has no translationally similar images.\n",
      "Image 165 has no translationally similar images.\n",
      "Image 171 has no translationally similar images.\n",
      "Image 172 has no translationally similar images.\n",
      "Image 174 has no translationally similar images.\n",
      "Image 177 has no translationally similar images.\n",
      "Image 181 has no translationally similar images.\n",
      "Image 182 has no translationally similar images.\n",
      "Image 186 has no translationally similar images.\n",
      "\n",
      "Plotting images in the intersection set:\n"
     ]
    },
    {
     "data": {
      "image/png": "[encoded data removed]",
      "text/plain": [
       "<Figure size 1000x500 with 6 Axes>"
      ]
     },
     "metadata": {},
     "output_type": "display_data"
    },
    {
     "name": "stdout",
     "output_type": "stream",
     "text": [
      "\n",
      "Plotting images in the union set:\n"
     ]
    },
    {
     "data": {
      "image/png": "[encoded data removed]",
      "text/plain": [
       "<Figure size 1000x500 with 13 Axes>"
      ]
     },
     "metadata": {},
     "output_type": "display_data"
    },
    {
     "name": "stdout",
     "output_type": "stream",
     "text": [
      "embProd_max_index:  [126 163 169 122 170 191]\n",
      "imgProd_max_index:  [ 77  92  93 126 164 169 170 180]\n",
      "\n",
      "Intersection sets:  [126 169 170]\n",
      "Union sets:  [ 77  92  93 122 126 163 164 169 170 180 191]\n",
      "Estimating K-Score for Image 170: K-Score = 0.2727272727272727\n",
      "\n",
      "Top 11 values of Vector b\n",
      "Rank 1: Value = 1.0, Index = 170\n",
      "Rank 2: Value = 0.8516402244567871, Index = 77\n",
      "Rank 3: Value = 0.7142858505249023, Index = 92\n",
      "Rank 4: Value = 0.7142858505249023, Index = 93\n",
      "Rank 5: Value = 0.7142858505249023, Index = 126\n",
      "Rank 6: Value = 0.7142858505249023, Index = 164\n",
      "Rank 7: Value = 0.7142858505249023, Index = 169\n",
      "Rank 8: Value = 0.7142858505249023, Index = 180\n",
      "Rank 9: Value = 0.6903085708618164, Index = 122\n",
      "Rank 10: Value = 0.6903085708618164, Index = 140\n",
      "Rank 11: Value = 0.6903085708618164, Index = 148\n",
      "\n",
      "Top 11 values of Vector c\n",
      "Rank 1: Value = 1.0000001192092896, Index = 170\n",
      "Rank 2: Value = 0.8284562826156616, Index = 191\n",
      "Rank 3: Value = 0.7665250897407532, Index = 122\n",
      "Rank 4: Value = 0.7656863927841187, Index = 169\n",
      "Rank 5: Value = 0.7326822280883789, Index = 163\n",
      "Rank 6: Value = 0.7176553606987, Index = 126\n",
      "Rank 7: Value = 0.716937780380249, Index = 189\n",
      "Rank 8: Value = 0.6941726803779602, Index = 164\n",
      "Rank 9: Value = 0.6820977926254272, Index = 77\n",
      "Rank 10: Value = 0.6317770481109619, Index = 185\n",
      "Rank 11: Value = 0.6292588114738464, Index = 140\n",
      "\n",
      "Comparison between vector c and vector b\n",
      " Index  Vector b Value (NCC value)  Vector c Value (Dot product value)\n",
      "   170                    1.000000                            1.000000\n",
      "    77                    0.851640                            0.682098\n",
      "    92                    0.714286                            0.572473\n",
      "    93                    0.714286                            0.591563\n",
      "   122                    0.690309                            0.766525\n",
      "   126                    0.714286                            0.717655\n",
      "   163                    0.543033                            0.732682\n",
      "   164                    0.714286                            0.694173\n",
      "   169                    0.714286                            0.765686\n",
      "   180                    0.714286                            0.539646\n",
      "   191                    0.673320                            0.828456\n",
      "\n",
      "Comparing images in intersection & union sets\n",
      "\n",
      "Plotting images in the intersection set:\n"
     ]
    },
    {
     "data": {
      "image/png": "[encoded data removed]",
      "text/plain": [
       "<Figure size 1000x500 with 3 Axes>"
      ]
     },
     "metadata": {},
     "output_type": "display_data"
    },
    {
     "name": "stdout",
     "output_type": "stream",
     "text": [
      "\n",
      "Plotting images in the union set:\n"
     ]
    },
    {
     "data": {
      "image/png": "[encoded data removed]",
      "text/plain": [
       "<Figure size 1000x500 with 11 Axes>"
      ]
     },
     "metadata": {},
     "output_type": "display_data"
    },
    {
     "name": "stdout",
     "output_type": "stream",
     "text": [
      "\n",
      "For translationally unique plots: \n",
      "Image 77 has no translationally similar images.\n",
      "Image 92 has no translationally similar images.\n",
      "Image 93 has no translationally similar images.\n",
      "Image 122 has no translationally similar images.\n",
      "Image 126 has no translationally similar images.\n",
      "Image 163 has no translationally similar images.\n",
      "Image 164 has no translationally similar images.\n",
      "Image 169 has no translationally similar images.\n",
      "Image 170 has no translationally similar images.\n",
      "Image 180 has no translationally similar images.\n",
      "Image 191 has no translationally similar images.\n",
      "\n",
      "Plotting images in the intersection set:\n"
     ]
    },
    {
     "data": {
      "image/png": "[encoded data removed]",
      "text/plain": [
       "<Figure size 1000x500 with 3 Axes>"
      ]
     },
     "metadata": {},
     "output_type": "display_data"
    },
    {
     "name": "stdout",
     "output_type": "stream",
     "text": [
      "\n",
      "Plotting images in the union set:\n"
     ]
    },
    {
     "data": {
      "image/png": "[encoded data removed]",
      "text/plain": [
       "<Figure size 1000x500 with 11 Axes>"
      ]
     },
     "metadata": {},
     "output_type": "display_data"
    }
   ],
   "source": [
    "#----------------------Metric 2 - KNNIoU-----------------\n",
    "print(\"\\nBrute Force Method -- KNN-IOU score\")\n",
    "vectorb_bf1 = bruteForceEstimator.matrixG[index1]\n",
    "vectorc_bf1 = imgcalc.get_vectorc_brute(index1, bruteForceEstimator.matrixA)\n",
    "imgplt.display_and_plot_results(vectorb_bf1, vectorc_bf1, \"Brute Force\", index1, k, bruteForceEstimator.imageSet)\n",
    "\n",
    "vectorb_bf2 = bruteForceEstimator.matrixG[index2]\n",
    "vectorc_bf2 = imgcalc.get_vectorc_brute(index2, bruteForceEstimator.matrixA)\n",
    "imgplt.display_and_plot_results(vectorb_bf2, vectorc_bf2, \"Brute Force\", index2, k, bruteForceEstimator.imageSet)\n",
    "\n",
    "print(\"\\nModel Method -- KNN-IOU score\")\n",
    "input_dataset = []\n",
    "for img in bruteForceEstimator.imageSet:\n",
    "    img_tensor = torch.from_numpy(np.array(img, dtype=np.float64))\n",
    "    img_tensor = img_tensor.unsqueeze(0).unsqueeze(0).cuda().double()\n",
    "    input_dataset.append(img_tensor)\n",
    "input_dataset = [tensor.float() for tensor in input_dataset] \n",
    "\n",
    "vectorb_model1 = bruteForceEstimator.matrixG[index1]\n",
    "vectorc_model1 = imgcalc.get_vectorc_model(index1, model, input_dataset)\n",
    "imgplt.display_and_plot_results(vectorb_model1, vectorc_model1, \"Model\", index1, k, bruteForceEstimator.imageSet)\n",
    "\n",
    "vectorb_model2 = bruteForceEstimator.matrixG[index2]\n",
    "vectorc_model2 = imgcalc.get_vectorc_model(index2, model, input_dataset)\n",
    "imgplt.display_and_plot_results(vectorb_model2, vectorc_model2, \"Model\", index2, k, bruteForceEstimator.imageSet)"
   ]
  },
  {
   "cell_type": "code",
   "execution_count": null,
   "id": "a76ee309-6bf4-42e1-b5b8-5ef2cbf9fa36",
   "metadata": {},
   "outputs": [],
   "source": []
  }
 ],
 "metadata": {
  "kernelspec": {
   "display_name": "Python (test)",
   "language": "python",
   "name": "test"
  },
  "language_info": {
   "codemirror_mode": {
    "name": "ipython",
    "version": 3
   },
   "file_extension": ".py",
   "mimetype": "text/x-python",
   "name": "python",
   "nbconvert_exporter": "python",
   "pygments_lexer": "ipython3",
   "version": "3.12.8"
  }
 },
 "nbformat": 4,
 "nbformat_minor": 5
}
