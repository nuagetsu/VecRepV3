{
 "cells": [
  {
   "cell_type": "markdown",
   "id": "108d7887-dcab-4935-b415-2920d5fe909f",
   "metadata": {},
   "source": [
    "### Settings"
   ]
  },
  {
   "cell_type": "code",
   "execution_count": 1,
   "id": "14f29194-8193-42b5-9ac2-d9b2735ffdbb",
   "metadata": {
    "tags": []
   },
   "outputs": [
    {
     "name": "stdout",
     "output_type": "stream",
     "text": [
      "/home/jovyan/workspace-test1/VecRepV3\n"
     ]
    }
   ],
   "source": [
    "import sys\n",
    "import os\n",
    "path = os.path.abspath(\"../../VecRepV3\") \n",
    "sys.path.append(path)\n",
    "print(path)"
   ]
  },
  {
   "cell_type": "code",
   "execution_count": 2,
   "id": "581c4123-7d8e-40b5-8a5f-3e657ad699d7",
   "metadata": {
    "tags": []
   },
   "outputs": [
    {
     "name": "stderr",
     "output_type": "stream",
     "text": [
      "/home/jovyan/miniconda3/envs/test/lib/python3.12/site-packages/_distutils_hack/__init__.py:53: UserWarning: Reliance on distutils from stdlib is deprecated. Users must rely on setuptools to provide the distutils module. Avoid importing distutils or import setuptools first, and avoid setting SETUPTOOLS_USE_DISTUTILS=stdlib. Register concerns at https://github.com/pypa/setuptools/issues/new?template=distutils-deprecation.yml\n",
      "  warnings.warn(\n"
     ]
    },
    {
     "name": "stdout",
     "output_type": "stream",
     "text": [
      "cpu\n"
     ]
    }
   ],
   "source": [
    "import torch\n",
    "import torch.nn as nn\n",
    "import torch.optim as optim\n",
    "import torch.nn.functional as F\n",
    "from torch.utils.data import DataLoader, TensorDataset, Sampler, random_split, Dataset\n",
    "from torchvision import datasets, transforms\n",
    "\n",
    "import matplotlib.pyplot as plt\n",
    "import numpy as np\n",
    "import math\n",
    "import pandas as pd\n",
    "\n",
    "from collections import defaultdict\n",
    "from line_profiler import profile\n",
    "from scipy.linalg import orthogonal_procrustes\n",
    "\n",
    "import src.data_processing.ImageCalculations as imgcalc\n",
    "import src.visualization.ImagePlots as imgplt\n",
    "import src.helpers.ModelUtilities as models\n",
    "import src.data_processing.Utilities as utils\n",
    "import src.helpers.FilepathUtils as Futils\n",
    "import src.data_processing.EmbeddingFunctions as embedfunc\n",
    "\n",
    "from src.visualization import BFmethod\n",
    "from functools import partial\n",
    "from learnable_polyphase_sampling.learn_poly_sampling.layers import get_logits_model, PolyphaseInvariantDown2D, LPS\n",
    "from learnable_polyphase_sampling.learn_poly_sampling.layers.polydown import set_pool\n",
    "\n",
    "device = torch.device(\"cuda\" if torch.cuda.is_available() else \"cpu\")  \n",
    "print(device)"
   ]
  },
  {
   "cell_type": "code",
   "execution_count": 3,
   "id": "c36d4d46-36ff-470e-a012-a31201db2467",
   "metadata": {
    "tags": []
   },
   "outputs": [
    {
     "name": "stdout",
     "output_type": "stream",
     "text": [
      "(500, 32, 32)\n"
     ]
    }
   ],
   "source": [
    "# ----------------------------------Image Input----------------------------------\n",
    "IMAGE_TYPES = [\"NbinMmax_ones\", \"Nbin\", \"triangles\", \"triangle_mean_subtracted\"]\n",
    "\n",
    "IMAGE_FILTERS = [\"unique\", \"Nmax_ones\", \"one_island\"]\n",
    "\n",
    "IMAGE_PRODUCT_TYPES = [\"ncc\", \"ncc_scaled\"]\n",
    "\n",
    "EMBEDDING_TYPES = [\"pencorr_D\"]\n",
    "\n",
    "dimensions = 32\n",
    "\n",
    "imageType = \"shapes_3_dims_24_4\" #10x10 triangle in 16x16 matrix shapes_3_dims_10_3\n",
    "filters = [\"unique\"]\n",
    "imageProductType = \"ncc_scaled_-1\"\n",
    "overwrite = {\"imgSet\": False, \"imgProd\": False, \"embedding\": False}\n",
    "weight = None\n",
    "embeddingType = f\"pencorr_{dimensions}\"\n",
    "k = 7\n",
    "\n",
    "model_directory = \"model\"\n",
    "\n",
    "testSample = np.load('/home/jovyan/workspace-test1/VecRepV3/data/test_images_32x32.npy')\n",
    "print(testSample.shape) #Total unique images: 31 449 200"
   ]
  },
  {
   "cell_type": "markdown",
   "id": "20f3e948-dd9c-452d-804b-377e1c7d8591",
   "metadata": {},
   "source": [
    "# Functions used for testing"
   ]
  },
  {
   "cell_type": "markdown",
   "id": "09b1d0f5-2791-4f2f-b32e-ef944c8d672c",
   "metadata": {},
   "source": [
    "## Visualisation of Embeddings"
   ]
  },
  {
   "cell_type": "code",
   "execution_count": null,
   "id": "d20f9ba9-b20e-4463-85d5-bef6e8da5e84",
   "metadata": {},
   "outputs": [],
   "source": [
    "import numpy as np\n",
    "import matplotlib.pyplot as plt\n",
    "from sklearn.decomposition import PCA\n",
    "from sklearn.manifold import TSNE\n",
    "\n",
    "def visualize_pca(embeddings, labels=None):\n",
    "    \"\"\"\n",
    "    Visualize embeddings using PCA\n",
    "    :param embeddings: List/numpy array of model embeddings (num_samples x embedding_dim)\n",
    "    :param labels: Optional list of labels for color coding\n",
    "    \"\"\"\n",
    "    # Convert to numpy array if using tensor-based framework\n",
    "    if not isinstance(embeddings, np.ndarray):\n",
    "        embeddings = np.array([emb.detach().numpy() for emb in embeddings])\n",
    "    \n",
    "    # Perform PCA\n",
    "    pca = PCA(n_components=2)\n",
    "    reduced = pca.fit_transform(embeddings)\n",
    "    \n",
    "    # Plot results\n",
    "    plt.figure(figsize=(10, 8))\n",
    "    scatter = plt.scatter(reduced[:, 0], reduced[:, 1], c=labels, cmap='viridis', alpha=0.6)\n",
    "    plt.title(f'PCA Visualization (Explained Variance: {np.sum(pca.explained_variance_ratio_):.2f})')\n",
    "    plt.xlabel('Principal Component 1')\n",
    "    plt.ylabel('Principal Component 2')\n",
    "    if labels is not None:\n",
    "        plt.legend(*scatter.legend_elements(), title=\"Classes\")\n",
    "    plt.show()\n",
    "\n",
    "def visualize_tsne(embeddings, labels=None, perplexity=30):\n",
    "    \"\"\"\n",
    "    Visualize embeddings using t-SNE\n",
    "    :param embeddings: List/numpy array of model embeddings\n",
    "    :param labels: Optional list of labels for color coding\n",
    "    :param perplexity: t-SNE perplexity parameter (typical values 5-50)\n",
    "    \"\"\"\n",
    "    # Convert to numpy array if using tensor-based framework\n",
    "    if not isinstance(embeddings, np.ndarray):\n",
    "        embeddings = np.array([emb.detach().numpy() for emb in embeddings])\n",
    "    \n",
    "    # Perform t-SNE\n",
    "    tsne = TSNE(n_components=2, perplexity=perplexity, random_state=42)\n",
    "    reduced = tsne.fit_transform(embeddings)\n",
    "    \n",
    "    # Plot results\n",
    "    plt.figure(figsize=(10, 8))\n",
    "    scatter = plt.scatter(reduced[:, 0], reduced[:, 1], c=labels, cmap='viridis', alpha=0.6)\n",
    "    plt.title('t-SNE Visualization')\n",
    "    plt.xlabel('t-SNE Dimension 1')\n",
    "    plt.ylabel('t-SNE Dimension 2')\n",
    "    if labels is not None:\n",
    "        plt.legend(*scatter.legend_elements(), title=\"Classes\")\n",
    "    plt.show()\n",
    "\n",
    "# Example usage with your model vectors:\n",
    "# visualize_pca(model_vectors, labels=your_labels)\n",
    "# visualize_tsne(model_vectors, labels=your_labels)\n"
   ]
  },
  {
   "cell_type": "markdown",
   "id": "a10d1ee2-bf1f-4645-ad1b-fea545283539",
   "metadata": {},
   "source": [
    "## Distribution"
   ]
  },
  {
   "cell_type": "code",
   "execution_count": 4,
   "id": "6b6a0750-5d23-49a0-8811-30217e6c71fa",
   "metadata": {
    "tags": []
   },
   "outputs": [
    {
     "data": {
      "image/png": "[encoded data removed]",
      "text/plain": [
       "<Figure size 640x480 with 1 Axes>"
      ]
     },
     "metadata": {},
     "output_type": "display_data"
    }
   ],
   "source": [
    "import numpy as np\n",
    "import matplotlib.pyplot as plt\n",
    "from scipy.stats import gaussian_kde\n",
    "\n",
    "testSample = np.load('/home/jovyan/workspace-test1/VecRepV3/data/train_images_32x32.npy')\n",
    "testSample = testSample[:5000]\n",
    "matrixG = imgcalc.get_matrixG(testSample, imageProductType)\n",
    "upper_triangle = matrixG[np.triu_indices_from(matrixG, k=0)]\n",
    "\n",
    "mean_val = np.mean(upper_triangle)\n",
    "density = gaussian_kde(upper_triangle)\n",
    "x_vals = np.linspace(min(upper_triangle), max(upper_triangle), 500)\n",
    "density_vals = density(x_vals)\n",
    "plt.hist(upper_triangle, bins='auto', edgecolor='black', density=True, alpha=0.6, label='Histogram')\n",
    "plt.plot(x_vals, density_vals, color='blue', linewidth=2, label='Density Curve')\n",
    "plt.axvline(mean_val, color='red', linestyle='dashed', linewidth=1.5, label=f'Mean = {mean_val:.2f}')\n",
    "plt.title(\"Distribution of NCC Scores in 32x32 Test Set\")\n",
    "plt.xlabel(\"Value\")\n",
    "plt.ylabel(\"Density\")\n",
    "plt.legend()\n",
    "plt.show()\n"
   ]
  },
  {
   "cell_type": "markdown",
   "id": "2a09ef3d-19a7-41a4-a27b-373b556b16b7",
   "metadata": {},
   "source": [
    "## Total parameters in model"
   ]
  },
  {
   "cell_type": "code",
   "execution_count": 35,
   "id": "e20f837a-2450-4b5a-9af0-919ddc7e2477",
   "metadata": {
    "tags": []
   },
   "outputs": [
    {
     "name": "stdout",
     "output_type": "stream",
     "text": [
      "Total model params: 522816\n",
      "Total lpd1–lpd6 params: 392160\n",
      "Total conv1–conv6 params: 97152\n",
      "Total bn1–bn6 params: 480\n",
      "fc layer params: 33024\n"
     ]
    }
   ],
   "source": [
    "dimensions = 256\n",
    "model = models.SimpleCNN4(dimensions=dimensions, padding_mode='circular').to(device)\n",
    "model.load_state_dict(torch.load(os.path.join(os.path.abspath(\"../../VecRepV3\"), model_directory, \n",
    "                                              f'best_model_{imageType}_{dimensions}d_convlayer3.pt'), weights_only=True, map_location=torch.device('cpu')))\n",
    "model.eval()\n",
    "total_params = sum(p.numel() for p in model.parameters() if p.requires_grad)\n",
    "\n",
    "def count_params(module):\n",
    "    return sum(p.numel() for p in module.parameters() if p.requires_grad)\n",
    "\n",
    "total = count_params(model)\n",
    "print(f\"Total model params: {total}\")\n",
    "\n",
    "lpd_total = sum(count_params(getattr(model, f\"lpd{i}\")) for i in range(1, 5))\n",
    "print(f\"Total lpd1–lpd6 params: {lpd_total}\")\n",
    "\n",
    "conv_total = sum(count_params(getattr(model, f\"conv{i}\")) for i in range(1, 5))\n",
    "print(f\"Total conv1–conv6 params: {conv_total}\")\n",
    "\n",
    "bn_total = sum(count_params(getattr(model, f\"bn{i}\")) for i in range(1, 5))\n",
    "print(f\"Total bn1–bn6 params: {bn_total}\")\n",
    "\n",
    "fc_total = count_params(model.fc)\n",
    "print(f\"fc layer params: {fc_total}\")"
   ]
  },
  {
   "cell_type": "code",
   "execution_count": 7,
   "id": "33dee692-cbc9-4eaf-9248-4068baf5bfd8",
   "metadata": {
    "collapsed": true,
    "jupyter": {
     "outputs_hidden": true,
     "source_hidden": true
    },
    "tags": []
   },
   "outputs": [
    {
     "name": "stdout",
     "output_type": "stream",
     "text": [
      "Rank of the matrixG: 500\n",
      "g pirme\n",
      "Rank of the matrixG': 154\n",
      "(500, 500)\n",
      "(500,)\n",
      "(500, 500)\n",
      "Number of eigenvalues greater than tolerance: 154\n",
      "\n",
      "Embedding of image 182 for Pencorr (A'A): [-5.47267208e-01  6.85274121e-02 -2.38028460e-01 -2.74942382e-01\n",
      "  1.27518230e-01  4.40561892e-01  1.22415044e-01 -1.47233858e-01\n",
      " -7.56385998e-02 -5.82657803e-02  4.18958296e-02 -1.20776909e-01\n",
      "  4.97361413e-02 -1.27383536e-02 -1.20196108e-01 -7.03198724e-02\n",
      " -3.63524779e-03  1.62504185e-02 -1.21541367e-01 -6.82538322e-02\n",
      "  6.95328997e-03 -1.34012704e-01 -1.55183642e-02  2.81475156e-02\n",
      " -6.03882115e-02  6.45322863e-02  1.73894661e-01  7.13490646e-02\n",
      "  4.15358624e-02  6.27635521e-03 -3.86025105e-02 -2.83082920e-02\n",
      " -2.20404262e-02  1.05742827e-01 -1.40238653e-01  1.35955846e-02\n",
      "  1.53754912e-01 -7.35932485e-03 -3.89920821e-02  6.95864982e-02\n",
      " -9.13883895e-02  5.07247576e-02  5.03209368e-02  6.59893317e-02\n",
      " -6.56235045e-02  9.85685401e-02  3.58867222e-02 -4.84742996e-02\n",
      "  4.94295154e-02  4.37712532e-02  8.15955110e-02 -6.38887473e-03\n",
      " -1.64142784e-02  4.17115308e-02  9.91376798e-02  2.75785450e-02\n",
      " -4.17991336e-02  2.67786064e-02  1.08385141e-02 -5.51529051e-02\n",
      "  4.39785250e-02  4.10229146e-03  2.75378919e-02 -7.05226495e-02\n",
      "  9.93218852e-03 -1.44597300e-02  7.52909802e-03  7.33128808e-02\n",
      "  2.01087588e-02 -5.57465381e-02  3.02903361e-02 -2.19794781e-02\n",
      " -3.16792463e-02 -1.68893943e-02  7.55011055e-02  2.70221297e-02\n",
      " -3.33446913e-03  1.29928099e-03  7.33939587e-03 -1.04417298e-02\n",
      "  1.83604998e-02  3.32000226e-02 -1.05652836e-02 -1.04835990e-02\n",
      " -5.32063669e-03 -8.78010290e-03  3.44472378e-02  4.90074025e-03\n",
      "  4.29757150e-02  4.05567946e-02  5.05573657e-02 -3.33484121e-02\n",
      "  8.40332204e-03 -2.57850334e-03 -3.73695089e-02  3.45078925e-02\n",
      "  2.71002006e-02  3.44226891e-02 -1.69412188e-02  8.26501941e-03\n",
      " -8.34266319e-03 -6.23442998e-03  4.34795581e-02  1.67658345e-03\n",
      " -9.17618687e-04  2.63659466e-02  2.41001139e-02 -2.27622948e-02\n",
      " -9.05981828e-03  3.81804320e-02  3.34705104e-03 -1.01359037e-02\n",
      " -2.24517941e-03 -2.89829528e-02 -6.53177737e-03 -3.21449150e-02\n",
      "  1.28707249e-02 -9.01722872e-03 -2.52012482e-02  1.16567379e-02\n",
      "  4.72123264e-02  9.97089018e-03  7.37971455e-03 -3.11942847e-02\n",
      "  1.96907158e-02 -4.51108645e-03  9.03348254e-03 -3.07354130e-03\n",
      " -2.25047131e-02  2.43350530e-02  1.12963684e-02  5.57688421e-03\n",
      " -2.96717443e-03  5.26395783e-03  9.60602148e-03 -2.15857323e-03\n",
      " -1.63165424e-02  1.31510253e-02  3.52449229e-03  1.69080886e-03\n",
      " -1.22078718e-02 -2.02301105e-02 -4.56971438e-03 -1.87020854e-03\n",
      "  1.22353641e-02  8.94613534e-03 -5.88383766e-03  1.41919788e-02\n",
      "  1.18854987e-02 -2.98993439e-03  1.09490866e-02  2.43913631e-03\n",
      " -7.21093984e-03 -8.02799283e-04  3.87029978e-09 -5.28794087e-09\n",
      "  1.94819867e-09 -1.97930867e-09 -1.59891094e-10 -2.10804278e-09\n",
      " -4.65097281e-09 -1.23494648e-09 -1.03544372e-09 -2.70787155e-10\n",
      "  1.61801887e-09  4.38931770e-09  9.74249399e-10  3.29440310e-10\n",
      " -3.08736888e-09  1.77999693e-10  1.91007928e-09  2.06822892e-09\n",
      " -3.29397323e-10  1.47376036e-09  3.96756736e-09 -9.21211122e-10\n",
      " -3.28804846e-09 -4.11533001e-09  8.29097980e-10  6.29362970e-10\n",
      "  2.40591551e-09  2.50208828e-09 -2.36941938e-09  1.37737047e-09\n",
      "  9.38451488e-10  1.98898162e-09  9.66413226e-11 -2.06695970e-11\n",
      " -3.37174874e-09 -4.49843236e-10 -8.39325731e-10  7.24630369e-10\n",
      " -4.56063543e-09 -2.21137368e-09  1.17774547e-09 -4.63684143e-09\n",
      " -2.56749186e-10  1.10108576e-10  4.03932056e-10  1.08922955e-09\n",
      " -2.11509769e-10 -1.57752427e-09  2.38310687e-09  4.39045786e-09\n",
      "  9.88178261e-11  1.34705931e-09 -3.71053330e-09 -7.92999429e-11\n",
      "  1.01250302e-09 -1.32786853e-09 -4.88914204e-10  1.71088619e-09\n",
      " -1.73710658e-09 -1.69354885e-09 -5.73881394e-10 -1.65485444e-09\n",
      "  4.84119936e-10 -5.98229326e-10  2.36159247e-09 -2.83759013e-10\n",
      "  1.22929191e-09 -9.25248972e-10  5.93637370e-10  1.79850335e-10\n",
      " -2.62521253e-10 -6.57471259e-10 -9.47436496e-10  1.22699917e-09\n",
      " -2.06505548e-09 -2.30041295e-10  1.04375510e-09  3.55379787e-10\n",
      "  9.80703112e-10 -4.07315598e-10  8.77123726e-10  1.09937305e-09\n",
      "  1.44440498e-09  2.92257634e-09 -5.24343702e-10  1.53663689e-09\n",
      "  5.01311494e-10  1.48070298e-09 -1.55675678e-10 -1.41492165e-10\n",
      "  4.84085939e-10  4.90113010e-10 -3.22883065e-10 -2.47103251e-09\n",
      "  5.91557420e-10 -1.20974182e-09 -2.55048635e-09 -1.48758095e-10\n",
      " -2.94882785e-10 -1.54439770e-09  1.61760435e-09 -2.25698259e-09] (256, 500) 256\n",
      "Number of elements not close to tolerance 1e-5: 154\n",
      "Number of elements not close to 0: 256\n",
      "g\n",
      "(500, 500)\n",
      "(500,)\n",
      "(500, 500)\n",
      "Number of eigenvalues greater than tolerance: 298\n"
     ]
    }
   ],
   "source": [
    "# -------------- for debugging -----------------\n",
    "tolerance = 1e-6\n",
    "matrixG = imgcalc.get_matrixG(testSample, imageProductType)\n",
    "\n",
    "rank = np.linalg.matrix_rank(matrixG)\n",
    "print(\"Rank of the matrixG:\", rank)\n",
    "\n",
    "nDim = 64\n",
    "# original image product matrix not PSD, after transformation,\n",
    "matrixGprime = embedfunc.pencorr(matrixG, nDim) #reduce matrixG rank from image set size to nDim\n",
    "\n",
    "print(\"g pirme\")\n",
    "rank = np.linalg.matrix_rank(matrixGprime) #156\n",
    "''' \n",
    "given 753 unique training samples, rank of matrixG is by right 753 \n",
    "ndim 512: rank of g' = 120, 120 positive eigenvalues for g', 380 positive eigenvalues for g\n",
    "ndim 256: rank of g' = 120, 120 positive eigenvalues for g', 380 positive eigenvalues for g\n",
    "ndim 64: rank of g' = 64, 64 positive eigenvalues for g', 380 positive eigenvalues for g\n",
    "\n",
    "somewhere in the algorithm, it is coded such that pencorr striaghtaway finds the optimum rank of a matrix and minimises it\n",
    "once rank is minimised to its optimum, the number of positive eigenvalues is only that number.\n",
    "unless we set nDim < rank, we cannot change the number of positive eigenvalues.\n",
    "this overall limits the number of dimensions we can test. \n",
    "\n",
    "essentially, since rank of g' determines the vector space formed by the rows and columns (linearly independent rows or columns in matrix),\n",
    "the rank of a matrix is the number of non-zero eigenvalues of a matrix, which is why limiting the rank of the matrix to 120 only give\n",
    "120 non-zero elements in our embedding dimension. \n",
    "'''\n",
    "print(\"Rank of the matrixG':\", rank)\n",
    "eigenvalues, eigenvectors = np.linalg.eig(matrixGprime)\n",
    "print(matrixGprime.shape) #753x753\n",
    "print(eigenvalues.shape) #753\n",
    "print(eigenvectors.shape) #753x753\n",
    "num_positive_eigenvalues = np.sum(eigenvalues > tolerance) \n",
    "print(\"Number of eigenvalues greater than tolerance:\", num_positive_eigenvalues)\n",
    "\n",
    "matrixA = imgcalc.get_matrixA(matrixG, embeddingType, weight)\n",
    "print(f\"\\nEmbedding of image {index1} for Pencorr (A'A): {matrixA[:,index1]} {matrixA.shape} {matrixA[:,index1].size}\")\n",
    "count_not_close_to_zero = np.sum(np.abs(matrixA[:,index1]) > tolerance)\n",
    "print(\"Number of elements not close to tolerance 1e-5:\", count_not_close_to_zero)\n",
    "\n",
    "count_to_zero = np.sum(np.abs(matrixA[:,index1]) > 0)\n",
    "print(\"Number of elements not close to 0:\", count_to_zero)\n",
    "\n",
    "print(\"g\")\n",
    "eigenvalues, eigenvectors = np.linalg.eig(matrixG)\n",
    "print(matrixG.shape) #753x753\n",
    "print(eigenvalues.shape) #753\n",
    "print(eigenvectors.shape)\n",
    "num_positive_eigenvalues = np.sum(eigenvalues > tolerance) #380 ????????\n",
    "print(\"Number of eigenvalues greater than tolerance:\", num_positive_eigenvalues)"
   ]
  },
  {
   "cell_type": "code",
   "execution_count": null,
   "id": "e3bf648c-4b10-4041-8d4c-7fdceee6dac8",
   "metadata": {},
   "outputs": [],
   "source": []
  }
 ],
 "metadata": {
  "kernelspec": {
   "display_name": "Python (test)",
   "language": "python",
   "name": "test"
  },
  "language_info": {
   "codemirror_mode": {
    "name": "ipython",
    "version": 3
   },
   "file_extension": ".py",
   "mimetype": "text/x-python",
   "name": "python",
   "nbconvert_exporter": "python",
   "pygments_lexer": "ipython3",
   "version": "3.12.8"
  }
 },
 "nbformat": 4,
 "nbformat_minor": 5
}
