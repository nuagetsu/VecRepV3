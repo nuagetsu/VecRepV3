{
 "cells": [
  {
   "cell_type": "markdown",
   "id": "108d7887-dcab-4935-b415-2920d5fe909f",
   "metadata": {},
   "source": [
    "### Settings"
   ]
  },
  {
   "cell_type": "code",
   "execution_count": 1,
   "id": "14f29194-8193-42b5-9ac2-d9b2735ffdbb",
   "metadata": {
    "tags": []
   },
   "outputs": [
    {
     "name": "stdout",
     "output_type": "stream",
     "text": [
      "/home/jovyan\n"
     ]
    }
   ],
   "source": [
    "import sys\n",
    "import os\n",
    "path = os.path.abspath(\"../\")\n",
    "sys.path.append(path)\n",
    "print(path)"
   ]
  },
  {
   "cell_type": "code",
   "execution_count": 2,
   "id": "581c4123-7d8e-40b5-8a5f-3e657ad699d7",
   "metadata": {
    "tags": []
   },
   "outputs": [
    {
     "name": "stdout",
     "output_type": "stream",
     "text": [
      "cpu\n"
     ]
    }
   ],
   "source": [
    "import torch\n",
    "import torch.nn as nn\n",
    "import torch.optim as optim\n",
    "import torch.nn.functional as F\n",
    "import torchvision\n",
    "from torch.utils.data import DataLoader, TensorDataset, Sampler, random_split, Dataset, Subset\n",
    "from torchvision import datasets, transforms\n",
    "\n",
    "import matplotlib.pyplot as plt\n",
    "import numpy as np\n",
    "import math\n",
    "import pandas as pd\n",
    "import random\n",
    "\n",
    "from collections import defaultdict, Counter\n",
    "from line_profiler import profile\n",
    "from scipy.linalg import orthogonal_procrustes\n",
    "\n",
    "import src.data_processing.ImageCalculations as imgcalc\n",
    "import src.visualization.ImagePlots as imgplt\n",
    "import src.helpers.ModelUtilities as models\n",
    "import src.helpers.TCNNModelUtilities as tcnnmodels\n",
    "import src.data_processing.Utilities as utils\n",
    "import src.helpers.FilepathUtils as Futils\n",
    "import src.data_processing.EmbeddingFunctions as embedfunc\n",
    "\n",
    "from src.visualization import BFmethod\n",
    "from functools import partial\n",
    "from learnable_polyphase_sampling.learn_poly_sampling.layers import get_logits_model, PolyphaseInvariantDown2D, LPS\n",
    "from learnable_polyphase_sampling.learn_poly_sampling.layers.polydown import set_pool\n",
    "\n",
    "device = torch.device(\"cuda\" if torch.cuda.is_available() else \"cpu\")\n",
    "print(device)"
   ]
  },
  {
   "cell_type": "code",
   "execution_count": 8,
   "id": "ea8c614f",
   "metadata": {},
   "outputs": [],
   "source": [
    "#np.save('/home/jovyan/VecRepV3/data/train_images_56x56_1.npy', np.ndarray([1,1,1]))"
   ]
  },
  {
   "cell_type": "code",
   "execution_count": 3,
   "id": "c36d4d46-36ff-470e-a012-a31201db2467",
   "metadata": {
    "tags": []
   },
   "outputs": [
    {
     "name": "stdout",
     "output_type": "stream",
     "text": [
      "10000\n",
      "500\n"
     ]
    }
   ],
   "source": [
    "# # ----------------------------------Image Input----------------------------------\n",
    "# IMAGE_TYPES = [\"NbinMmax_ones\", \"Nbin\", \"triangles\", \"triangle_mean_subtracted\"]\n",
    "\n",
    "# IMAGE_FILTERS = [\"unique\", \"Nmax_ones\", \"one_island\"]\n",
    "\n",
    "# IMAGE_PRODUCT_TYPES = [\"ncc\", \"ncc_scaled\"]\n",
    "\n",
    "# EMBEDDING_TYPES = [\"pencorr_D\"]\n",
    "\n",
    "# dimensions = 500\n",
    "# imageProductType = \"ncc_scaled_-1\"\n",
    "# overwrite = {\"imgSet\": False, \"imgProd\": False, \"embedding\": False}\n",
    "# weight = None\n",
    "# embeddingType = f\"pencorr_{dimensions}\"\n",
    "# k = 7\n",
    "# imageType = \"MNIST\"\n",
    "\n",
    "# model_directory = \"model\"\n",
    "\n",
    "# transform = transforms.Compose([\n",
    "#     transforms.Resize((32, 32)),\n",
    "#     transforms.ToTensor(),\n",
    "#     transforms.Normalize((0.5,), (0.5,))\n",
    "# ])\n",
    "\n",
    "# MNIST_data= torchvision.datasets.MNIST(root=\"../data\", train=False, transform=transform)\n",
    "# print(len(MNIST_data)) #Total unique images: 10000\n",
    "\n",
    "# random.seed(42)\n",
    "# sample_indices = random.sample(range(len(MNIST_data)), 500)\n",
    "# sampled_test_data = Subset(MNIST_data, sample_indices)\n",
    "\n",
    "# testSample = [\n",
    "#     sampled_test_data[i][0].squeeze().cpu().numpy().astype(np.float32)\n",
    "#     for i in range(len(sampled_test_data))\n",
    "# ]\n",
    "# print(len(testSample))\n",
    "\n",
    "# ----------------------------------Image Input----------------------------------\n",
    "IMAGE_TYPES = [\"NbinMmax_ones\", \"Nbin\", \"triangles\", \"triangle_mean_subtracted\"]\n",
    "\n",
    "IMAGE_FILTERS = [\"unique\", \"Nmax_ones\", \"one_island\"]\n",
    "\n",
    "IMAGE_PRODUCT_TYPES = [\"ncc\", \"ncc_scaled\"]\n",
    "\n",
    "EMBEDDING_TYPES = [\"pencorr_D\"]\n",
    "\n",
    "dimensions = 256\n",
    "imageProductType = \"ncc_scaled_-1\"\n",
    "overwrite = {\"imgSet\": False, \"imgProd\": False, \"embedding\": False}\n",
    "weight = None\n",
    "embeddingType = f\"pencorr_{dimensions}\"\n",
    "k = 7\n",
    "imageType = \"MNIST\"\n",
    "\n",
    "model_directory = \"model\"\n",
    "\n",
    "transform = transforms.Compose([\n",
    "    transforms.Resize((32, 32)),\n",
    "    transforms.ToTensor(),\n",
    "    transforms.Normalize((0.5,), (0.5,))\n",
    "])\n",
    "\n",
    "MNIST_data= torchvision.datasets.MNIST(root=\"../data\", train=False, transform=transform)\n",
    "print(len(MNIST_data)) #Total unique images: 10000\n",
    "\n",
    "random.seed(42)\n",
    "sample_indices = random.sample(range(len(MNIST_data)), 500)\n",
    "sampled_test_data = Subset(MNIST_data, sample_indices)\n",
    "\n",
    "input_dataset = []\n",
    "testSample = []\n",
    "num = len(sampled_test_data)\n",
    "for i in range(len(sampled_test_data)):\n",
    "    img_tensor = sampled_test_data[i][0] \n",
    "    input_dataset.append(img_tensor.unsqueeze(0).to(device).float())\n",
    "    img_numpy = img_tensor.squeeze().squeeze().cpu().numpy().astype(np.float32)\n",
    "    testSample.append(img_numpy)\n",
    "    #print(img_numpy)\n",
    "\n",
    "\n",
    "print(len(testSample))"
   ]
  },
  {
   "cell_type": "code",
   "execution_count": 4,
   "id": "2fcca666-4526-4190-9447-c7e50c8901cc",
   "metadata": {
    "tags": []
   },
   "outputs": [
    {
     "name": "stdout",
     "output_type": "stream",
     "text": [
      "Label 0: 46 images\n",
      "Label 1: 60 images\n",
      "Label 2: 60 images\n",
      "Label 3: 57 images\n",
      "Label 4: 41 images\n",
      "Label 5: 45 images\n",
      "Label 6: 33 images\n",
      "Label 7: 55 images\n",
      "Label 8: 44 images\n",
      "Label 9: 59 images\n"
     ]
    },
    {
     "data": {
      "image/png": "[encoded data removed]",
      "text/plain": [
       "<Figure size 640x480 with 1 Axes>"
      ]
     },
     "metadata": {},
     "output_type": "display_data"
    }
   ],
   "source": [
    "sampled_labels = [sampled_test_data[i][1] for i in range(len(sampled_test_data))]\n",
    "label_counts = Counter(sampled_labels)\n",
    "\n",
    "for label in sorted(label_counts):\n",
    "    print(f\"Label {label}: {label_counts[label]} images\")\n",
    "\n",
    "plt.bar(label_counts.keys(), label_counts.values())\n",
    "plt.xlabel('Digit')\n",
    "plt.ylabel('Number of Images')\n",
    "plt.title('Class Distribution in Sampled MNIST Subset (500 images)')\n",
    "plt.xticks(range(10))\n",
    "plt.show()"
   ]
  },
  {
   "cell_type": "code",
   "execution_count": 11,
   "id": "17d462bc-71d2-4b9f-b2d7-b476c776dbc4",
   "metadata": {
    "tags": []
   },
   "outputs": [],
   "source": [
    "# from scipy.stats import gaussian_kde\n",
    "\n",
    "\n",
    "# matrixG = imgcalc.get_matrixG(testSample, imageProductType)\n",
    "# upper_triangle = matrixG[np.triu_indices_from(matrixG, k=0)]\n",
    "\n",
    "# mean_val = np.mean(upper_triangle)\n",
    "# density = gaussian_kde(upper_triangle)\n",
    "# x_vals = np.linspace(min(upper_triangle), max(upper_triangle), 500)\n",
    "# density_vals = density(x_vals)\n",
    "# plt.hist(upper_triangle, bins='auto', edgecolor='black', density=True, alpha=0.6, label='Histogram')\n",
    "# plt.plot(x_vals, density_vals, color='blue', linewidth=2, label='Density Curve')\n",
    "# plt.axvline(mean_val, color='red', linestyle='dashed', linewidth=1.5, label=f'Mean = {mean_val:.2f}')\n",
    "# plt.title(\"Distribution of NCC Scores in MNIST Test Set\")\n",
    "# plt.xlabel(\"Value\")\n",
    "# plt.ylabel(\"Density\")\n",
    "# plt.legend()\n",
    "# plt.show()"
   ]
  },
  {
   "cell_type": "code",
   "execution_count": 34,
   "id": "8e709db4",
   "metadata": {},
   "outputs": [],
   "source": [
    "import src.data_processing.ImageCalculations as imgcalc\n",
    "import src.data_processing.ImageProducts as ImageProducts\n",
    "import src.helpers.MetricUtilities as metrics\n",
    "%reload_ext autoreload\n",
    "\n",
    "%autoreload 2"
   ]
  },
  {
   "cell_type": "code",
   "execution_count": 33,
   "id": "07c452ae",
   "metadata": {},
   "outputs": [],
   "source": [
    "# random testing for metric\n",
    "import src.data_processing.ImageProducts as ImageProducts\n",
    "import src.helpers.MetricUtilities as metrics\n",
    "\n",
    "\n",
    "index = np.random.randint(len(testSample))\n",
    "input1 = input_dataset[index][0].squeeze().to('cpu').numpy()\n",
    "index = np.random.randint(len(testSample))\n",
    "input2 = input_dataset[index][0].squeeze().to('cpu').numpy()\n",
    "index = np.random.randint(len(testSample))\n",
    "input3 = input_dataset[index][0].squeeze().to('cpu').numpy()\n",
    "\n",
    "for i in range(1000):\n",
    "    dist1 = metrics.distance(input1, input3)\n",
    "    dist2 = metrics.distance(input1, input2)\n",
    "    dist3 = metrics.distance(input2, input3)\n",
    "    if (dist1 > dist2 + dist3):\n",
    "        print(\"WE FAILED\")\n",
    "        imgplt.plot_original_images(input1, input2, index, index)\n",
    "        imgplt.plot_original_images(input2, input3, index, index)\n",
    "        print((dist1, dist2, dist3))\n",
    "    index = np.random.randint(len(testSample))\n",
    "    input1 = input2\n",
    "    input2 = input3\n",
    "    input3 = input_dataset[index][0].squeeze().to('cpu').numpy()"
   ]
  },
  {
   "cell_type": "code",
   "execution_count": 14,
   "id": "ad49a0fa",
   "metadata": {},
   "outputs": [
    {
     "name": "stdout",
     "output_type": "stream",
     "text": [
      "[[1.         0.77062237 0.77306217 ... 0.7857399  0.77486873 0.75619906]\n",
      " [0.77062237 1.         0.80142546 ... 0.94857055 0.86316425 0.81493616]\n",
      " [0.77306217 0.80142546 1.         ... 0.83386266 0.79865223 0.81667954]\n",
      " ...\n",
      " [0.7857399  0.94857055 0.83386266 ... 1.         0.853854   0.84523278]\n",
      " [0.77486873 0.86316425 0.79865223 ... 0.853854   1.         0.77381521]\n",
      " [0.75619906 0.81493616 0.81667954 ... 0.84523278 0.77381521 1.        ]]\n"
     ]
    }
   ],
   "source": [
    "matrixG = imgcalc.get_matrixG(testSample, \"ncc\")\n",
    "print(matrixG)"
   ]
  },
  {
   "cell_type": "code",
   "execution_count": 15,
   "id": "8620129e",
   "metadata": {},
   "outputs": [
    {
     "name": "stdout",
     "output_type": "stream",
     "text": [
      "[[1.         0.77062237 0.77306217 ... 0.7857399  0.77486873 0.75619906]\n",
      " [0.77062237 1.         0.80142546 ... 0.94857055 0.86316425 0.81493616]\n",
      " [0.77306217 0.80142546 1.         ... 0.83386266 0.79865223 0.81667954]\n",
      " ...\n",
      " [0.7857399  0.94857055 0.83386266 ... 1.         0.853854   0.84523278]\n",
      " [0.77486873 0.86316425 0.79865223 ... 0.853854   1.         0.77381521]\n",
      " [0.75619906 0.81493616 0.81667954 ... 0.84523278 0.77381521 1.        ]]\n",
      "[[0.         0.439891   0.4374481  ... 0.42456487 0.43563186 0.45410831]\n",
      " [0.439891   0.         0.40815067 ... 0.20505963 0.33695842 0.39354389]\n",
      " [0.4374481  0.40815067 0.         ... 0.37224893 0.41109342 0.39162477]\n",
      " ...\n",
      " [0.42456487 0.20505963 0.37224893 ... 0.         0.34851823 0.3589235 ]\n",
      " [0.43563186 0.33695842 0.41109342 ... 0.34851823 0.         0.43669179]\n",
      " [0.45410831 0.39354389 0.39162477 ... 0.3589235  0.43669179 0.        ]]\n"
     ]
    }
   ],
   "source": [
    "print(matrixG)\n",
    "\n",
    "dist_vec = metrics.getDistance(matrixG[0])\n",
    "G_prime = metrics.getDistanceMatrix(matrixG)\n",
    "print(G_prime)\n",
    "#print(G_prime[0])\n",
    "#print(\"DIST VEC\")\n",
    "#print(dist_vec)\n",
    "#print(dist_vec.shape)"
   ]
  },
  {
   "cell_type": "code",
   "execution_count": null,
   "id": "bcebedd1",
   "metadata": {},
   "outputs": [],
   "source": [
    "from mtree.mtree import MTree\n",
    "import mtree.mtree as mtree\n",
    "\n",
    "# Omg it's cooking and it's q fast too hehe\n",
    "\n",
    "def tree_len(tree):\n",
    "    \"\"\"Count the number of element in a tree by inspecting the nodes\"\"\"\n",
    "    def node_len(node):\n",
    "        if isinstance(node, mtree.InternalNode):\n",
    "            return sum(node_len(e.subtree) for e in node.entries)\n",
    "        else:\n",
    "            return len(node.entries)\n",
    "    return node_len(tree.root)\n",
    "\n",
    "# Note it can only find up to max_node_size nearest neighbors...\n",
    "tree = MTree(metrics.distance, max_node_size=5)\n",
    "#testSamples = mnist_test_dataload()\n",
    "tree.add_all(testSample)\n",
    "#print(tree_len(tree))\n",
    "test_img = testSample[0]\n",
    "k = 5\n",
    "l = tree.search(test_img, k)\n",
    "#print(metrics.distance(testSample[0], testSample[0]))\n",
    "imgs = list(l)\n",
    "#print(imgs)\n",
    "\n",
    "#imgplt.plot_original_images(list(l)[0], testSample[0], 10, 0)\n"
   ]
  },
  {
   "cell_type": "code",
   "execution_count": 56,
   "id": "0084a839",
   "metadata": {},
   "outputs": [
    {
     "data": {
      "image/png": "[encoded data removed]",
      "text/plain": [
       "<Figure size 1000x500 with 2 Axes>"
      ]
     },
     "metadata": {},
     "output_type": "display_data"
    },
    {
     "name": "stdout",
     "output_type": "stream",
     "text": [
      "0.0\n"
     ]
    },
    {
     "data": {
      "image/png": "[encoded data removed]",
      "text/plain": [
       "<Figure size 1000x500 with 2 Axes>"
      ]
     },
     "metadata": {},
     "output_type": "display_data"
    },
    {
     "name": "stdout",
     "output_type": "stream",
     "text": [
      "0.20832156585813433\n"
     ]
    },
    {
     "data": {
      "image/png": "[encoded data removed]",
      "text/plain": [
       "<Figure size 1000x500 with 2 Axes>"
      ]
     },
     "metadata": {},
     "output_type": "display_data"
    },
    {
     "name": "stdout",
     "output_type": "stream",
     "text": [
      "0.21287737406594653\n"
     ]
    },
    {
     "data": {
      "image/png": "[encoded data removed]",
      "text/plain": [
       "<Figure size 1000x500 with 2 Axes>"
      ]
     },
     "metadata": {},
     "output_type": "display_data"
    },
    {
     "name": "stdout",
     "output_type": "stream",
     "text": [
      "0.23304404203433854\n"
     ]
    },
    {
     "data": {
      "image/png": "[encoded data removed]",
      "text/plain": [
       "<Figure size 1000x500 with 2 Axes>"
      ]
     },
     "metadata": {},
     "output_type": "display_data"
    },
    {
     "name": "stdout",
     "output_type": "stream",
     "text": [
      "0.23647709939503067\n"
     ]
    }
   ],
   "source": [
    "for i in range(k):\n",
    "    if (imgs[i] is not None):\n",
    "        imgplt.plot_original_images(imgs[i], testSample[0], 10, 0)\n",
    "        print(metrics.distance(imgs[i], testSample[0]))"
   ]
  },
  {
   "cell_type": "markdown",
   "id": "f47db3a0-060e-4538-a571-6b4e33d9ea4c",
   "metadata": {},
   "source": [
    "# Visualiation and Calculation using 2 random inputs"
   ]
  },
  {
   "cell_type": "code",
   "execution_count": 11,
   "id": "53f17c94-c8f0-421a-be0f-2ece071ead62",
   "metadata": {
    "tags": []
   },
   "outputs": [
    {
     "data": {
      "image/png": "[encoded data removed]",
      "text/plain": [
       "<Figure size 1000x500 with 2 Axes>"
      ]
     },
     "metadata": {},
     "output_type": "display_data"
    }
   ],
   "source": [
    "\n",
    "# index1 = np.random.randint(len(testSample))\n",
    "# index2 = np.random.randint(len(testSample))\n",
    "# input1=torch.from_numpy(testSample[index1]).squeeze()\n",
    "# input2=torch.from_numpy(testSample[index2]).squeeze()\n",
    "\n",
    "# imgplt.plot_original_images(input1, input2, index1, index2)\n",
    "\n",
    "# # ------------------------- Preprocessing Dataset ------------------------\n",
    "# input_dataset = [\n",
    "#     torch.from_numpy(testSample[i]).unsqueeze(0).unsqueeze(0).to(device).double()  #numpy -> tensor\n",
    "#     for i in range(len(testSample))\n",
    "# ]\n",
    "\n",
    "# stacked_tensor = torch.stack(input_dataset)             \n",
    "# input_dataset = stacked_tensor.cpu().numpy()             \n",
    "# input_dataset = [torch.tensor(img).to(device).float() for img in input_dataset] \n",
    "# \n",
    "\n",
    "\n",
    "index1 = np.random.randint(len(testSample))\n",
    "index2 = np.random.randint(len(testSample))\n",
    "input1=input_dataset[index1][0].squeeze().to('cpu')\n",
    "input2=input_dataset[index2][0].squeeze().to('cpu')\n",
    "\n",
    "imgplt.plot_original_images(input1.numpy(), input2.numpy(), index1, index2)\n",
    "\n",
    "\n",
    "# test1 = np.array([[-1,-1,-1,-1], \n",
    "#                   [-1,-0.95,-0.93,-1],\n",
    "#                   [-1,-0.9,-0.88,-1],\n",
    "#                   [-1,-1,-1,0.5]])\n",
    "\n",
    "# test2 = np.array([[-1,-1,-1,-1], \n",
    "#                   [-1,0.5,0.47,-1],\n",
    "#                   [-1,0.44,0.43,-1],\n",
    "#                   [-1,-1,-1,0.5]])\n",
    "\n",
    "# test3 = np.array([[-0.95,-0.93,-1,-1], \n",
    "#                   [-0.9,-0.88,-1,-1],\n",
    "#                   [-1,-1,0.5,0.47],\n",
    "#                   [-1,-1,0.44,0.43]])\n",
    "# i = 0\n",
    "# j = 1\n",
    "# imgplt.plot_original_images(test1, test2, i, j)\n",
    "# imgplt.plot_original_images(test2, test3, i, j)\n",
    "\n",
    "# import src.data_processing.ImageProducts as ImageProducts\n",
    "\n",
    "# print(ImageProducts.ncc(test1, test2))\n",
    "# print(ImageProducts.ncc(test2, test3))\n",
    "# print(ImageProducts.ncc(test1, test3))\n",
    "\n",
    "\n",
    "# dist1 = metrics.distance(test1, test3)\n",
    "# dist2 = metrics.distance(test1, test2)\n",
    "# dist3 = metrics.distance(test2, test3)\n",
    "\n",
    "# if (dist1 > dist2 + dist3):\n",
    "#     print(\"WE FAILED\")\n",
    "#     #imgplt.plot_original_images(input1, input2, index, index)\n",
    "#     #imgplt.plot_original_images(input2, input3, index, index)\n",
    "#     print((dist1, dist2, dist3))"
   ]
  },
  {
   "cell_type": "code",
   "execution_count": 62,
   "id": "e20f837a-2450-4b5a-9af0-919ddc7e2477",
   "metadata": {
    "tags": []
   },
   "outputs": [
    {
     "data": {
      "text/plain": [
       "SimpleCNN4(\n",
       "  (conv1): Conv2d(1, 16, kernel_size=(3, 3), stride=(1, 1), padding=(1, 1), padding_mode=circular)\n",
       "  (lpd1): PolyphaseInvariantDown2D(\n",
       "    (component_selection): LPS(\n",
       "      (get_logits): LPSLogitLayersV2(\n",
       "        (conv1): Conv2d(16, 16, kernel_size=(3, 3), stride=(1, 1), padding=same, padding_mode=circular)\n",
       "        (conv2): Conv2d(16, 16, kernel_size=(3, 3), stride=(1, 1), padding=same, padding_mode=circular)\n",
       "        (relu): ReLU()\n",
       "      )\n",
       "    )\n",
       "  )\n",
       "  (bn1): BatchNorm2d(16, eps=1e-05, momentum=0.1, affine=True, track_running_stats=True)\n",
       "  (relu): LeakyReLU(negative_slope=0.1)\n",
       "  (conv2): Conv2d(16, 32, kernel_size=(3, 3), stride=(1, 1), padding=(1, 1), padding_mode=circular)\n",
       "  (lpd2): PolyphaseInvariantDown2D(\n",
       "    (component_selection): LPS(\n",
       "      (get_logits): LPSLogitLayersV2(\n",
       "        (conv1): Conv2d(32, 32, kernel_size=(3, 3), stride=(1, 1), padding=same, padding_mode=circular)\n",
       "        (conv2): Conv2d(32, 32, kernel_size=(3, 3), stride=(1, 1), padding=same, padding_mode=circular)\n",
       "        (relu): ReLU()\n",
       "      )\n",
       "    )\n",
       "  )\n",
       "  (bn2): BatchNorm2d(32, eps=1e-05, momentum=0.1, affine=True, track_running_stats=True)\n",
       "  (conv3): Conv2d(32, 64, kernel_size=(3, 3), stride=(1, 1), padding=(1, 1), padding_mode=circular)\n",
       "  (lpd3): PolyphaseInvariantDown2D(\n",
       "    (component_selection): LPS(\n",
       "      (get_logits): LPSLogitLayersV2(\n",
       "        (conv1): Conv2d(64, 64, kernel_size=(3, 3), stride=(1, 1), padding=same, padding_mode=circular)\n",
       "        (conv2): Conv2d(64, 64, kernel_size=(3, 3), stride=(1, 1), padding=same, padding_mode=circular)\n",
       "        (relu): ReLU()\n",
       "      )\n",
       "    )\n",
       "  )\n",
       "  (bn3): BatchNorm2d(64, eps=1e-05, momentum=0.1, affine=True, track_running_stats=True)\n",
       "  (conv4): Conv2d(64, 128, kernel_size=(3, 3), stride=(1, 1), padding=(1, 1), padding_mode=circular)\n",
       "  (lpd4): PolyphaseInvariantDown2D(\n",
       "    (component_selection): LPS(\n",
       "      (get_logits): LPSLogitLayersV2(\n",
       "        (conv1): Conv2d(128, 128, kernel_size=(3, 3), stride=(1, 1), padding=same, padding_mode=circular)\n",
       "        (conv2): Conv2d(128, 128, kernel_size=(3, 3), stride=(1, 1), padding=same, padding_mode=circular)\n",
       "        (relu): ReLU()\n",
       "      )\n",
       "    )\n",
       "  )\n",
       "  (bn4): BatchNorm2d(128, eps=1e-05, momentum=0.1, affine=True, track_running_stats=True)\n",
       "  (avgpool): AdaptiveAvgPool2d(output_size=(1, 1))\n",
       "  (fc): Linear(in_features=128, out_features=128, bias=True)\n",
       ")"
      ]
     },
     "execution_count": 62,
     "metadata": {},
     "output_type": "execute_result"
    }
   ],
   "source": [
    "model = models.SimpleCNN4(dimensions=dimensions, padding_mode='circular').to(device)\n",
    "dimensions = 128\n",
    "model.load_state_dict(torch.load(os.path.join(os.path.abspath(\"../\"), model_directory, \n",
    "                                              f'best_model_MNIST_{imageType}_{dimensions}d_convlayer3_SimpleCNN4_CBAM_dropout.pt'), weights_only=True, map_location=torch.device('cpu')), strict=False)\n",
    "model.eval()\n",
    "\n",
    "# dimensions = 128\n",
    "# model = tcnnmodels.CircleLayers2(0.5, dimensions=dimensions, padding_mode='circular').to(device)\n",
    "# model.load_state_dict(torch.load(os.path.join(os.path.abspath(\"../../VecRepV3\"), model_directory, \n",
    "#                                                f'best_model_MNIST_{imageType}_{dimensions}d_convlayer3_CircleLayers2.pt'), weights_only=True, map_location=device), strict=False)\n",
    "# model.eval()\n",
    "\n",
    "# model = tcnnmodels.KleinLayers2(2, dimensions=dimensions, padding_mode='circular').to(device)\n",
    "# dimensions = 128\n",
    "# model.load_state_dict(torch.load(os.path.join(os.path.abspath(\"../../VecRepV3\"), model_directory, \n",
    "#                                                f'best_model_MNIST_{imageType}_{dimensions}d_convlayer3_KleinLayers2.pt'), weights_only=True, map_location=torch.device('cpu')), strict=False)\n",
    "# model.eval()\n",
    "\n",
    "\n"
   ]
  },
  {
   "cell_type": "code",
   "execution_count": 63,
   "id": "5905ff26",
   "metadata": {},
   "outputs": [],
   "source": [
    "import src.data_processing.ImageCalculations as imgcalc\n",
    "%reload_ext autoreload\n",
    "\n",
    "%autoreload 2"
   ]
  },
  {
   "cell_type": "code",
   "execution_count": 64,
   "id": "e2e712c4",
   "metadata": {},
   "outputs": [
    {
     "name": "stdout",
     "output_type": "stream",
     "text": [
      "[[1.         0.54124475 0.54612434 ... 0.5714798  0.54973745 0.51239812]\n",
      " [0.54124475 1.         0.60285091 ... 0.8971411  0.72632849 0.62987232]\n",
      " [0.54612434 0.60285091 1.         ... 0.66772532 0.59730446 0.63335907]\n",
      " ...\n",
      " [0.5714798  0.8971411  0.66772532 ... 1.         0.707708   0.69046557]\n",
      " [0.54973745 0.72632849 0.59730446 ... 0.707708   1.         0.54763043]\n",
      " [0.51239812 0.62987232 0.63335907 ... 0.69046557 0.54763043 1.        ]]\n",
      "[[ 7.62528487e-01  8.45648883e-01  7.65108752e-01 ...  8.77449799e-01\n",
      "   8.01426419e-01  7.70271689e-01]\n",
      " [ 5.73130635e-02 -2.27424928e-01  1.02168819e-01 ... -3.14057676e-01\n",
      "   8.40154780e-02  1.37337799e-02]\n",
      " [-4.27991889e-02  6.01770368e-02 -2.58762627e-01 ... -1.61504600e-02\n",
      "  -2.18360844e-01 -1.16068409e-01]\n",
      " ...\n",
      " [ 0.00000000e+00 -6.47867956e-10 -9.36989934e-10 ...  2.10068575e-09\n",
      "  -2.70749058e-10  8.73292516e-10]\n",
      " [ 0.00000000e+00 -1.75672961e-10 -3.91596186e-11 ... -6.31044075e-09\n",
      "  -4.29693214e-09 -4.55670961e-09]\n",
      " [ 0.00000000e+00 -8.91871677e-10  3.27445620e-09 ...  1.21886644e-09\n",
      "  -2.43709654e-09 -3.42747847e-09]]\n",
      "[[1.         0.55007799 0.56582896 ... 0.58312934 0.55938368 0.52466208]\n",
      " [0.55007799 1.         0.60858059 ... 0.90392131 0.71302792 0.6363942 ]\n",
      " [0.56582896 0.60858059 1.         ... 0.66102767 0.60609376 0.64877897]\n",
      " ...\n",
      " [0.58312934 0.90392131 0.66102767 ... 1.         0.70781518 0.68806324]\n",
      " [0.55938368 0.71302792 0.60609376 ... 0.70781518 1.         0.55321678]\n",
      " [0.52466208 0.6363942  0.64877897 ... 0.68806324 0.55321678 1.        ]]\n"
     ]
    }
   ],
   "source": [
    "\n",
    "matrixG = imgcalc.get_matrixG(testSample, imageProductType)\n",
    "print(matrixG)\n",
    "# Why is my matrix A not deterministic UHM\n",
    "matrixA = imgcalc.get_matrixA(matrixG, embeddingType, weight)\n",
    "print(matrixA)\n",
    "dot_product_matrix = matrixA.T @ matrixA\n",
    "print(dot_product_matrix)\n",
    "# other_dot_product_matrix = np.dot(matrixA.T, matrixA)\n",
    "# print(other_dot_product_matrix)"
   ]
  },
  {
   "cell_type": "code",
   "execution_count": null,
   "id": "86da69c9",
   "metadata": {},
   "outputs": [],
   "source": [
    "# # Why is my matrix A not deterministic UHM\n",
    "print(\"FIRST MATRIX A\")\n",
    "matrixA = imgcalc.get_matrixA(matrixG, embeddingType, weight)\n",
    "print(matrixA)\n",
    "\n",
    "print(\"SECOND MATRIX A\")\n",
    "matrixA = imgcalc.get_matrixA(matrixG, embeddingType, weight)\n",
    "print(matrixA)"
   ]
  },
  {
   "cell_type": "markdown",
   "id": "19fbe338-44c9-487a-a5df-741663761fbe",
   "metadata": {},
   "source": [
    "### Visualisation of Loss score calculation -- Metric 1"
   ]
  },
  {
   "cell_type": "code",
   "execution_count": 53,
   "id": "ef10228c-7eb7-4619-861e-768c94b38933",
   "metadata": {
    "tags": []
   },
   "outputs": [
    {
     "name": "stdout",
     "output_type": "stream",
     "text": [
      "\n",
      "Loss Calculation\n",
      "\n",
      "Scaled NCC:  0.5427107810974121\n",
      "\n",
      "Dot product value of model embeddings:  0.4707527160644531\n",
      "Loss:  0.07195806503295898\n",
      "\n",
      "Dot product value of model transformed embeddings:  0.4707527160644531\n",
      "Loss:  0.07195806503295898\n",
      "\n",
      "Dot product value of model transformed normalised embeddings:  0.4707527160644531\n",
      "Loss:  0.07195806503295898\n",
      "\n",
      "Dot product value of BF Method embeddings:  0.5435927627149868\n",
      "Loss:  0.0008819699287414551\n",
      "\n",
      "Difference in values of BF Method and Model Method:  0.07284003496170044\n"
     ]
    }
   ],
   "source": [
    "# #----------------------Metric 1 - Loss Calculation-----------------\n",
    "# NCC_scaled_value = imgcalc.get_NCC_score(input1, input2)\n",
    "# print(\"\\nLoss Calculation\")\n",
    "# print(\"\\nScaled NCC: \",NCC_scaled_value)\n",
    "\n",
    "# matrixG = imgcalc.get_matrixG(testSample, imageProductType)\n",
    "# matrixA = imgcalc.get_matrixA(matrixG, embeddingType, weight)\n",
    "\n",
    "# model_vectors = imgcalc.get_vector_embeddings(input_dataset, model)\n",
    "# #model_transformed, error_model = imgcalc.get_orthogonal_transformation(model_vectors, matrixA) #transposed\n",
    "# #model_transformed = [torch.tensor(row, dtype=torch.float32, device= device).unsqueeze(0).requires_grad_() for row in model_transformed]\n",
    "\n",
    "# dot_product_value = imgcalc.get_dp_score(model_vectors[index1], model_vectors[index2])\n",
    "\n",
    "# print(\"\\nDot product value of model embeddings: \", dot_product_value.item())\n",
    "\n",
    "# train_loss_value = imgcalc.get_loss_value(dot_product_value, NCC_scaled_value) \n",
    "# print(\"Loss: \", train_loss_value)\n",
    "\n",
    "# #dot_product_value = imgcalc.get_dp_score(model_transformed[index1], model_transformed[index2])\n",
    "\n",
    "# print(\"\\nDot product value of model transformed embeddings: \", dot_product_value.item())\n",
    "\n",
    "# train_loss_value = imgcalc.get_loss_value(dot_product_value, NCC_scaled_value) \n",
    "# print(\"Loss: \", train_loss_value)\n",
    "\n",
    "# #input1_transformed_normalised =  model_transformed[index1]/np.linalg.norm(model_transformed[index1].detach().cpu().numpy())\n",
    "# #input2_transformed_normalised =  model_transformed[index2]/np.linalg.norm(model_transformed[index2].detach().cpu().numpy())\n",
    "# #dot_product_value = imgcalc.get_dp_score(input1_transformed_normalised, input2_transformed_normalised)\n",
    "\n",
    "# #print(\"\\nDot product value of model transformed normalised embeddings: \", dot_product_value.item())\n",
    "\n",
    "# train_loss_value = imgcalc.get_loss_value(dot_product_value, NCC_scaled_value) \n",
    "# print(\"Loss: \", train_loss_value)\n",
    "\n",
    "# dot_product_matrix = np.dot(matrixA.T, matrixA)\n",
    "# dot_product_value_Pencorr = dot_product_matrix[index1][index2]\n",
    "# difference = abs(dot_product_value_Pencorr - dot_product_value)\n",
    "\n",
    "# print(\"\\nDot product value of BF Method embeddings: \", dot_product_value_Pencorr)\n",
    "\n",
    "# train_loss_value = imgcalc.get_loss_value(torch.tensor(dot_product_value_Pencorr), NCC_scaled_value) \n",
    "# print(\"Loss: \", train_loss_value)\n",
    "# print(\"\\nDifference in values of BF Method and Model Method: \", difference.item())\n",
    "\n",
    "#----------------------Metric 1 - Loss Calculation-----------------\n",
    "import src.data_processing.ImageCalculations as imgcalc\n",
    "%reload_ext autoreload\n",
    "\n",
    "%autoreload 2\n",
    "\n",
    "NCC_scaled_value = imgcalc.get_NCC_score(input1.numpy(), input2.numpy())\n",
    "#print(matrixG[index1][index2])\n",
    "print(\"\\nLoss Calculation\")\n",
    "print(\"\\nScaled NCC: \", NCC_scaled_value)\n",
    "\n",
    "matrixG = imgcalc.get_matrixG(testSample, imageProductType)\n",
    "matrixA = imgcalc.get_matrixA(matrixG, embeddingType, weight)\n",
    "\n",
    "model_vectors = imgcalc.get_vector_embeddings(input_dataset, model)\n",
    "# model_transformed, error_model = imgcalc.get_orthogonal_transformation(model_vectors, matrixA) #transposed\n",
    "# model_transformed = [torch.tensor(row, dtype=torch.float32, device= device).unsqueeze(0).requires_grad_() for row in model_transformed]\n",
    "\n",
    "dot_product_value = imgcalc.get_dp_score(model_vectors[index1], model_vectors[index2])\n",
    "\n",
    "print(\"\\nDot product value of model embeddings: \", dot_product_value.item())\n",
    "\n",
    "train_loss_value = imgcalc.get_loss_value(dot_product_value, NCC_scaled_value) \n",
    "print(\"Loss: \", train_loss_value)\n",
    "\n",
    "# dot_product_value = imgcalc.get_dp_score(model_transformed[index1], model_transformed[index2])\n",
    "\n",
    "print(\"\\nDot product value of model transformed embeddings: \", dot_product_value.item())\n",
    "\n",
    "train_loss_value = imgcalc.get_loss_value(dot_product_value, NCC_scaled_value) \n",
    "print(\"Loss: \", train_loss_value)\n",
    "\n",
    "# input1_transformed_normalised =  model_transformed[index1]/np.linalg.norm(model_transformed[index1].detach().cpu().numpy())\n",
    "# input2_transformed_normalised =  model_transformed[index2]/np.linalg.norm(model_transformed[index2].detach().cpu().numpy())\n",
    "# dot_product_value = imgcalc.get_dp_score(input1_transformed_normalised, input2_transformed_normalised)\n",
    "\n",
    "print(\"\\nDot product value of model transformed normalised embeddings: \", dot_product_value.item())\n",
    "\n",
    "train_loss_value = imgcalc.get_loss_value(dot_product_value, NCC_scaled_value) \n",
    "print(\"Loss: \", train_loss_value)\n",
    "\n",
    "# dot_product_matrix = np.dot(matrixA.T, matrixA)\n",
    "dot_product_matrix = matrixA.T @ matrixA\n",
    "dot_product_value_Pencorr = dot_product_matrix[index1][index2]\n",
    "difference = abs(dot_product_value_Pencorr - dot_product_value)\n",
    "\n",
    "print(\"\\nDot product value of BF Method embeddings: \", dot_product_value_Pencorr)\n",
    "\n",
    "train_loss_value = imgcalc.get_loss_value(torch.tensor(dot_product_value_Pencorr), NCC_scaled_value) \n",
    "print(\"Loss: \", train_loss_value)\n",
    "print(\"\\nDifference in values of BF Method and Model Method: \", difference.item())"
   ]
  },
  {
   "cell_type": "code",
   "execution_count": null,
   "id": "5c15fc52",
   "metadata": {},
   "outputs": [],
   "source": [
    "matrixG = imgcalc.get_matrixG(testSample, imageProductType)\n",
    "matrixA = imgcalc.get_matrixA(matrixG, embeddingType, weight)"
   ]
  },
  {
   "cell_type": "code",
   "execution_count": 59,
   "id": "917c6fac",
   "metadata": {},
   "outputs": [
    {
     "name": "stdout",
     "output_type": "stream",
     "text": [
      "Brute Force k-score average over 1000 images: 0.8117818181818283\n",
      "Model k-score average over 1000 images: 0.21431439671439542\n"
     ]
    }
   ],
   "source": [
    "# WRITE CODE TO GET OUT AVERAGE K-SCORE OVER A BUNCHA DIFF IMAGES.\n",
    "\n",
    "n = 1000\n",
    "k_score_total_brute = 0\n",
    "k_score_total_model = 0\n",
    "\n",
    "for i in range(n):\n",
    "    index1 = np.random.randint(len(testSample))\n",
    "    input1=input_dataset[index1][0].squeeze().to('cpu')\n",
    "    \n",
    "    vectorb_bf1 = matrixG[index1]\n",
    "    vectorc_bf1 = imgcalc.get_vectorc_brute(index1, matrixA)\n",
    "    kscore, indices, intersection_indices = imgcalc.get_kscore_and_sets(vectorb_bf1, vectorc_bf1, k)\n",
    "    k_score_total_brute += kscore\n",
    "\n",
    "    vectorb_model1 = matrixG[index1]\n",
    "    vectorc_model1 = imgcalc.get_vectorc_model(index1, model, input_dataset)\n",
    "    kscore, indices, intersection_indices = imgcalc.get_kscore_and_sets(vectorb_model1, vectorc_model1, k)\n",
    "    k_score_total_model += kscore\n",
    "\n",
    "print(\"Brute Force k-score average over {} images: {}\".format(n, k_score_total_brute / n))\n",
    "print(\"Model k-score average over {} images: {}\".format(n, k_score_total_model / n))\n",
    "\n",
    "    "
   ]
  },
  {
   "cell_type": "markdown",
   "id": "37c8b6ff-d77b-42c2-b94c-ea7ccc985d9b",
   "metadata": {},
   "source": [
    "### Visualisation of KNN-IoU K score calculation -- Metric 2"
   ]
  },
  {
   "cell_type": "code",
   "execution_count": null,
   "id": "c3a5c82c-09bb-4629-8477-c1f01a2c004b",
   "metadata": {
    "tags": []
   },
   "outputs": [
    {
     "name": "stdout",
     "output_type": "stream",
     "text": [
      "----------------\n",
      "Brute Force Method -- KNN-IOU score\n",
      "----------------\n",
      "Estimating K-Score for Image 139: K-Score = 0.7777777777777778\n",
      "Intersection sets : [ 15  45  85 139 264 467 499]\n",
      "Union sets: [ 15  45  85 139 155 235 264 467 499]\n",
      "\n",
      "Comparison between vector c and vector b\n",
      " Index  Vector b Value (NCC value)  Vector c Value (Dot product value)\n",
      "   139                    1.000000                            1.000000\n",
      "    15                    0.741660                            0.748314\n",
      "    45                    0.745429                            0.753700\n",
      "    85                    0.778811                            0.802815\n",
      "   155                    0.736284                            0.725454\n",
      "   235                    0.726469                            0.737356\n",
      "   264                    0.778334                            0.784424\n",
      "   467                    0.734277                            0.729584\n",
      "   499                    0.748761                            0.755868\n",
      "\n",
      "Comparing images in intersection & union sets\n",
      "\n",
      "Plotting images in the intersection set:\n"
     ]
    },
    {
     "data": {
      "image/png": "[encoded data removed]",
      "text/plain": [
       "<Figure size 1000x500 with 7 Axes>"
      ]
     },
     "metadata": {},
     "output_type": "display_data"
    },
    {
     "name": "stdout",
     "output_type": "stream",
     "text": [
      "\n",
      "Plotting images in the union set:\n"
     ]
    },
    {
     "data": {
      "image/png": "[encoded data removed]",
      "text/plain": [
       "<Figure size 1000x500 with 9 Axes>"
      ]
     },
     "metadata": {},
     "output_type": "display_data"
    },
    {
     "name": "stdout",
     "output_type": "stream",
     "text": [
      "\n",
      "For translationally unique plots: \n",
      "Image 15 has no translationally similar images.\n",
      "Image 45 has no translationally similar images.\n",
      "Image 85 has no translationally similar images.\n",
      "Image 139 has no translationally similar images.\n",
      "Image 155 has no translationally similar images.\n",
      "Image 235 has no translationally similar images.\n",
      "Image 264 has no translationally similar images.\n",
      "Image 467 has no translationally similar images.\n",
      "Image 499 has no translationally similar images.\n",
      "\n",
      "Plotting images in the intersection set:\n"
     ]
    },
    {
     "data": {
      "image/png": "[encoded data removed]",
      "text/plain": [
       "<Figure size 1000x500 with 7 Axes>"
      ]
     },
     "metadata": {},
     "output_type": "display_data"
    },
    {
     "name": "stdout",
     "output_type": "stream",
     "text": [
      "\n",
      "Plotting images in the union set:\n"
     ]
    },
    {
     "data": {
      "image/png": "[encoded data removed]",
      "text/plain": [
       "<Figure size 1000x500 with 9 Axes>"
      ]
     },
     "metadata": {},
     "output_type": "display_data"
    },
    {
     "name": "stdout",
     "output_type": "stream",
     "text": [
      "\n",
      "Top 9 values of Vector b\n",
      "Rank 1: Value = 1.0, Index = 139\n",
      "Rank 2: Value = 0.7788112163543701, Index = 85\n",
      "Rank 3: Value = 0.778334379196167, Index = 264\n",
      "Rank 4: Value = 0.7487611770629883, Index = 499\n",
      "Rank 5: Value = 0.7454285621643066, Index = 45\n",
      "Rank 6: Value = 0.7416596412658691, Index = 15\n",
      "Rank 7: Value = 0.7362840175628662, Index = 155\n",
      "Rank 8: Value = 0.7342770099639893, Index = 467\n",
      "Rank 9: Value = 0.7289226055145264, Index = 377\n",
      "\n",
      "Top 9 values of Vector c\n",
      "Rank 1: Value = 1.0000000000000016, Index = 139\n",
      "Rank 2: Value = 0.8028146684163593, Index = 85\n",
      "Rank 3: Value = 0.7844239448684127, Index = 264\n",
      "Rank 4: Value = 0.755867505316559, Index = 499\n",
      "Rank 5: Value = 0.7536995228086457, Index = 45\n",
      "Rank 6: Value = 0.7483142180432751, Index = 15\n",
      "Rank 7: Value = 0.7373560931805682, Index = 235\n",
      "Rank 8: Value = 0.7295839109954237, Index = 467\n",
      "Rank 9: Value = 0.7254539716374777, Index = 155\n",
      "\n",
      "Bottom 9 values of Vector b\n",
      "Rank 1: Value = 0.12056994438171387, Index = 372\n",
      "Rank 2: Value = 0.1570669412612915, Index = 167\n",
      "Rank 3: Value = 0.22989380359649658, Index = 267\n",
      "Rank 4: Value = 0.2384408712387085, Index = 169\n",
      "Rank 5: Value = 0.25742220878601074, Index = 265\n",
      "Rank 6: Value = 0.3134535551071167, Index = 335\n",
      "Rank 7: Value = 0.3366750478744507, Index = 323\n",
      "Rank 8: Value = 0.339971661567688, Index = 88\n",
      "Rank 9: Value = 0.340407133102417, Index = 66\n",
      "\n",
      "Bottom 9 values of Vector c\n",
      "Rank 1: Value = 0.1335967050263197, Index = 372\n",
      "Rank 2: Value = 0.17120545492414546, Index = 167\n",
      "Rank 3: Value = 0.23423694249812485, Index = 267\n",
      "Rank 4: Value = 0.26177135644169214, Index = 169\n",
      "Rank 5: Value = 0.283218921106724, Index = 265\n",
      "Rank 6: Value = 0.3027830830918988, Index = 335\n",
      "Rank 7: Value = 0.32810047235567347, Index = 323\n",
      "Rank 8: Value = 0.34154732366654855, Index = 66\n",
      "Rank 9: Value = 0.34762383928917107, Index = 230\n",
      "Estimating K-Score for Image 145: K-Score = 1.0\n",
      "Intersection sets : [  0  97 145 208 244 270 336 459]\n",
      "Union sets: [  0  97 145 208 244 270 336 459]\n",
      "\n",
      "Comparison between vector c and vector b\n",
      " Index  Vector b Value (NCC value)  Vector c Value (Dot product value)\n",
      "   145                    1.000000                            1.000000\n",
      "     0                    0.863599                            0.868126\n",
      "    97                    0.831743                            0.821234\n",
      "   208                    0.875198                            0.876826\n",
      "   244                    0.873270                            0.890864\n",
      "   270                    0.912618                            0.918930\n",
      "   336                    0.833479                            0.826420\n",
      "   459                    0.895211                            0.887743\n",
      "\n",
      "Comparing images in intersection & union sets\n",
      "\n",
      "Plotting images in the intersection set:\n"
     ]
    },
    {
     "data": {
      "image/png": "[encoded data removed]",
      "text/plain": [
       "<Figure size 1000x500 with 8 Axes>"
      ]
     },
     "metadata": {},
     "output_type": "display_data"
    },
    {
     "name": "stdout",
     "output_type": "stream",
     "text": [
      "\n",
      "Plotting images in the union set:\n"
     ]
    },
    {
     "data": {
      "image/png": "[encoded data removed]",
      "text/plain": [
       "<Figure size 1000x500 with 8 Axes>"
      ]
     },
     "metadata": {},
     "output_type": "display_data"
    },
    {
     "name": "stdout",
     "output_type": "stream",
     "text": [
      "\n",
      "For translationally unique plots: \n",
      "Image 0 has no translationally similar images.\n",
      "Image 97 has no translationally similar images.\n",
      "Image 145 has no translationally similar images.\n",
      "Image 208 has no translationally similar images.\n",
      "Image 244 has no translationally similar images.\n",
      "Image 270 has no translationally similar images.\n",
      "Image 336 has no translationally similar images.\n",
      "Image 459 has no translationally similar images.\n",
      "\n",
      "Plotting images in the intersection set:\n"
     ]
    },
    {
     "data": {
      "image/png": "[encoded data removed]",
      "text/plain": [
       "<Figure size 1000x500 with 8 Axes>"
      ]
     },
     "metadata": {},
     "output_type": "display_data"
    },
    {
     "name": "stdout",
     "output_type": "stream",
     "text": [
      "\n",
      "Plotting images in the union set:\n"
     ]
    },
    {
     "data": {
      "image/png": "[encoded data removed]",
      "text/plain": [
       "<Figure size 1000x500 with 8 Axes>"
      ]
     },
     "metadata": {},
     "output_type": "display_data"
    },
    {
     "name": "stdout",
     "output_type": "stream",
     "text": [
      "\n",
      "Top 9 values of Vector b\n",
      "Rank 1: Value = 1.0, Index = 145\n",
      "Rank 2: Value = 0.9126180410385132, Index = 270\n",
      "Rank 3: Value = 0.8952114582061768, Index = 459\n",
      "Rank 4: Value = 0.8751981258392334, Index = 208\n",
      "Rank 5: Value = 0.8732701539993286, Index = 244\n",
      "Rank 6: Value = 0.8635987043380737, Index = 0\n",
      "Rank 7: Value = 0.833478569984436, Index = 336\n",
      "Rank 8: Value = 0.8317432403564453, Index = 97\n",
      "Rank 9: Value = 0.8258836269378662, Index = 397\n",
      "\n",
      "Top 9 values of Vector c\n",
      "Rank 1: Value = 1.0000000000000009, Index = 145\n",
      "Rank 2: Value = 0.9189299988839205, Index = 270\n",
      "Rank 3: Value = 0.8908643914469754, Index = 244\n",
      "Rank 4: Value = 0.8877427678626725, Index = 459\n",
      "Rank 5: Value = 0.8768260869457226, Index = 208\n",
      "Rank 6: Value = 0.868126221689024, Index = 0\n",
      "Rank 7: Value = 0.8264198254690164, Index = 336\n",
      "Rank 8: Value = 0.8212340454960183, Index = 97\n",
      "Rank 9: Value = 0.8001608956698498, Index = 397\n",
      "\n",
      "Bottom 9 values of Vector b\n",
      "Rank 1: Value = 0.23362791538238525, Index = 372\n",
      "Rank 2: Value = 0.24549007415771484, Index = 167\n",
      "Rank 3: Value = 0.26980388164520264, Index = 274\n",
      "Rank 4: Value = 0.27384066581726074, Index = 71\n",
      "Rank 5: Value = 0.28130555152893066, Index = 267\n",
      "Rank 6: Value = 0.2953716516494751, Index = 192\n",
      "Rank 7: Value = 0.3201780319213867, Index = 66\n",
      "Rank 8: Value = 0.3359365463256836, Index = 52\n",
      "Rank 9: Value = 0.34809112548828125, Index = 62\n",
      "\n",
      "Bottom 9 values of Vector c\n",
      "Rank 1: Value = 0.2241693207651563, Index = 372\n",
      "Rank 2: Value = 0.2508653464514596, Index = 167\n",
      "Rank 3: Value = 0.27057932576195465, Index = 267\n",
      "Rank 4: Value = 0.2890312542861052, Index = 71\n",
      "Rank 5: Value = 0.2976715800768802, Index = 274\n",
      "Rank 6: Value = 0.30492881995455806, Index = 192\n",
      "Rank 7: Value = 0.32662765186563025, Index = 66\n",
      "Rank 8: Value = 0.35898312392540416, Index = 62\n",
      "Rank 9: Value = 0.3615697991808853, Index = 178\n",
      "----------------\n",
      "Model Method -- KNN-IOU score\n",
      "----------------\n",
      "Estimating K-Score for Image 139: K-Score = 0.3333333333333333\n",
      "Intersection sets : [ 85 139 155 264]\n",
      "Union sets: [ 15  45  85 139 155 170 187 264 326 380 467 499]\n",
      "\n",
      "Comparison between vector c and vector b\n",
      " Index  Vector b Value (NCC value)  Vector c Value (Dot product value)\n",
      "   139                    1.000000                            1.000000\n",
      "    15                    0.741660                            0.783400\n",
      "    45                    0.745429                            0.788352\n",
      "    85                    0.778811                            0.920069\n",
      "   155                    0.736284                            0.828819\n",
      "   170                    0.626086                            0.799283\n",
      "   187                    0.670501                            0.834452\n",
      "   264                    0.778334                            0.831970\n",
      "   326                    0.650660                            0.799581\n",
      "   380                    0.646876                            0.828620\n",
      "   467                    0.734277                            0.632155\n",
      "   499                    0.748761                            0.727372\n",
      "\n",
      "Comparing images in intersection & union sets\n",
      "\n",
      "Plotting images in the intersection set:\n"
     ]
    },
    {
     "data": {
      "image/png": "[encoded data removed]",
      "text/plain": [
       "<Figure size 1000x500 with 4 Axes>"
      ]
     },
     "metadata": {},
     "output_type": "display_data"
    },
    {
     "name": "stdout",
     "output_type": "stream",
     "text": [
      "\n",
      "Plotting images in the union set:\n"
     ]
    },
    {
     "data": {
      "image/png": "[encoded data removed]",
      "text/plain": [
       "<Figure size 1000x500 with 12 Axes>"
      ]
     },
     "metadata": {},
     "output_type": "display_data"
    },
    {
     "name": "stdout",
     "output_type": "stream",
     "text": [
      "\n",
      "For translationally unique plots: \n",
      "Image 15 has no translationally similar images.\n",
      "Image 45 has no translationally similar images.\n",
      "Image 85 has no translationally similar images.\n",
      "Image 139 has no translationally similar images.\n",
      "Image 155 has no translationally similar images.\n",
      "Image 170 has no translationally similar images.\n",
      "Image 187 has no translationally similar images.\n",
      "Image 264 has no translationally similar images.\n",
      "Image 326 has no translationally similar images.\n",
      "Image 380 has no translationally similar images.\n",
      "Image 467 has no translationally similar images.\n",
      "Image 499 has no translationally similar images.\n",
      "\n",
      "Plotting images in the intersection set:\n"
     ]
    },
    {
     "data": {
      "image/png": "[encoded data removed]",
      "text/plain": [
       "<Figure size 1000x500 with 4 Axes>"
      ]
     },
     "metadata": {},
     "output_type": "display_data"
    },
    {
     "name": "stdout",
     "output_type": "stream",
     "text": [
      "\n",
      "Plotting images in the union set:\n"
     ]
    },
    {
     "data": {
      "image/png": "[encoded data removed]",
      "text/plain": [
       "<Figure size 1000x500 with 12 Axes>"
      ]
     },
     "metadata": {},
     "output_type": "display_data"
    },
    {
     "name": "stdout",
     "output_type": "stream",
     "text": [
      "Estimating K-Score for Image 145: K-Score = 0.6\n",
      "Intersection sets : [  0  97 145 244 270 459]\n",
      "Union sets: [  0  65  97 143 145 208 244 270 336 459]\n",
      "\n",
      "Comparison between vector c and vector b\n",
      " Index  Vector b Value (NCC value)  Vector c Value (Dot product value)\n",
      "   145                    1.000000                            1.000000\n",
      "     0                    0.863599                            0.902660\n",
      "    65                    0.742568                            0.867779\n",
      "    97                    0.831743                            0.893098\n",
      "   143                    0.704338                            0.873968\n",
      "   208                    0.875198                            0.735600\n",
      "   244                    0.873270                            0.953301\n",
      "   270                    0.912618                            0.885540\n",
      "   336                    0.833479                            0.801595\n",
      "   459                    0.895211                            0.895186\n",
      "\n",
      "Comparing images in intersection & union sets\n",
      "\n",
      "Plotting images in the intersection set:\n"
     ]
    },
    {
     "data": {
      "image/png": "[encoded data removed]",
      "text/plain": [
       "<Figure size 1000x500 with 6 Axes>"
      ]
     },
     "metadata": {},
     "output_type": "display_data"
    },
    {
     "name": "stdout",
     "output_type": "stream",
     "text": [
      "\n",
      "Plotting images in the union set:\n"
     ]
    },
    {
     "data": {
      "image/png": "[encoded data removed]",
      "text/plain": [
       "<Figure size 1000x500 with 10 Axes>"
      ]
     },
     "metadata": {},
     "output_type": "display_data"
    },
    {
     "name": "stdout",
     "output_type": "stream",
     "text": [
      "\n",
      "For translationally unique plots: \n",
      "Image 0 has no translationally similar images.\n",
      "Image 65 has no translationally similar images.\n",
      "Image 97 has no translationally similar images.\n",
      "Image 143 has no translationally similar images.\n",
      "Image 145 has no translationally similar images.\n",
      "Image 208 has no translationally similar images.\n",
      "Image 244 has no translationally similar images.\n",
      "Image 270 has no translationally similar images.\n",
      "Image 336 has no translationally similar images.\n",
      "Image 459 has no translationally similar images.\n",
      "\n",
      "Plotting images in the intersection set:\n"
     ]
    },
    {
     "data": {
      "image/png": "[encoded data removed]",
      "text/plain": [
       "<Figure size 1000x500 with 6 Axes>"
      ]
     },
     "metadata": {},
     "output_type": "display_data"
    },
    {
     "name": "stdout",
     "output_type": "stream",
     "text": [
      "\n",
      "Plotting images in the union set:\n"
     ]
    },
    {
     "data": {
      "image/png": "[encoded data removed]",
      "text/plain": [
       "<Figure size 1000x500 with 10 Axes>"
      ]
     },
     "metadata": {},
     "output_type": "display_data"
    },
    {
     "name": "stdout",
     "output_type": "stream",
     "text": [
      "----------------\n",
      "Transformed Model Method -- KNN-IOU score\n",
      "----------------\n"
     ]
    },
    {
     "ename": "NameError",
     "evalue": "name 'model_transformed' is not defined",
     "output_type": "error",
     "traceback": [
      "\u001b[0;31m---------------------------------------------------------------------------\u001b[0m",
      "\u001b[0;31mNameError\u001b[0m                                 Traceback (most recent call last)",
      "Cell \u001b[0;32mIn[54], line 27\u001b[0m\n\u001b[1;32m     24\u001b[0m imgplt\u001b[38;5;241m.\u001b[39mdisplay_and_plot_results(vectorb_model2, vectorc_model2, \u001b[38;5;124m\"\u001b[39m\u001b[38;5;124mModel\u001b[39m\u001b[38;5;124m\"\u001b[39m, index2, k, testSample)\n\u001b[1;32m     26\u001b[0m \u001b[38;5;28mprint\u001b[39m(\u001b[38;5;124m\"\u001b[39m\u001b[38;5;124m----------------\u001b[39m\u001b[38;5;130;01m\\n\u001b[39;00m\u001b[38;5;124mTransformed Model Method -- KNN-IOU score\u001b[39m\u001b[38;5;130;01m\\n\u001b[39;00m\u001b[38;5;124m----------------\u001b[39m\u001b[38;5;124m\"\u001b[39m)\n\u001b[0;32m---> 27\u001b[0m input2_transformed_1 \u001b[38;5;241m=\u001b[39m  model_transformed[index1]\n\u001b[1;32m     28\u001b[0m input2_transformed_2 \u001b[38;5;241m=\u001b[39m  model_transformed[index2]\n\u001b[1;32m     29\u001b[0m vectorc_transformed_1 \u001b[38;5;241m=\u001b[39m []\n",
      "\u001b[0;31mNameError\u001b[0m: name 'model_transformed' is not defined"
     ]
    }
   ],
   "source": [
    "#----------------------Metric 2 - KNNIoU-----------------\n",
    "print(\"----------------\\nBrute Force Method -- KNN-IOU score\\n----------------\")\n",
    "vectorb_bf1 = matrixG[index1]\n",
    "vectorc_bf1 = imgcalc.get_vectorc_brute(index1, matrixA)\n",
    "_, indices = imgplt.display_and_plot_results(vectorb_bf1, vectorc_bf1, \"Brute Force\", index1, k, testSample)\n",
    "kscore, indices, intersection_indices = metrics.get_k_neighbour_score(vectorb_bf1, vectorc_bf1, k)\n",
    "\n",
    "top_values_b_1, _ = imgcalc.get_top_scores(vectorb_bf1, len(indices), vectorc_bf1)\n",
    "bottom_values_b_1, _ = imgcalc.get_bottom_scores(vectorb_bf1, len(indices), vectorc_bf1)\n",
    "    \n",
    "vectorb_bf2 = matrixG[index2]\n",
    "vectorc_bf2 = imgcalc.get_vectorc_brute(index2, matrixA)\n",
    "imgplt.display_and_plot_results(vectorb_bf2, vectorc_bf2, \"Brute Force\", index2, k, testSample)\n",
    "\n",
    "top_values_b_2, _ = imgcalc.get_top_scores(vectorb_bf2, len(indices), vectorc_bf2)\n",
    "bottom_values_b_2, _ = imgcalc.get_bottom_scores(vectorb_bf2, len(indices), vectorc_bf2)\n",
    "\n",
    "print(\"----------------\\nModel Method -- KNN-IOU score\\n----------------\")\n",
    "vectorb_model1 = matrixG[index1]\n",
    "vectorc_model1 = imgcalc.get_vectorc_model(index1, model, input_dataset)\n",
    "imgplt.display_and_plot_results(vectorb_model1, vectorc_model1, \"Model\", index1, k, testSample)\n",
    "\n",
    "vectorb_model2 = matrixG[index2]\n",
    "vectorc_model2 = imgcalc.get_vectorc_model(index2, model, input_dataset)\n",
    "imgplt.display_and_plot_results(vectorb_model2, vectorc_model2, \"Model\", index2, k, testSample)\n",
    "\n",
    "print(\"----------------\\nTransformed Model Method -- KNN-IOU score\\n----------------\")\n",
    "input2_transformed_1 =  model_transformed[index1]\n",
    "input2_transformed_2 =  model_transformed[index2]\n",
    "vectorc_transformed_1 = []\n",
    "vectorc_transformed_2 = []\n",
    "for j in range(len(input_dataset)):\n",
    "    input1_transformed =  model_transformed[j]\n",
    "    dot_product_transformed = torch.sum(input1_transformed * input2_transformed_1, dim=1)\n",
    "    vectorc_transformed_1.append(dot_product_transformed.detach().cpu().numpy().item())\n",
    "    \n",
    "    dot_product_transformed = torch.sum(input1_transformed * input2_transformed_2, dim=1)\n",
    "    vectorc_transformed_2.append(dot_product_transformed.detach().cpu().numpy().item())\n",
    "\n",
    "imgplt.display_and_plot_results(vectorb_model1, vectorc_transformed_1, \"Model\", index1, k, testSample)\n",
    "imgplt.display_and_plot_results(vectorb_model2, vectorc_transformed_2, \"Model\", index2, k, testSample)\n",
    "\n",
    "print(\"----------------\\nTransformed Normalised Model Method -- KNN-IOU score\\n----------------\")\n",
    "input2_transformed_normalised_1 =  model_transformed[index1]/np.linalg.norm(model_transformed[index1].detach().cpu().numpy())\n",
    "input2_transformed_normalised_2 =  model_transformed[index2]/np.linalg.norm(model_transformed[index2].detach().cpu().numpy())\n",
    "vectorc_transformed_normalised_1 = []\n",
    "vectorc_transformed_normalised_2 = []\n",
    "for j in range(len(input_dataset)):\n",
    "    input1_transformed_normalised =  model_transformed[j]/np.linalg.norm(model_transformed[j].detach().cpu().numpy())\n",
    "    dot_product_transformed_normalised = torch.sum(input1_transformed_normalised * input2_transformed_normalised_1, dim=1)\n",
    "    vectorc_transformed_normalised_1.append(dot_product_transformed_normalised.detach().cpu().numpy().item())\n",
    "    \n",
    "    dot_product_transformed_normalised = torch.sum(input1_transformed_normalised * input2_transformed_normalised_2, dim=1)\n",
    "    vectorc_transformed_normalised_2.append(dot_product_transformed_normalised.detach().cpu().numpy().item())\n",
    "\n",
    "imgplt.display_and_plot_results(vectorb_model1, vectorc_transformed_normalised_1, \"Model\", index1, k, testSample)\n",
    "imgplt.display_and_plot_results(vectorb_model2, vectorc_transformed_normalised_2, \"Model\", index2, k, testSample)"
   ]
  },
  {
   "cell_type": "markdown",
   "id": "4c58c0d2-c85b-4ee8-a2e6-511e9b7ccb2f",
   "metadata": {},
   "source": [
    "### Visualisation of Relative Squared Difference of **original** matrix and vector embedding -- Metric 3"
   ]
  },
  {
   "cell_type": "code",
   "execution_count": null,
   "id": "ca911d4d-5fbe-4d5d-b8ed-6bcc32f35e7e",
   "metadata": {
    "tags": []
   },
   "outputs": [],
   "source": [
    "# -----------------------------Before transforming output embedding matrices-----------------------------\n",
    "# ----------- Preprocessing dataset -------------\n",
    "dim = 64\n",
    "embeddingType = f\"pencorr_{dim}\"\n",
    "\n",
    "# model = models.SimpleCNN6(dimensions=dim, padding_mode='circular').to(device)\n",
    "# model.load_state_dict(torch.load(os.path.join(os.path.abspath(\"../../VecRepV3\"), model_directory, \n",
    "#                  f'best_model_MNIST_{imageType}_{dim}d_convlayer5.pt'), weights_only=True))\n",
    "\n",
    "model.eval()\n",
    "\n",
    "model_vectors = imgcalc.get_vector_embeddings(input_dataset, model)\n",
    "model_matrix = imgcalc.get_matrix_embeddings(input_dataset, model_vectors)\n",
    "\n",
    "matrixG = imgcalc.get_matrixG(testSample, imageProductType)\n",
    "matrixA = imgcalc.get_matrixA(matrixG, embeddingType, weight)\n",
    "dot_product_matrix = np.dot(matrixA.T, matrixA)\n",
    "\n",
    "######################################################\n",
    "mean_squared_difference = imgcalc.get_MSE(matrixG, dot_product_matrix)\n",
    "print(\"Mean Squared Difference of Matrices -- Pencorr (A'A) and NCC (G):\", mean_squared_difference)\n",
    "        \n",
    "mean_squared_difference = imgcalc.get_MSE(matrixG, model_matrix.detach().cpu().numpy())\n",
    "print(\"\\nMean Squared Difference of of Matrices -- Model and NCC (G):\", mean_squared_difference)\n",
    "        \n",
    "mean_squared_difference = imgcalc.get_MSE(dot_product_matrix, model_matrix.detach().cpu().numpy())\n",
    "print(\"Mean Squared Difference of of Matrices -- Model and Pencorr (A'A):\", mean_squared_difference)\n",
    "    \n",
    "print(f\"\\nPrinting matrices\")\n",
    "print(f\"\\nMatrix G: {matrixG}\")\n",
    "print(f\"\\nMatrix A'A (Pencorr): {dot_product_matrix}, {dot_product_matrix.shape}\")\n",
    "print(f\"\\nMatrix A'A (Model): {model_matrix.detach().cpu().numpy()}, {model_matrix.detach().cpu().numpy().shape}\")\n",
    "\n",
    "print(f\"\\nPrinting vectors\")\n",
    "print(f\"\\nEmbedding of image {index1} for Pencorr (A'A): {matrixA[:,index1]}\")\n",
    "print(f\"Embedding of image {index1} for Model: {model_vectors[index1]}\")\n",
    "\n",
    "print(f\"\\nDifferences between vector embeddings\")\n",
    "mean_squared_difference = imgcalc.get_MSE(matrixA[:,index1], model_vectors[index1].detach().cpu().numpy())\n",
    "print(f\"Mean Squared Difference of Embeddings -- Pencorr (A) and Model: {mean_squared_difference}\")"
   ]
  },
  {
   "cell_type": "markdown",
   "id": "c1343089-50e0-4e88-ad81-2f329599ec7c",
   "metadata": {},
   "source": [
    "### Visualisation of Relative Squared Difference of **transformed** matrix and vector embedding using Orthogonal Procrustes -- Metric 3"
   ]
  },
  {
   "cell_type": "code",
   "execution_count": null,
   "id": "b0c4b7c8-62cc-434b-9f9c-e5cc8d1eb0d2",
   "metadata": {
    "tags": []
   },
   "outputs": [],
   "source": [
    "#-----------------After transforming output embedding matrices via Orthorgonal Procrustes ----------------\n",
    "print(f\"Difference between matrices\")\n",
    "model_vectors = imgcalc.get_vector_embeddings(input_dataset, model)\n",
    "model_transformed, error_model = imgcalc.get_orthogonal_transformation(model_vectors, matrixA) #transposed\n",
    "model_transformed = [torch.tensor(row, dtype=torch.float32, device= device).unsqueeze(0).requires_grad_() for row in model_transformed]\n",
    "model_matrix_transformed = imgcalc.get_matrix_embeddings(input_dataset, model_transformed)\n",
    "\n",
    "mean_squared_difference = imgcalc.get_MSE(matrixG, model_matrix_transformed.detach().cpu().numpy())\n",
    "print(\"\\nMean Squared Difference of Matrices -- Transformed Model and NCC (G):\", mean_squared_difference)\n",
    "        \n",
    "mean_squared_difference = imgcalc.get_MSE(dot_product_matrix, model_matrix_transformed.detach().cpu().numpy())\n",
    "print(\"Mean Squared Difference of Matrices -- Transformed Model and Pencorr (A'A):\", mean_squared_difference)\n",
    "\n",
    "print(f\"\\nPrinting matrices after transformation\")\n",
    "print(f\"\\nMatrix G: {matrixG}\")\n",
    "print(f\"\\nMatrix A'A (Pencorr): {dot_product_matrix}, {dot_product_matrix.shape}\")\n",
    "print(f\"\\nMatrix A'A (Transformed Model): {model_matrix_transformed}, error: {error_model}\")\n",
    "\n",
    "print(f\"\\nPrinting vectors \")\n",
    "print(f\"\\nEmbedding of image {index1} for Pencorr (A'A): {matrixA[:,index1]}\")\n",
    "print(f\"Embedding of image {index1} for Transformed Model: {model_transformed[index1]}\")\n",
    "\n",
    "print(f\"\\nDifferences between vector embeddings\")\n",
    "mean_squared_difference = imgcalc.get_MSE(matrixA[:,index1], model_transformed[index1].detach().cpu().numpy())\n",
    "print(f\"Mean Squared Difference of Embeddings -- Pencorr (A) and Transformed Model: {mean_squared_difference}\")\n",
    "\n",
    "mean_squared_difference = imgcalc.get_MSE(matrixA[:,index1], model_vectors[index1].detach().cpu().numpy())\n",
    "print(f\"Mean Squared Difference of Embeddings -- Pencorr (A) and Model: {mean_squared_difference}\")"
   ]
  },
  {
   "cell_type": "markdown",
   "id": "a10efc57-3c35-48b2-ac71-ba9aa06b83c3",
   "metadata": {},
   "source": [
    "### Visualisation of Relative Squared Difference of **transformed normalised** vector embedding using Orthogonal Procrustes -- Metric 3"
   ]
  },
  {
   "cell_type": "code",
   "execution_count": null,
   "id": "8dc7d03f-f391-45e4-8c01-c1e92be360f4",
   "metadata": {},
   "outputs": [],
   "source": [
    "#-----------------After normalising the transformed output embedding matrices via Orthorgonal Procrustes ----------------\n",
    "print(f\"Difference between matrices\")\n",
    "model_vectors = imgcalc.get_vector_embeddings(input_dataset, model)\n",
    "model_transformed, error_model = imgcalc.get_orthogonal_transformation(model_vectors, matrixA) #transposed\n",
    "model_transformed = [torch.tensor(row, dtype=torch.float32, device= device).unsqueeze(0).requires_grad_() for row in model_transformed]\n",
    "model_matrix_transformed = imgcalc.get_matrix_embeddings(input_dataset, model_transformed)\n",
    "\n",
    "print(f\"\\nPrinting vectors \")\n",
    "print(f\"\\nEmbedding of image {index1} for Pencorr (A'A): {matrixA[:,index1]}\")\n",
    "print(f\"Embedding of image {index1} for Transformed Normalised Model: {model_transformed[index1]/np.linalg.norm(model_transformed[index1].detach().cpu().numpy())}\")\n",
    "\n",
    "print(f\"\\nDifferences between vector embeddings\")\n",
    "mean_squared_difference = imgcalc.get_MSE(matrixA[:,index1], (model_transformed[index1].detach().numpy()/np.linalg.norm(model_transformed[index1].detach().cpu().numpy())))\n",
    "print(f\"Mean Squared Difference of Embeddings -- Pencorr (A) and Transformed Normalised Model: {mean_squared_difference}\")\n",
    "\n",
    "mean_squared_difference = imgcalc.get_MSE(matrixA[:,index1], model_transformed[index1].detach().cpu().numpy())\n",
    "print(f\"Mean Squared Difference of Embeddings -- Pencorr (A) and Transformed Model: {mean_squared_difference}\")\n",
    "\n",
    "mean_squared_difference = imgcalc.get_MSE(matrixA[:,index1], model_vectors[index1].detach().cpu().numpy())\n",
    "print(f\"Mean Squared Difference of Embeddings -- Pencorr (A) and Model: {mean_squared_difference}\")"
   ]
  },
  {
   "cell_type": "markdown",
   "id": "37986dc0-0fc2-4b5f-8be1-320d556f58a9",
   "metadata": {},
   "source": [
    "### Visualisation of original vector embeddings of similar images across dimensions -- Metric 4"
   ]
  },
  {
   "cell_type": "code",
   "execution_count": null,
   "id": "aaffc079-2a45-4fe5-855f-ca22bb279ae6",
   "metadata": {
    "tags": []
   },
   "outputs": [],
   "source": [
    "#comparison with similar images before transforming output embedding matrices\n",
    "# ----------- Preprocessing dataset -------------\n",
    "matrixG = imgcalc.get_matrixG(testSample, imageProductType)\n",
    "dimensions = [32, 64, 128, 256]\n",
    "for dim in dimensions:\n",
    "    print(f\"For dimension {dim}\")\n",
    "    embeddingType = f\"pencorr_{dim}\"\n",
    "\n",
    "    model = models.SimpleCNN6(dimensions=dim, padding_mode='circular').to(device)\n",
    "    model.load_state_dict(torch.load(os.path.join(os.path.abspath(\"../../VecRepV3\"), model_directory, \n",
    "                     f'best_model_MNIST_{imageType}_{dim}d_convlayer5.pt'), weights_only=True))\n",
    "\n",
    "    model.eval()\n",
    "\n",
    "    model_vectors = imgcalc.get_vector_embeddings(input_dataset, model)\n",
    "    matrixA = imgcalc.get_matrixA(matrixG, embeddingType, weight)\n",
    "    \n",
    "    mean_diff_dim_model = []\n",
    "    mean_diff_dim_pencorr = []\n",
    "    mean_values_dim_model = []\n",
    "    mean_values_dim_pencorr = []\n",
    "    for i in range(len(top_values_b_1)):\n",
    "        top_1_index = top_values_b_1[i][0]\n",
    "        # print(top_1_index)\n",
    "        # print(f\"\\nPrinting vectors for index {index1}\")\n",
    "        # print(f\"Embedding of image {index1} for Model: {model_vectors[index1]}\")    \n",
    "        # print(f\"Embedding of similar image {top_1_index} for Model: {model_vectors[top_1_index]}\")\n",
    "        # print(f\"\\nEmbedding of image {index1} for Pencorr (A'A): {matrixA[:,index1]}\")\n",
    "        # print(f\"\\nEmbedding of similar image {top_1_index} for Pencorr (A'A): {matrixA[:,top_1_index]}\")\n",
    "\n",
    "        # print(f\"\\nDifferences between vector embeddings\")\n",
    "        mean_squared_difference = imgcalc.get_MSE(model_vectors[top_1_index].detach().cpu().numpy(), model_vectors[index1].detach().cpu().numpy())\n",
    "        # print(f\"Mean Squared Difference of Model between 2 similar images: {mean_squared_difference}\")\n",
    "        mean_diff_dim_model.append(mean_squared_difference)\n",
    "        mean_values_dim_model.append(abs(model_vectors[top_1_index].detach().cpu().numpy()).mean())\n",
    "        \n",
    "        mean_squared_difference = imgcalc.get_MSE(matrixA[:,top_1_index], matrixA[:,index1])\n",
    "        # print(f\"Mean Squared Difference of Pencorr (A'A) between 2 similar images: {mean_squared_difference}\")\n",
    "        mean_diff_dim_pencorr.append(mean_squared_difference)\n",
    "        mean_values_dim_pencorr.append(abs(matrixA[:,top_1_index]).mean())\n",
    "\n",
    "    indices = [x[0] for x in top_values_b_1]\n",
    "    print(indices)\n",
    "    fig, axes = plt.subplots(2, 1, figsize=(8, 10))\n",
    "    axes[0].bar(range(len(indices)), mean_diff_dim_model, color='blue', alpha=0.7, label=\"Mean Diff Dim Model\")\n",
    "    axes[0].set_xticks(range(len(indices)))\n",
    "    axes[0].set_xticklabels(indices, rotation=45) \n",
    "    axes[0].set_ylabel(\"Mean Diff Dim Model\")\n",
    "    axes[0].set_title(\"Mean Diff Dim Model vs Top Values B 1\")\n",
    "    axes[0].legend()\n",
    "\n",
    "    axes[1].bar(range(len(indices)), mean_diff_dim_pencorr, color='red', alpha=0.7, label=\"Mean Diff Dim Pencorr\")\n",
    "    axes[1].set_xticks(range(len(indices)))\n",
    "    axes[1].set_xticklabels(indices, rotation=45) \n",
    "    axes[1].set_xlabel(\"Top Values B 1\")\n",
    "    axes[1].set_ylabel(\"Mean Diff Dim Pencorr\")\n",
    "    axes[1].set_title(\"Mean Diff Dim Pencorr vs Top Values B 1\")\n",
    "    plt.tight_layout()\n",
    "    plt.show()\n",
    "    \n",
    "    imgplt.plot_score_distribution(mean_diff_dim_model, f\"MSE of Model for dimension {dim}\")\n",
    "    imgplt.plot_score_distribution(mean_diff_dim_pencorr, f\"MSE of Pencorr for dimension {dim}\")\n",
    "    imgplt.plot_score_distribution(mean_values_dim_model, f\"Average value of embeddings of Model for dimension {dim}\")\n",
    "    imgplt.plot_score_distribution(mean_values_dim_pencorr, f\"Average value of embeddings of Pencorr for dimension {dim}\")"
   ]
  },
  {
   "cell_type": "markdown",
   "id": "42765d7d-b55f-4c48-8a4a-b915a66559de",
   "metadata": {},
   "source": [
    "### Visualisation of original vector embeddings of different images across dimensions -- Metric 4"
   ]
  },
  {
   "cell_type": "code",
   "execution_count": null,
   "id": "ba9e0519-e10f-414d-ac48-dda6a10972b4",
   "metadata": {
    "tags": []
   },
   "outputs": [],
   "source": [
    "#comparison with different images\n",
    "# ----------- Preprocessing dataset -------------\n",
    "matrixG = imgcalc.get_matrixG(testSample, imageProductType)\n",
    "dimensions = [32, 64, 128, 256]\n",
    "for dim in dimensions:\n",
    "    print(f\"For dimension {dim}\")\n",
    "    embeddingType = f\"pencorr_{dim}\"\n",
    "\n",
    "    model = models.SimpleCNN6(dimensions=dim, padding_mode='circular').to(device)\n",
    "    model.load_state_dict(torch.load(os.path.join(os.path.abspath(\"../../VecRepV3\"), model_directory, \n",
    "                     f'best_model_MNIST_{imageType}_{dim}d_convlayer5.pt'), weights_only=True))\n",
    "\n",
    "    model.eval()\n",
    "\n",
    "    model_vectors = imgcalc.get_vector_embeddings(input_dataset, model)\n",
    "    matrixA = imgcalc.get_matrixA(matrixG, embeddingType, weight)\n",
    "    \n",
    "    mean_diff_dim_model = []\n",
    "    mean_diff_dim_pencorr = []\n",
    "    mean_values_dim_model = []\n",
    "    mean_values_dim_pencorr = []\n",
    "    for i in range(len(bottom_values_b_1)):\n",
    "        top_1_index = bottom_values_b_1[i][0]\n",
    "        # print(top_1_index)\n",
    "        # print(f\"\\nPrinting vectors for index {index1}\")\n",
    "        # print(f\"Embedding of image {index1} for Model: {model_vectors[index1]}\")    \n",
    "        # print(f\"Embedding of similar image {top_1_index} for Model: {model_vectors[top_1_index]}\")\n",
    "        # print(f\"\\nEmbedding of image {index1} for Pencorr (A'A): {matrixA[:,index1]}\")\n",
    "        # print(f\"\\nEmbedding of similar image {top_1_index} for Pencorr (A'A): {matrixA[:,top_1_index]}\")\n",
    "\n",
    "        # print(f\"\\nDifferences between vector embeddings\")\n",
    "        mean_squared_difference = imgcalc.get_MSE(model_vectors[top_1_index].detach().cpu().numpy(), model_vectors[index1].detach().cpu().numpy())\n",
    "        # print(f\"Mean Squared Difference of Model between 2 similar images: {mean_squared_difference}\")\n",
    "        mean_diff_dim_model.append(mean_squared_difference)\n",
    "        mean_values_dim_model.append(abs(model_vectors[top_1_index].detach().cpu().numpy()).mean())\n",
    "        \n",
    "        mean_squared_difference = imgcalc.get_MSE(matrixA[:,top_1_index], matrixA[:,index1])\n",
    "        # print(f\"Mean Squared Difference of Pencorr (A'A) between 2 similar images: {mean_squared_difference}\")\n",
    "        mean_diff_dim_pencorr.append(mean_squared_difference)\n",
    "        mean_values_dim_pencorr.append(abs(matrixA[:,top_1_index]).mean())\n",
    "\n",
    "    indices = [x[0] for x in bottom_values_b_1]\n",
    "    # print(indices)\n",
    "    fig, axes = plt.subplots(2, 1, figsize=(8, 10))\n",
    "    axes[0].bar(range(len(indices)), mean_diff_dim_model, color='blue', alpha=0.7, label=\"Mean Diff Dim Model\")\n",
    "    axes[0].set_xticks(range(len(indices)))\n",
    "    axes[0].set_xticklabels(indices, rotation=45) \n",
    "    axes[0].set_ylabel(\"Mean Diff Dim Model\")\n",
    "    axes[0].set_title(\"Mean Diff Dim Model vs Top Values B 1\")\n",
    "    axes[0].legend()\n",
    "\n",
    "    axes[1].bar(range(len(indices)), mean_diff_dim_pencorr, color='red', alpha=0.7, label=\"Mean Diff Dim Pencorr\")\n",
    "    axes[1].set_xticks(range(len(indices)))\n",
    "    axes[1].set_xticklabels(indices, rotation=45) \n",
    "    axes[1].set_xlabel(\"Top Values B 1\")\n",
    "    axes[1].set_ylabel(\"Mean Diff Dim Pencorr\")\n",
    "    axes[1].set_title(\"Mean Diff Dim Pencorr vs Top Values B 1\")\n",
    "    plt.tight_layout()\n",
    "    plt.show()\n",
    "    \n",
    "    imgplt.plot_score_distribution(mean_diff_dim_model, f\"MSE of Model for dimension {dim}\")\n",
    "    imgplt.plot_score_distribution(mean_diff_dim_pencorr, f\"MSE of Pencorr for dimension {dim}\")\n",
    "    imgplt.plot_score_distribution(mean_values_dim_model, f\"Average value of embeddings of Model for dimension {dim}\")\n",
    "    imgplt.plot_score_distribution(mean_values_dim_pencorr, f\"Average value of embeddings of Pencorr for dimension {dim}\")"
   ]
  },
  {
   "cell_type": "markdown",
   "id": "0f5e2371-49c9-40b0-8193-055c6bafa89d",
   "metadata": {},
   "source": [
    "# Visualiation and Calculation across dataset, across dimensions"
   ]
  },
  {
   "cell_type": "markdown",
   "id": "74add7bd-995c-46df-83f2-4241203f7188",
   "metadata": {
    "tags": []
   },
   "source": [
    "## Metric 1 & 2: Loss and K-Score\n",
    "### Visualisation of loss and k-score across dataset across dimensions"
   ]
  },
  {
   "cell_type": "code",
   "execution_count": null,
   "id": "c735438e-3fb7-46a7-acc6-c2d66dae599b",
   "metadata": {
    "tags": []
   },
   "outputs": [],
   "source": [
    "# ------------------------ Loss and Kscores of transformed embedding across dataset -----------------------------\n",
    "dimensions = [128]\n",
    "losses_transformed_normalised = []\n",
    "losses_transformed = []\n",
    "losses_original = []\n",
    "kscores_transformed_normalised = []\n",
    "kscores_transformed = []\n",
    "kscores_original = []\n",
    "losses_BFMethod = []\n",
    "kscores_BFMethod = []\n",
    "\n",
    "input_dataset = []\n",
    "testSample = []\n",
    "num = len(sampled_test_data)\n",
    "for i in range(len(sampled_test_data)):\n",
    "    img_tensor = sampled_test_data[i][0] \n",
    "    input_dataset.append(img_tensor.unsqueeze(0).to(device).float())\n",
    "    img_numpy = img_tensor.squeeze().cpu().numpy().astype(np.float32)\n",
    "    testSample.append(img_numpy)\n",
    "\n",
    "matrixG = imgcalc.get_matrixG(testSample, imageProductType)\n",
    "\n",
    "for dim in dimensions: \n",
    "    print(f\"For dimension {dim}\")\n",
    "    embeddingType = f\"pencorr_{dim}\"\n",
    "\n",
    "    model = models.SimpleCNN4_CBAM_2fc(dimensions=dim, padding_mode='circular').to(device)\n",
    "    \n",
    "    model.load_state_dict(torch.load(os.path.join(os.path.abspath(\"../../VecRepV3\"), model_directory, \n",
    "                     f'best_model_MNIST_{imageType}_{dim}d_convlayer3_SimpleCNN4_CBAM_2fc.pt'), weights_only=True, map_location=torch.device('cpu')))\n",
    "    \n",
    "#     checkpoint_path = os.path.join(os.path.abspath(\"../../VecRepV3\"), model_directory, \n",
    "#                          f'best_MNIST_model_classification_SimpleCNN4_CBAM_2fc_64d.pt')\n",
    "#     state_dict = torch.load(checkpoint_path, map_location='cpu')\n",
    "#     filtered_state_dict = {k: v for k, v in state_dict.items() if not k.startswith(\"classifier.\")}\n",
    "#     model.load_state_dict(filtered_state_dict, strict=False)\n",
    "\n",
    "    model.eval()\n",
    "\n",
    "    matrixA = imgcalc.get_matrixA(matrixG, embeddingType, weight)\n",
    "    dot_product_matrix = np.dot(matrixA.T, matrixA)\n",
    "\n",
    "    model_vectors = imgcalc.get_vector_embeddings(input_dataset, model)\n",
    "    model_transformed, error_model = imgcalc.get_orthogonal_transformation(model_vectors, matrixA) #transposed\n",
    "    model_transformed = [torch.tensor(row, dtype=torch.float32, device= device).unsqueeze(0).requires_grad_() for row in model_transformed]\n",
    "\n",
    "    kscore_transformed_normalised = []\n",
    "    kscore_transformed = []\n",
    "    kscore_original = []\n",
    "    \n",
    "    loss_original = []\n",
    "    loss_transformed = []\n",
    "    loss_transformed_normalised = []\n",
    "    \n",
    "    for i in range(num):\n",
    "        vectorb = imgcalc.get_vectorb(i, testSample)\n",
    "\n",
    "        input2_original = model_vectors[i]\n",
    "        input2_transformed = model_transformed[i]\n",
    "        #since after transformation, its not a unit vector\n",
    "        input2_transformed_normalised =  model_transformed[i]/np.linalg.norm(model_transformed[i].detach().cpu().numpy())\n",
    "        vectorc_original = []\n",
    "        vectorc_transformed = []\n",
    "        vectorc_transformed_normalised = []\n",
    "\n",
    "        loss_value_transformed_normalised = []\n",
    "        loss_value_transformed = []\n",
    "        loss_value_original = []\n",
    "        for j in range(num):\n",
    "            input1_original = model_vectors[j]\n",
    "            #since after transformation, its not a unit vector\n",
    "            input1_transformed = model_transformed[j]\n",
    "            input1_transformed_normalised =  model_transformed[j]/np.linalg.norm(model_transformed[j].detach().cpu().numpy())\n",
    "\n",
    "            dot_product_orignal = torch.sum(input1_original * input2_original, dim=1)\n",
    "            dot_product_transformed = torch.sum(input1_transformed * input2_transformed, dim=1)\n",
    "            dot_product_transformed_normalised = torch.sum(input1_transformed_normalised * input2_transformed_normalised, dim=1)\n",
    "\n",
    "            vectorc_original.append(dot_product_orignal.detach().cpu().numpy().item())\n",
    "            vectorc_transformed.append(dot_product_transformed.detach().cpu().numpy().item())\n",
    "            vectorc_transformed_normalised.append(dot_product_transformed_normalised.detach().cpu().numpy().item())\n",
    "\n",
    "            NCC_scaled_value = imgcalc.get_NCC_score(testSample[i], testSample[j])\n",
    "\n",
    "            loss_value = imgcalc.get_loss_value(dot_product_orignal, NCC_scaled_value) \n",
    "            loss_value_original.append(loss_value)\n",
    "\n",
    "            loss_value = imgcalc.get_loss_value(dot_product_transformed, NCC_scaled_value) \n",
    "            loss_value_transformed.append(loss_value)\n",
    "\n",
    "            loss_value = imgcalc.get_loss_value(dot_product_transformed_normalised, NCC_scaled_value) \n",
    "            loss_value_transformed_normalised.append(loss_value)\n",
    "\n",
    "        average_loss_original = sum(loss_value_original) / len(loss_value_original)\n",
    "        average_loss_transformed = sum(loss_value_transformed) / len(loss_value_transformed)\n",
    "        average_loss_transformed_normalised = sum(loss_value_transformed_normalised) / len(loss_value_transformed_normalised)\n",
    "\n",
    "        loss_original.append(average_loss_original)\n",
    "        loss_transformed.append(average_loss_transformed)\n",
    "        loss_transformed_normalised.append(average_loss_transformed_normalised)\n",
    "\n",
    "        kscore, _, _ = imgcalc.get_kscore_and_sets(vectorb, vectorc_original, k)\n",
    "        kscore_original.append(kscore)\n",
    "\n",
    "        kscore, _, _ = imgcalc.get_kscore_and_sets(vectorb, vectorc_transformed, k)\n",
    "        kscore_transformed.append(kscore)\n",
    "\n",
    "        kscore, _, _ = imgcalc.get_kscore_and_sets(vectorb, vectorc_transformed_normalised, k)\n",
    "        kscore_transformed_normalised.append(kscore)\n",
    "            \n",
    "    kscore_BFMethod, loss_BFMethod, _ = imgcalc.kscore_loss_evaluation_brute(testSample, matrixA, matrixG, k)\n",
    "    \n",
    "    imgplt.plot_score_distribution(loss_BFMethod, \"Loss BFMethod\")\n",
    "    imgplt.plot_score_distribution(loss_original, \"Loss across dataset -- Model original\")\n",
    "    imgplt.plot_score_distribution(loss_transformed, \"Loss across dataset -- Model transformed\")\n",
    "    imgplt.plot_score_distribution(loss_transformed_normalised, \"Loss across dataset -- Model transformed normalised\")\n",
    "    imgplt.plot_score_distribution(kscore_BFMethod, \"K-Score BFMethod\")\n",
    "    imgplt.plot_score_distribution(kscore_original, \"K-score across dataset -- Model original\")\n",
    "    imgplt.plot_score_distribution(kscore_transformed, \"K-score across dataset -- Model transformed\")\n",
    "    imgplt.plot_score_distribution(kscore_transformed_normalised, \"K-score across dataset -- Model transformed normalised\")\n",
    "    \n",
    "    losses_transformed_normalised.append(np.mean(loss_transformed_normalised))\n",
    "    losses_transformed.append(np.mean(loss_transformed))\n",
    "    losses_original.append(np.mean(loss_original))\n",
    "    losses_BFMethod.append(np.mean(loss_BFMethod))\n",
    "    kscores_transformed_normalised.append(np.mean(kscore_transformed_normalised))\n",
    "    kscores_transformed.append(np.mean(kscore_transformed))\n",
    "    kscores_original.append(np.mean(kscore_original))\n",
    "    kscores_BFMethod.append(np.mean(kscore_BFMethod))\n",
    "    \n",
    "    #0.058 0.420 CNN4_CBAM_2fc 0.650 0.211 Weight Exchange"
   ]
  },
  {
   "cell_type": "code",
   "execution_count": null,
   "id": "a524b78b-5904-48f7-81c2-3ae5d6dca275",
   "metadata": {
    "tags": []
   },
   "outputs": [],
   "source": [
    "print(f\"BFMethod: Loss and Kscores\")\n",
    "print(\"Kscores: \",kscores_BFMethod, np.argmax(kscores_BFMethod))\n",
    "print(\"Losses: \",losses_BFMethod, np.argmin(losses_BFMethod))\n",
    "\n",
    "print(f\"\\nOriginal Model: Loss and Kscores\")\n",
    "print(\"Kscores: \",kscores_original, np.argmax(kscores_original))\n",
    "print(\"Losses: \",losses_original, np.argmin(losses_original))\n",
    "\n",
    "print(f\"\\nTransformed Model: Loss and Kscores\")\n",
    "print(\"Kscores: \",kscores_transformed, np.argmax(kscores_transformed))\n",
    "print(\"Losses: \",losses_transformed, np.argmin(losses_transformed))\n",
    "\n",
    "print(f\"\\nTransformed Normalized Model: Loss and Kscores\")\n",
    "print(\"Kscores: \",kscores_transformed_normalised, np.argmax(kscores_transformed_normalised))\n",
    "print(\"Losses: \",losses_transformed_normalised, np.argmin(losses_transformed_normalised))"
   ]
  },
  {
   "cell_type": "markdown",
   "id": "c94b8f82-3e3e-450b-8c58-f75faae49b1f",
   "metadata": {},
   "source": [
    "## Metric 3: Relative Squared Difference between vector embeddings\n",
    "### Visualisation of Relative Squared Difference between vector embeddings, of original and transformed model using Orthogonal Procrustes, and Pencorr embeddings across dataset across dimensions"
   ]
  },
  {
   "cell_type": "code",
   "execution_count": null,
   "id": "27ffc108-949d-4bdf-9ee3-515a7614065a",
   "metadata": {
    "tags": []
   },
   "outputs": [],
   "source": [
    "# ------------------------ MSE of embedding across dimensions across dataset -----------------------------\n",
    "MSD_transformed_normalised = []\n",
    "MSD_transformed = []\n",
    "MSD_original = []\n",
    "dimensions = [32, 64, 128, 256, 512]    \n",
    "input_dataset = []\n",
    "for img in testSample:\n",
    "    img_tensor = torch.from_numpy(np.array(img, dtype=np.float64))\n",
    "    img_tensor = img_tensor.unsqueeze(0).unsqueeze(0).to(device).double()\n",
    "    input_dataset.append(img_tensor)\n",
    "input_dataset = [tensor.float() for tensor in input_dataset] \n",
    "stacked_tensor = torch.stack(input_dataset)\n",
    "input_dataset = stacked_tensor.cpu().numpy()      \n",
    "input_dataset = [torch.tensor(data).to(device).float() for data in input_dataset]\n",
    "num = len(input_dataset)\n",
    "matrixG = imgcalc.get_matrixG(testSample, imageProductType)\n",
    "\n",
    "for dim in dimensions:    \n",
    "    embeddingType = f\"pencorr_{dim}\"\n",
    "\n",
    "    model = models.SimpleCNN6(dimensions=dim, padding_mode='circular').to(device)\n",
    "    model.load_state_dict(torch.load(os.path.join(os.path.abspath(\"../../VecRepV3\"), model_directory, \n",
    "                     f'best_model_MNIST_{imageType}_{dim}d_convlayer5.pt'), weights_only=True))\n",
    "\n",
    "    model.eval()\n",
    "    \n",
    "    matrixA = imgcalc.get_matrixA(matrixG, embeddingType, weight)\n",
    "    dot_product_matrix = np.dot(matrixA.T, matrixA)\n",
    "    \n",
    "    model_vectors = imgcalc.get_vector_embeddings(input_dataset, model)\n",
    "    model_transformed, error_model = imgcalc.get_orthogonal_transformation(model_vectors, matrixA) #transposed\n",
    "    model_transformed = [torch.tensor(row, dtype=torch.float32, device= device).unsqueeze(0).requires_grad_() for row in model_transformed]\n",
    "    \n",
    "    # find a fair way to compare across the dimensions,\n",
    "        # maybe can experiment with the different angles \\\n",
    "    MSE_transformed_normalised = []\n",
    "    MSE_transformed = []\n",
    "    MSE_original = []\n",
    "    \n",
    "    print(f\"\\nMSE between vector embeddings of dimension {dim} for Pencorr (A) and Models:\")   \n",
    "    for i in range(num):\n",
    "        normalized_embedding = (model_transformed[i]/np.linalg.norm(model_transformed[i].detach().cpu().numpy())).detach().cpu().numpy()\n",
    "        mean_squared_difference = imgcalc.get_MSE(matrixA[:,i], normalized_embedding)\n",
    "        #print(f\"Original matrix of Index {i}: {mean_squared_difference}\")\n",
    "        MSE_transformed_normalised.append(mean_squared_difference)\n",
    "        \n",
    "        mean_squared_difference = imgcalc.get_MSE(matrixA[:,i], model_transformed[i].detach().cpu().numpy())\n",
    "        #print(f\"Transformed matrix of Index {i}: {mean_squared_difference}\")\n",
    "        MSE_transformed.append(mean_squared_difference)\n",
    "\n",
    "        mean_squared_difference = imgcalc.get_MSE(matrixA[:,i], model_vectors[i].detach().cpu().numpy())\n",
    "        #print(f\"Original matrix of Index {i}: {mean_squared_difference}\")\n",
    "        MSE_original.append(mean_squared_difference)\n",
    "    \n",
    "    MSD_transformed_normalised.append(np.mean(MSE_transformed_normalised))                                              \n",
    "    MSD_transformed.append(np.mean(MSE_transformed))\n",
    "    MSD_original.append(np.mean(MSE_original))\n",
    "    imgplt.plot_score_distribution(MSE_transformed_normalised, f\"MSE of Transformed Normalised Model\")                                              \n",
    "    imgplt.plot_score_distribution(MSE_transformed, f\"MSE of Transformed Model\")\n",
    "    imgplt.plot_score_distribution(MSE_original, f\"MSE of Original Model\")"
   ]
  },
  {
   "cell_type": "code",
   "execution_count": null,
   "id": "50e91bc6-59be-40c7-97fd-4a82ea32d8c7",
   "metadata": {
    "tags": []
   },
   "outputs": [],
   "source": [
    "print(\"RSD Original Model: \", MSD_original, np.argmin(MSD_original))\n",
    "print(\"RSD Transformed Model: \", MSD_transformed, np.argmin(MSD_transformed))\n",
    "print(\"RSD Transformed Normalised Model: \", MSD_transformed_normalised, np.argmin(MSD_transformed_normalised))"
   ]
  },
  {
   "cell_type": "markdown",
   "id": "75057876-d4dc-4bd7-acb3-5ac86c287ba8",
   "metadata": {},
   "source": [
    "## Metric 4: F1 Score\n",
    "### Calculation of F1 Score across dimension using original vector embeddings and Pencorr embeddings"
   ]
  },
  {
   "cell_type": "code",
   "execution_count": null,
   "id": "22a26ce3-312f-41a4-983b-5a4dea17d31c",
   "metadata": {
    "tags": []
   },
   "outputs": [],
   "source": [
    "#For model method F1 score calculation per dimension K\n",
    "dimensions = [32, 64, 128, 256, 512]\n",
    "f1_score = []\n",
    "input_dataset = []\n",
    "for img in testSample:\n",
    "    img_tensor = torch.from_numpy(np.array(img, dtype=np.float64))\n",
    "    img_tensor = img_tensor.unsqueeze(0).unsqueeze(0).to(device).double()\n",
    "    input_dataset.append(img_tensor)\n",
    "input_dataset = [tensor.float() for tensor in input_dataset] \n",
    "stacked_tensor = torch.stack(input_dataset)\n",
    "input_dataset = stacked_tensor.cpu().numpy()      \n",
    "input_dataset = [torch.tensor(data).to(device).float() for data in input_dataset]\n",
    "num = len(input_dataset)\n",
    "matrixG = imgcalc.get_matrixG(testSample, imageProductType)\n",
    "\n",
    "for dim in dimensions:    \n",
    "    print(f\"For dimension {dim}\")\n",
    "    embeddingType = f\"pencorr_{dim}\"\n",
    "\n",
    "    # model = models.SimpleCNN6(dimensions=dim, padding_mode='circular').to(device)\n",
    "    # model.load_state_dict(torch.load(os.path.join(os.path.abspath(\"../../VecRepV3\"), model_directory, \n",
    "    #                  f'best_model_MNIST_{imageType}_{dim}d_convlayer5.pt'), weights_only=True, map_location=torch.device('cpu')))\n",
    "\n",
    "    model.eval()\n",
    "    f1_index = []\n",
    "    \n",
    "    tp_index = []\n",
    "    fp_index = []\n",
    "    tn_index = []\n",
    "    fn_index = []\n",
    "    model_vectors = imgcalc.get_vector_embeddings(input_dataset, model)\n",
    "    \n",
    "    #matrixA = imgcalc.get_matrixA(matrixG, embeddingType, weight)\n",
    "    \n",
    "    for i in range(num):\n",
    "        top_values_b_1, _ = imgcalc.get_top_scores(matrixG[i], k,  print_results=False)\n",
    "        top_1_index = top_values_b_1[-1][0]\n",
    "        indices = [x[0] for x in top_values_b_1]\n",
    "        #print(i, indices)\n",
    "        MSD_threshold = imgcalc.get_MSE(model_vectors[i].detach().cpu().numpy(), model_vectors[top_1_index].detach().cpu().numpy())\n",
    "        \n",
    "        TP, TN, FP, FN = 0, 0, 0, 0\n",
    "        \n",
    "        for j in range(num):\n",
    "            mean_squared_difference = imgcalc.get_MSE(model_vectors[i].detach().cpu().numpy(), model_vectors[j].detach().cpu().numpy())\n",
    "            predicted = mean_squared_difference <= MSD_threshold\n",
    "            actual = j in indices\n",
    "\n",
    "            if predicted and actual:\n",
    "                TP += 1\n",
    "            elif predicted and not actual:\n",
    "                FP += 1\n",
    "            elif not predicted and actual:\n",
    "                FN += 1\n",
    "            elif not predicted and not actual:\n",
    "                TN += 1\n",
    "    \n",
    "        #print(TP, TN, FP, FN)\n",
    "        tp_index.append(TP)\n",
    "        fp_index.append(FP)\n",
    "        tn_index.append(TN)\n",
    "        fn_index.append(FN)\n",
    "        precision = TP / (TP + FP) if (TP + FP) > 0 else 0\n",
    "        recall = TP / (TP + FN) if (TP + FN) > 0 else 0\n",
    "        f1 = (2 * precision * recall) / (precision + recall) if (precision + recall) > 0 else 0\n",
    "        f1 = f1*100\n",
    "        f1_index.append(f1)\n",
    "\n",
    "    \n",
    "    average_f1_dim = np.mean(f1_index)\n",
    "    f1_score.append(average_f1_dim)\n",
    "    print(np.mean(tp_index), np.mean(fp_index), np.mean(tn_index), np.mean(fn_index))\n",
    "    print(f\"F1 Score: {average_f1_dim:.4f} for dimension {dim}\")"
   ]
  },
  {
   "cell_type": "code",
   "execution_count": null,
   "id": "8eed5462-faa3-4055-b141-7f75ab55d805",
   "metadata": {
    "tags": []
   },
   "outputs": [],
   "source": [
    "#For BFMEthod F1 score calculation per dimension K\n",
    "dimensions = [32, 64, 128, 256, 512]\n",
    "f1_score = []\n",
    "input_dataset = []\n",
    "for img in testSample:\n",
    "    img_tensor = torch.from_numpy(np.array(img, dtype=np.float64))\n",
    "    img_tensor = img_tensor.unsqueeze(0).unsqueeze(0).to(device).double()\n",
    "    input_dataset.append(img_tensor)\n",
    "input_dataset = [tensor.float() for tensor in input_dataset] \n",
    "stacked_tensor = torch.stack(input_dataset)\n",
    "input_dataset = stacked_tensor.cpu().numpy()      \n",
    "input_dataset = [torch.tensor(data).to(device).float() for data in input_dataset]\n",
    "num = len(input_dataset)\n",
    "matrixG = imgcalc.get_matrixG(testSample, imageProductType)\n",
    "\n",
    "for dim in dimensions:    \n",
    "    print(f\"For dimension {dim}\")\n",
    "    embeddingType = f\"pencorr_{dim}\"\n",
    "\n",
    "    # model = models.SimpleCNN3(dimensions=dim, padding_mode='circular').to(device)\n",
    "    # model.load_state_dict(torch.load(os.path.join(os.path.abspath(\"../../VecRepV3\"), model_directory, \n",
    "    #                  f'best_model_{imageType}_{dim}d_convlayer2.pt'), weights_only=True, map_location=torch.device('cpu')))\n",
    "\n",
    "    # model.eval()\n",
    "    f1_index = []\n",
    "    \n",
    "    tp_index = []\n",
    "    fp_index = []\n",
    "    tn_index = []\n",
    "    fn_index = []\n",
    "    #model_vectors = imgcalc.get_vector_embeddings(input_dataset, model)\n",
    "    \n",
    "    matrixA = imgcalc.get_matrixA(matrixG, embeddingType, weight)\n",
    "    \n",
    "    for i in range(num):\n",
    "        top_values_b_1, _ = imgcalc.get_top_scores(matrixG[i], k,  print_results=False)\n",
    "        top_1_index = top_values_b_1[-1][0]\n",
    "        indices = [x[0] for x in top_values_b_1]\n",
    "        #print(i, indices)\n",
    "        MSD_threshold = imgcalc.get_MSE(matrixA[:,i], matrixA[:,top_1_index])\n",
    "        \n",
    "        TP, TN, FP, FN = 0, 0, 0, 0\n",
    "        \n",
    "        for j in range(num):\n",
    "            mean_squared_difference = imgcalc.get_MSE(matrixA[:,i], matrixA[:,j])\n",
    "            predicted = mean_squared_difference <= MSD_threshold\n",
    "            actual = j in indices\n",
    "\n",
    "            if predicted and actual:\n",
    "                TP += 1\n",
    "            elif predicted and not actual:\n",
    "                FP += 1\n",
    "            elif not predicted and actual:\n",
    "                FN += 1\n",
    "            elif not predicted and not actual:\n",
    "                TN += 1\n",
    "    \n",
    "        #print(TP, TN, FP, FN)\n",
    "        tp_index.append(TP)\n",
    "        fp_index.append(FP)\n",
    "        tn_index.append(TN)\n",
    "        fn_index.append(FN)\n",
    "        precision = TP / (TP + FP) if (TP + FP) > 0 else 0\n",
    "        recall = TP / (TP + FN) if (TP + FN) > 0 else 0\n",
    "        f1 = (2 * precision * recall) / (precision + recall) if (precision + recall) > 0 else 0\n",
    "        f1 = f1*100\n",
    "        f1_index.append(f1)\n",
    "\n",
    "    \n",
    "    average_f1_dim = np.mean(f1_index)\n",
    "    f1_score.append(average_f1_dim)\n",
    "    print(np.mean(tp_index), np.mean(fp_index), np.mean(tn_index), np.mean(fn_index))\n",
    "    print(f\"F1 Score: {average_f1_dim:.4f} for dimension {dim}\")"
   ]
  },
  {
   "cell_type": "markdown",
   "id": "6fe6bc26-2904-4803-8437-8584968ea94a",
   "metadata": {},
   "source": [
    "# Obtaining the optimal dimension using 4 different metrics above"
   ]
  },
  {
   "cell_type": "code",
   "execution_count": null,
   "id": "e316dd64-4178-42f5-8155-523b73ea91af",
   "metadata": {},
   "outputs": [],
   "source": [
    "from collections import Counter\n",
    "dimensions = [32, 64, 128, 256, 512]\n",
    "\n",
    "\n",
    "metric1 = np.argmax(kscores_original)\n",
    "metric2 = np.argmin(losses_original)\n",
    "metric3A = np.argmin(MSD_original)\n",
    "metric4 = np.argmax(f1_score)\n",
    "\n",
    "metrics = [\n",
    "    dimensions[metric1],\n",
    "    dimensions[metric2],\n",
    "    dimensions[metric3A],\n",
    "    dimensions[metric4]\n",
    "]\n",
    "\n",
    "optimal_dim = Counter(metrics).most_common(1)[0][0]\n",
    "print(\"Optimal Dimension:\", optimal_dim)"
   ]
  },
  {
   "cell_type": "markdown",
   "id": "1ec8dd42-a69a-44d9-8837-118c67a64551",
   "metadata": {},
   "source": [
    "### Using normalized embedding validation loss to determine optimal dimension.\n",
    "#### Existing strategies for the selection of the embedding dimension rely on performance maximization in downstream tasks."
   ]
  },
  {
   "cell_type": "code",
   "execution_count": null,
   "id": "4fc3dfb6-12b7-4ee0-a86a-802a5128dd3c",
   "metadata": {
    "tags": []
   },
   "outputs": [],
   "source": [
    "def find_optimal_dim(losses, eps=0.05):  \n",
    "    \"\"\"\n",
    "    Finds the optimal dimension based on the embedding loss function.\n",
    "\n",
    "    :param losses: Dictionary {dimension: loss value}\n",
    "    :param eps: Threshold percentage (default 0.05)\n",
    "    :return: The optimal dimension\n",
    "    \"\"\"\n",
    "    L_inf = min(losses.values())\n",
    "\n",
    "    for d in sorted(losses.keys()): \n",
    "        if L_inf == 0 or (losses[d] - L_inf) / L_inf <= eps:  \n",
    "            return d  \n",
    "\n",
    "    return max(losses.keys()) \n",
    "\n",
    "losses = {8: 0.17436, 16: 0.10059, 32: 0.08990, 64: 0.09155, 128: 0.09328, 256: 0.0636}\n",
    "optimal_dim = find_optimal_dim(losses)\n",
    "print(\"Optimal Dimension:\", optimal_dim)"
   ]
  },
  {
   "cell_type": "code",
   "execution_count": null,
   "id": "33dee692-cbc9-4eaf-9248-4068baf5bfd8",
   "metadata": {
    "jupyter": {
     "source_hidden": true
    },
    "tags": []
   },
   "outputs": [],
   "source": [
    "# -------------- for debugging -----------------\n",
    "tolerance = 1e-6\n",
    "matrixG = imgcalc.get_matrixG(testSample, imageProductType)\n",
    "\n",
    "rank = np.linalg.matrix_rank(matrixG)\n",
    "print(\"Rank of the matrixG:\", rank)\n",
    "\n",
    "nDim = 64\n",
    "# original image product matrix not PSD, after transformation,\n",
    "matrixGprime = embedfunc.pencorr(matrixG, nDim) #reduce matrixG rank from image set size to nDim\n",
    "\n",
    "print(\"g pirme\")\n",
    "rank = np.linalg.matrix_rank(matrixGprime) #156\n",
    "''' \n",
    "given 753 unique training samples, rank of matrixG is by right 753 \n",
    "ndim 512: rank of g' = 120, 120 positive eigenvalues for g', 380 positive eigenvalues for g\n",
    "ndim 256: rank of g' = 120, 120 positive eigenvalues for g', 380 positive eigenvalues for g\n",
    "ndim 64: rank of g' = 64, 64 positive eigenvalues for g', 380 positive eigenvalues for g\n",
    "\n",
    "somewhere in the algorithm, it is coded such that pencorr striaghtaway finds the optimum rank of a matrix and minimises it\n",
    "once rank is minimised to its optimum, the number of positive eigenvalues is only that number.\n",
    "unless we set nDim < rank, we cannot change the number of positive eigenvalues.\n",
    "this overall limits the number of dimensions we can test. \n",
    "\n",
    "essentially, since rank of g' determines the vector space formed by the rows and columns (linearly independent rows or columns in matrix),\n",
    "the rank of a matrix is the number of non-zero eigenvalues of a matrix, which is why limiting the rank of the matrix to 120 only give\n",
    "120 non-zero elements in our embedding dimension. \n",
    "'''\n",
    "print(\"Rank of the matrixG':\", rank)\n",
    "eigenvalues, eigenvectors = np.linalg.eig(matrixGprime)\n",
    "print(matrixGprime.shape) #753x753\n",
    "print(eigenvalues.shape) #753\n",
    "print(eigenvectors.shape) #753x753\n",
    "num_positive_eigenvalues = np.sum(eigenvalues > tolerance) \n",
    "print(\"Number of eigenvalues greater than tolerance:\", num_positive_eigenvalues)\n",
    "\n",
    "matrixA = imgcalc.get_matrixA(matrixG, embeddingType, weight)\n",
    "print(f\"\\nEmbedding of image {index1} for Pencorr (A'A): {matrixA[:,index1]} {matrixA.shape} {matrixA[:,index1].size}\")\n",
    "count_not_close_to_zero = np.sum(np.abs(matrixA[:,index1]) > tolerance)\n",
    "print(\"Number of elements not close to tolerance 1e-5:\", count_not_close_to_zero)\n",
    "\n",
    "count_to_zero = np.sum(np.abs(matrixA[:,index1]) > 0)\n",
    "print(\"Number of elements not close to 0:\", count_to_zero)\n",
    "\n",
    "print(\"g\")\n",
    "eigenvalues, eigenvectors = np.linalg.eig(matrixG)\n",
    "print(matrixG.shape) #753x753\n",
    "print(eigenvalues.shape) #753\n",
    "print(eigenvectors.shape)\n",
    "num_positive_eigenvalues = np.sum(eigenvalues > tolerance) #380 ????????\n",
    "print(\"Number of eigenvalues greater than tolerance:\", num_positive_eigenvalues)"
   ]
  },
  {
   "cell_type": "code",
   "execution_count": null,
   "id": "e3bf648c-4b10-4041-8d4c-7fdceee6dac8",
   "metadata": {},
   "outputs": [],
   "source": []
  }
 ],
 "metadata": {
  "kernelspec": {
   "display_name": "test",
   "language": "python",
   "name": "python3"
  },
  "language_info": {
   "codemirror_mode": {
    "name": "ipython",
    "version": 3
   },
   "file_extension": ".py",
   "mimetype": "text/x-python",
   "name": "python",
   "nbconvert_exporter": "python",
   "pygments_lexer": "ipython3",
   "version": "3.12.8"
  }
 },
 "nbformat": 4,
 "nbformat_minor": 5
}
