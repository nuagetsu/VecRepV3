{
 "cells": [
  {
   "cell_type": "code",
   "execution_count": 4,
   "id": "f7b259e8",
   "metadata": {},
   "outputs": [
    {
     "name": "stdout",
     "output_type": "stream",
     "text": [
      "/home/jovyan\n"
     ]
    }
   ],
   "source": [
    "import sys\n",
    "import os\n",
    "path = os.path.abspath(\"../\")\n",
    "sys.path.append(path)\n",
    "print(path)"
   ]
  },
  {
   "cell_type": "code",
   "execution_count": 5,
   "id": "05cc53fd",
   "metadata": {},
   "outputs": [],
   "source": [
    "import torch\n",
    "from torch.utils.data import DataLoader, TensorDataset, Sampler, random_split, Dataset, Subset\n",
    "from torchvision import datasets, transforms\n",
    "\n",
    "import matplotlib.pyplot as plt\n",
    "import numpy as np\n",
    "import math\n",
    "import pandas as pd\n",
    "import random\n",
    "\n",
    "\n",
    "import src.helpers.MetricUtilities as metrics\n",
    "import src.data_processing.ImageProducts as ImageProducts\n",
    "\n",
    "from mtree.mtree import MTree\n",
    "import mtree.mtree as mtree\n",
    "\n",
    "import glob\n",
    "from PIL import Image\n",
    "\n",
    "import time\n",
    "import json\n",
    "import xml.etree.ElementTree as ET"
   ]
  },
  {
   "cell_type": "code",
   "execution_count": null,
   "id": "f7a003c7",
   "metadata": {},
   "outputs": [],
   "source": [
    "import statistics\n",
    "\n",
    "def packing_dim(r_1, r_2, epsilon, testSample, d):\n",
    "    l = 1\n",
    "    L_1 = []\n",
    "    L_2 = []\n",
    "    while True:\n",
    "        random.shuffle(testSample)\n",
    "        S_n = testSample\n",
    "        C = []\n",
    "        for i in range(len(S_n)):\n",
    "            badPoint = False\n",
    "            for j in range(len(C)):\n",
    "                if (d(S_n[i], C[j]) < r_1):\n",
    "                    print(d(S_n[i], C[j]))\n",
    "                    badPoint = True\n",
    "            if (not badPoint):\n",
    "                # print(\"not badpoint\")\n",
    "                C.append(S_n[i])\n",
    "        L_1.append(math.log(len(C)))\n",
    "        print(L_1)\n",
    "        C = []\n",
    "        for i in range(len(testSample)):\n",
    "            badPoint = False\n",
    "            for j in range(len(C)):\n",
    "                if (d(S_n[i], C[j]) < r_2):\n",
    "                    badPoint = True\n",
    "            if (not badPoint):\n",
    "                # print(\"not badpoint\")\n",
    "                C.append(S_n[i])\n",
    "                print(f\"C: {C}\")\n",
    "        L_2.append(math.log(len(C)))\n",
    "        \n",
    "        D_pack = ((np.sum(L_1) / len(L_1)) - (np.sum(L_2) / len(L_2))) / (math.log(r_2) - math.log(r_1))\n",
    "        print(f\"l: {l} and D_pack: {D_pack}\")\n",
    "        if (l > 10):\n",
    "            print(\"l > 10 now\")\n",
    "            numerator = math.sqrt(statistics.variance(L_1) + statistics.variance(L_2))\n",
    "            denom = math.sqrt(l) * (math.log(r_2) - math.log(r_1))\n",
    "            print (numerator / denom)\n",
    "            if (1.65 * (numerator / denom) < D_pack * (1-epsilon) / 2):\n",
    "                return D_pack\n",
    "        l += 1\n"
   ]
  },
  {
   "cell_type": "code",
   "execution_count": null,
   "id": "4e507744",
   "metadata": {},
   "outputs": [],
   "source": [
    "list_data = \"/home/jovyan/data/ATRNet-STAR_annotations/list_data_all.npz\"\n",
    "\n",
    "data = np.load(list_data)\n",
    "testSample = data[\"testSample\"]\n",
    "testSample = testSample[:10]\n",
    "print(testSample.shape)"
   ]
  },
  {
   "cell_type": "code",
   "execution_count": null,
   "id": "d2fa73c6",
   "metadata": {},
   "outputs": [
    {
     "ename": "NameError",
     "evalue": "name 'testSample' is not defined",
     "output_type": "error",
     "traceback": [
      "\u001b[31m---------------------------------------------------------------------------\u001b[39m",
      "\u001b[31mNameError\u001b[39m                                 Traceback (most recent call last)",
      "\u001b[36mCell\u001b[39m\u001b[36m \u001b[39m\u001b[32mIn[3]\u001b[39m\u001b[32m, line 5\u001b[39m\n\u001b[32m      2\u001b[39m r_2 = \u001b[32m11\u001b[39m\n\u001b[32m      3\u001b[39m epsilon = \u001b[32m0.5\u001b[39m\n\u001b[32m----> \u001b[39m\u001b[32m5\u001b[39m D_pack = packing_dim(r_1, r_2, epsilon, \u001b[43mtestSample\u001b[49m, metrics.dist_fft_numba)\n\u001b[32m      6\u001b[39m \u001b[38;5;28mprint\u001b[39m(D_pack)\n",
      "\u001b[31mNameError\u001b[39m: name 'testSample' is not defined"
     ]
    }
   ],
   "source": [
    "r_1 = 0.01\n",
    "r_2 = 0.02\n",
    "epsilon = 0.5\n",
    "\n",
    "D_pack = packing_dim(r_1, r_2, epsilon, testSample, metrics.dist_fft_numba)\n",
    "print(D_pack)"
   ]
  },
  {
   "cell_type": "code",
   "execution_count": null,
   "id": "3342ca70",
   "metadata": {},
   "outputs": [],
   "source": []
  }
 ],
 "metadata": {
  "kernelspec": {
   "display_name": "cupy-env",
   "language": "python",
   "name": "python3"
  },
  "language_info": {
   "codemirror_mode": {
    "name": "ipython",
    "version": 3
   },
   "file_extension": ".py",
   "mimetype": "text/x-python",
   "name": "python",
   "nbconvert_exporter": "python",
   "pygments_lexer": "ipython3",
   "version": "3.12.11"
  }
 },
 "nbformat": 4,
 "nbformat_minor": 5
}
