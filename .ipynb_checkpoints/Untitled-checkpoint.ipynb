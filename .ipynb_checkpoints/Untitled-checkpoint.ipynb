{
 "cells": [
  {
   "cell_type": "code",
   "execution_count": 1,
   "id": "0da21ead-52a7-4619-9260-38827f17fb39",
   "metadata": {
    "tags": []
   },
   "outputs": [
    {
     "name": "stdout",
     "output_type": "stream",
     "text": [
      "/home/jovyan/VecRepV3\n"
     ]
    }
   ],
   "source": [
    "import sys\n",
    "import os\n",
    "path = os.path.abspath(\"../../VecRepV3\") \n",
    "sys.path.append(path)\n",
    "print(path)"
   ]
  },
  {
   "cell_type": "code",
   "execution_count": 5,
   "id": "6363fc42-9893-4961-a084-6384a20195d9",
   "metadata": {
    "tags": []
   },
   "outputs": [
    {
     "name": "stdout",
     "output_type": "stream",
     "text": [
      "Using device: cuda\n",
      "Input Tensor:\n",
      "tensor([[[[-1.5307,  0.3076, -0.8279,  0.3653, -1.2505,  0.5776],\n",
      "          [-0.7093, -0.7401, -0.7011,  0.3059, -0.4885,  0.3318],\n",
      "          [ 0.0336, -0.1219,  0.7362, -1.2367, -1.2124,  1.3667],\n",
      "          [-0.2063, -0.3919,  0.6268,  0.6567, -0.6374,  0.4465],\n",
      "          [ 1.4415,  1.0845,  0.4446, -0.8633, -1.2790, -0.6545],\n",
      "          [-0.3736,  0.8501, -0.9837,  0.1610, -1.0535, -0.5960]]]],\n",
      "       device='cuda:0')\n",
      "\n",
      "Output after ApsPool:\n",
      "(tensor([[[[-0.4170, -0.2974, -0.3748],\n",
      "          [ 0.0275, -0.0056, -0.3188],\n",
      "          [ 0.3609,  0.1740, -0.6790]],\n",
      "\n",
      "         [[-0.4170, -0.2974, -0.3748],\n",
      "          [ 0.0275, -0.0056, -0.3188],\n",
      "          [ 0.3609,  0.1740, -0.6790]],\n",
      "\n",
      "         [[-0.4170, -0.2974, -0.3748],\n",
      "          [ 0.0275, -0.0056, -0.3188],\n",
      "          [ 0.3609,  0.1740, -0.6790]],\n",
      "\n",
      "         [[-0.4170, -0.2974, -0.3748],\n",
      "          [ 0.0275, -0.0056, -0.3188],\n",
      "          [ 0.3609,  0.1740, -0.6790]],\n",
      "\n",
      "         [[-0.4170, -0.2974, -0.3748],\n",
      "          [ 0.0275, -0.0056, -0.3188],\n",
      "          [ 0.3609,  0.1740, -0.6790]],\n",
      "\n",
      "         [[-0.4170, -0.2974, -0.3748],\n",
      "          [ 0.0275, -0.0056, -0.3188],\n",
      "          [ 0.3609,  0.1740, -0.6790]]]], device='cuda:0'), tensor([0], device='cuda:0'))\n"
     ]
    }
   ],
   "source": [
    "import torch\n",
    "from truly_shift_invariant_cnns.models.aps_models.apspool import ApsPool \n",
    "\n",
    "device = torch.device(\"cuda\" if torch.cuda.is_available() else \"cpu\")\n",
    "print(\"Using device:\", device)\n",
    "# Let's say batch size = 1, channels = 1, 6x6 image\n",
    "input_tensor = torch.randn(1, 1, 6, 6).to(device)\n",
    "\n",
    "# Print input for reference\n",
    "print(\"Input Tensor:\")\n",
    "print(input_tensor)\n",
    "\n",
    "# Initialize APS Pooling layer\n",
    "pool = ApsPool(6).to(device)\n",
    "\n",
    "# Apply APS Pooling\n",
    "output = pool(input_tensor)\n",
    "\n",
    "# Print the output\n",
    "print(\"\\nOutput after ApsPool:\")\n",
    "print(output)\n"
   ]
  },
  {
   "cell_type": "code",
   "execution_count": null,
   "id": "d1c061c0-a518-4d65-8154-7cf17adbf60d",
   "metadata": {},
   "outputs": [],
   "source": []
  }
 ],
 "metadata": {
  "kernelspec": {
   "display_name": "Python (test)",
   "language": "python",
   "name": "test"
  },
  "language_info": {
   "codemirror_mode": {
    "name": "ipython",
    "version": 3
   },
   "file_extension": ".py",
   "mimetype": "text/x-python",
   "name": "python",
   "nbconvert_exporter": "python",
   "pygments_lexer": "ipython3",
   "version": "3.12.8"
  }
 },
 "nbformat": 4,
 "nbformat_minor": 5
}
