{
 "cells": [
  {
   "cell_type": "code",
   "execution_count": 1,
   "id": "4fc86b4d-a26a-4c99-be8a-dfab7579a505",
   "metadata": {
    "tags": []
   },
   "outputs": [
    {
     "name": "stderr",
     "output_type": "stream",
     "text": [
      "/home/jovyan/miniconda3/envs/test/lib/python3.12/site-packages/_distutils_hack/__init__.py:53: UserWarning: Reliance on distutils from stdlib is deprecated. Users must rely on setuptools to provide the distutils module. Avoid importing distutils or import setuptools first, and avoid setting SETUPTOOLS_USE_DISTUTILS=stdlib. Register concerns at https://github.com/pypa/setuptools/issues/new?template=distutils-deprecation.yml\n",
      "  warnings.warn(\n"
     ]
    }
   ],
   "source": [
    "import torch\n",
    "import torch.nn as nn\n",
    "import torch.optim as optim\n",
    "import torch.nn.functional as F\n",
    "from torch.utils.data import DataLoader, TensorDataset, Sampler, random_split, Dataset\n",
    "from torchvision import datasets, transforms\n",
    "\n",
    "import matplotlib.pyplot as plt\n",
    "import numpy as np\n",
    "import math\n",
    "import pandas as pd\n",
    "\n",
    "from collections import defaultdict\n",
    "from line_profiler import profile\n",
    "from sklearn.model_selection import train_test_split\n",
    "\n",
    "import src.data_processing.BruteForceEstimator as bfEstimator\n",
    "import src.data_processing.ImageCalculations as imgcalc\n",
    "import src.visualization.BFmethod as graphing\n",
    "import src.visualization.Metrics as metrics\n",
    "import src.visualization.ImagePlots as imgplt\n",
    "import src.data_processing.ImageProducts as ImageProducts\n",
    "import src.helpers.ModelUtilities as models\n",
    "\n",
    "\n",
    "device = torch.device(\"cuda\" if torch.cuda.is_available() else \"cpu\")  "
   ]
  },
  {
   "cell_type": "code",
   "execution_count": 2,
   "id": "6a946225-8604-4203-9e62-4c7c217a9a3e",
   "metadata": {
    "tags": []
   },
   "outputs": [
    {
     "data": {
      "image/png": "[encoded data removed]",
      "text/plain": [
       "<Figure size 1000x500 with 2 Axes>"
      ]
     },
     "metadata": {},
     "output_type": "display_data"
    }
   ],
   "source": [
    "# ----------------------------------Image Input----------------------------------\n",
    "IMAGE_TYPES = [\"NbinMmax_ones\", \"Nbin\", \"triangles\", \"triangle_mean_subtracted\"]\n",
    "\n",
    "IMAGE_FILTERS = [\"unique\", \"Nmax_ones\", \"one_island\"]\n",
    "\n",
    "IMAGE_PRODUCT_TYPES = [\"ncc\", \"ncc_scaled\"]\n",
    "\n",
    "EMBEDDING_TYPES = [\"pencorr_D\"]\n",
    "\n",
    "dimensions = 32\n",
    "\n",
    "imageType = \"triangles\"\n",
    "filters = [\"100max_ones\"]\n",
    "imageProductType = \"ncc_scaled_-1\"\n",
    "overwrite = {\"imgSet\": False, \"imgProd\": False, \"embedding\": False}\n",
    "weight = None\n",
    "embeddingType = f\"pencorr_{dimensions}\"\n",
    "k=5\n",
    "\n",
    "bruteForceEstimator = bfEstimator.BruteForceEstimator(\n",
    "    imageType=imageType, filters=filters, imageProductType=imageProductType, embeddingType=embeddingType, overwrite=overwrite)\n",
    "\n",
    "index1 = np.random.randint(len(bruteForceEstimator.imageSet))\n",
    "index2 = np.random.randint(len(bruteForceEstimator.imageSet))\n",
    "\n",
    "input1=bruteForceEstimator.imageSet[index1]\n",
    "input2=bruteForceEstimator.imageSet[index2]\n",
    "\n",
    "imgplt.plot_original_images(input1, input2, index1, index2)\n",
    "\n",
    "input_dataset = []\n",
    "input_images = [input1, input2] \n",
    "for i in range(len(input_images)):\n",
    "    img = np.array(input_images[i], dtype=np.float64)\n",
    "    img = torch.from_numpy(img)\n",
    "    img = img.unsqueeze(0).unsqueeze(0).cuda().double()\n",
    "    input_dataset.append(img)\n",
    "\n",
    "stacked_tensor = torch.stack(input_dataset)\n",
    "input_dataset = stacked_tensor.cpu().numpy()      \n",
    "input_dataset = [torch.tensor(data).cuda().float() for data in input_dataset]"
   ]
  },
  {
   "cell_type": "code",
   "execution_count": 3,
   "id": "476d2473-5f71-4235-b68f-3fc779afb916",
   "metadata": {
    "tags": []
   },
   "outputs": [
    {
     "name": "stderr",
     "output_type": "stream",
     "text": [
      "/tmp/ipykernel_27080/2309580364.py:3: FutureWarning: You are using `torch.load` with `weights_only=False` (the current default value), which uses the default pickle module implicitly. It is possible to construct malicious pickle data which will execute arbitrary code during unpickling (See https://github.com/pytorch/pytorch/blob/main/SECURITY.md#untrusted-models for more details). In a future release, the default value for `weights_only` will be flipped to `True`. This limits the functions that could be executed during unpickling. Arbitrary objects will no longer be allowed to be loaded via this mode unless they are explicitly allowlisted by the user via `torch.serialization.add_safe_globals`. We recommend you start setting `weights_only=True` for any use case where you don't have full control of the loaded file. Please open an issue on GitHub for any issues related to this experimental feature.\n",
      "  model.load_state_dict(torch.load('model/best_model_batch_greyscale_8bin.pt'))\n"
     ]
    },
    {
     "name": "stdout",
     "output_type": "stream",
     "text": [
      "\n",
      "Loss Calculation\n",
      "\n",
      "Scaled NCC:  0.13389348983764648\n",
      "Dot product value of model:  -0.20353259146213531\n",
      "Loss:  0.3374260663986206\n",
      "\n",
      "Dot product value of BF Method:  0.102011533031985\n",
      "Difference in values of BF Method and Model Method:  0.3055441379547119\n"
     ]
    }
   ],
   "source": [
    "# -----------------------------Evaluating Results-----------------------------\n",
    "model = models.SimpleCNN().cuda()\n",
    "model.load_state_dict(torch.load('model/best_model_batch_greyscale_8bin.pt'))\n",
    "model.eval()\n",
    "\n",
    "device = torch.device(\"cuda\" if torch.cuda.is_available() else \"cpu\")\n",
    "model.to(device)\n",
    "\n",
    "#----------------------Metric 1 - Loss Calculation-----------------\n",
    "scale = ImageProducts.scale_min(ImageProducts.ncc, -1)\n",
    "NCC_scaled_value = scale(input1,input2)\n",
    "\n",
    "print(\"\\nLoss Calculation\")\n",
    "print(\"\\nScaled NCC: \",NCC_scaled_value)\n",
    "\n",
    "embedded_vector_image1 = model(input_dataset[0])\n",
    "embedded_vector_image2 = model(input_dataset[1])\n",
    "\n",
    "dot_product_value = torch.sum(embedded_vector_image1 * embedded_vector_image2, dim=1) \n",
    "\n",
    "print(\"Dot product value of model: \", dot_product_value.item())\n",
    "\n",
    "NCC_scaled_value = torch.tensor(NCC_scaled_value).to(dot_product_value.device).float()\n",
    "if NCC_scaled_value.ndim == 0:\n",
    "    NCC_scaled_value = NCC_scaled_value.unsqueeze(0)\n",
    "\n",
    "train_loss_value = models.loss_fn_frobenius(dot_product_value, NCC_scaled_value) \n",
    "print(\"Loss: \", train_loss_value.item())\n",
    "\n",
    "matrixA = bruteForceEstimator.matrixA\n",
    "matrixG = bruteForceEstimator.matrixG\n",
    "dot_product_matrix = np.dot(matrixA.T, matrixA)\n",
    "dot_product_value_Pencorr = dot_product_matrix[index1][index2]\n",
    "difference = abs(dot_product_value_Pencorr - dot_product_value)\n",
    "\n",
    "print(\"\\nDot product value of BF Method: \", dot_product_value_Pencorr)\n",
    "print(\"Difference in values of BF Method and Model Method: \", difference.item())"
   ]
  },
  {
   "cell_type": "code",
   "execution_count": 4,
   "id": "e3011ca1-0bea-43d7-b13e-f7bf252861f0",
   "metadata": {
    "tags": []
   },
   "outputs": [
    {
     "name": "stdout",
     "output_type": "stream",
     "text": [
      "\n",
      "Brute Force Method -- KNN-IOU score\n",
      "embProd_max_index:  [301  87 390 391 228 302]\n",
      "imgProd_max_index:  [ 56  87 130 136 180 228 269 301 302 319 353 390 391 399 456 485]\n",
      "\n",
      "Intersection sets:  [ 87 228 301 302 390 391]\n",
      "Union sets:  [ 56  87 130 136 180 228 269 301 302 319 353 390 391 399 456 485]\n",
      "Estimating K-Score for Image 302: K-Score = 0.375\n",
      "\n",
      "Top 16 values of Vector b\n",
      "Rank 1: Value = 1.0, Index = 302\n",
      "Rank 2: Value = 1.0, Index = 391\n",
      "Rank 3: Value = 0.8257417678833008, Index = 319\n",
      "Rank 4: Value = 0.7888543605804443, Index = 56\n",
      "Rank 5: Value = 0.7888543605804443, Index = 87\n",
      "Rank 6: Value = 0.7888543605804443, Index = 130\n",
      "Rank 7: Value = 0.7888543605804443, Index = 136\n",
      "Rank 8: Value = 0.7888543605804443, Index = 180\n",
      "Rank 9: Value = 0.7888543605804443, Index = 228\n",
      "Rank 10: Value = 0.7888543605804443, Index = 269\n",
      "Rank 11: Value = 0.7888543605804443, Index = 301\n",
      "Rank 12: Value = 0.7888543605804443, Index = 353\n",
      "Rank 13: Value = 0.7888543605804443, Index = 390\n",
      "Rank 14: Value = 0.7888543605804443, Index = 399\n",
      "Rank 15: Value = 0.7888543605804443, Index = 456\n",
      "Rank 16: Value = 0.7888543605804443, Index = 485\n",
      "\n",
      "Top 16 values of Vector c\n",
      "Rank 1: Value = 1.0, Index = 302\n",
      "Rank 2: Value = 0.9999999999999996, Index = 391\n",
      "Rank 3: Value = 0.8028163484283283, Index = 228\n",
      "Rank 4: Value = 0.8028163472773745, Index = 390\n",
      "Rank 5: Value = 0.8028163440510556, Index = 87\n",
      "Rank 6: Value = 0.8028163424590884, Index = 301\n",
      "Rank 7: Value = 0.8028163415179314, Index = 56\n",
      "Rank 8: Value = 0.8028163394520743, Index = 130\n",
      "Rank 9: Value = 0.7661684094292276, Index = 319\n",
      "Rank 10: Value = 0.6543337434887928, Index = 399\n",
      "Rank 11: Value = 0.6543337414326988, Index = 136\n",
      "Rank 12: Value = 0.6543337405956253, Index = 485\n",
      "Rank 13: Value = 0.6543337401363086, Index = 180\n",
      "Rank 14: Value = 0.6328888494298288, Index = 392\n",
      "Rank 15: Value = 0.6328888485261523, Index = 303\n",
      "Rank 16: Value = 0.6328888454990109, Index = 229\n",
      "\n",
      "Comparison between vector c and vector b\n",
      " Index  Vector b Value (NCC value)  Vector c Value (Dot product value)\n",
      "   302                    1.000000                            1.000000\n",
      "    56                    0.788854                            0.802816\n",
      "    87                    0.788854                            0.802816\n",
      "   130                    0.788854                            0.802816\n",
      "   136                    0.788854                            0.654334\n",
      "   180                    0.788854                            0.654334\n",
      "   228                    0.788854                            0.802816\n",
      "   269                    0.788854                            0.622386\n",
      "   301                    0.788854                            0.802816\n",
      "   319                    0.825742                            0.766168\n",
      "   353                    0.788854                            0.622386\n",
      "   390                    0.788854                            0.802816\n",
      "   391                    1.000000                            1.000000\n",
      "   399                    0.788854                            0.654334\n",
      "   456                    0.788854                            0.622386\n",
      "   485                    0.788854                            0.654334\n",
      "\n",
      "Comparing images in intersection & union sets\n",
      "\n",
      "Plotting images in the intersection set:\n"
     ]
    },
    {
     "data": {
      "image/png": "[encoded data removed]",
      "text/plain": [
       "<Figure size 1000x500 with 6 Axes>"
      ]
     },
     "metadata": {},
     "output_type": "display_data"
    },
    {
     "name": "stdout",
     "output_type": "stream",
     "text": [
      "\n",
      "Plotting images in the union set:\n"
     ]
    },
    {
     "data": {
      "image/png": "[encoded data removed]",
      "text/plain": [
       "<Figure size 1000x500 with 16 Axes>"
      ]
     },
     "metadata": {},
     "output_type": "display_data"
    },
    {
     "name": "stdout",
     "output_type": "stream",
     "text": [
      "\n",
      "For translationally unique plots: \n"
     ]
    },
    {
     "ename": "NameError",
     "evalue": "name 'similar_groups' is not defined",
     "output_type": "error",
     "traceback": [
      "\u001b[0;31m---------------------------------------------------------------------------\u001b[0m",
      "\u001b[0;31mNameError\u001b[0m                                 Traceback (most recent call last)",
      "Cell \u001b[0;32mIn[4], line 7\u001b[0m\n\u001b[1;32m      5\u001b[0m vectorb_bf1 \u001b[38;5;241m=\u001b[39m bruteForceEstimator\u001b[38;5;241m.\u001b[39mmatrixG[index1]\n\u001b[1;32m      6\u001b[0m vectorc_bf1 \u001b[38;5;241m=\u001b[39m imgcalc\u001b[38;5;241m.\u001b[39mget_vectorc_brute(index1, bruteForceEstimator\u001b[38;5;241m.\u001b[39mmatrixA)\n\u001b[0;32m----> 7\u001b[0m imgplt\u001b[38;5;241m.\u001b[39mdisplay_and_plot_results(vectorb_bf1, vectorc_bf1, \u001b[38;5;124m\"\u001b[39m\u001b[38;5;124mBrute Force\u001b[39m\u001b[38;5;124m\"\u001b[39m, index1, k, bruteForceEstimator\u001b[38;5;241m.\u001b[39mimageSet)\n\u001b[1;32m      9\u001b[0m vectorb_bf2 \u001b[38;5;241m=\u001b[39m bruteForceEstimator\u001b[38;5;241m.\u001b[39mmatrixG[index2]\n\u001b[1;32m     10\u001b[0m vectorc_bf2 \u001b[38;5;241m=\u001b[39m imgcalc\u001b[38;5;241m.\u001b[39mget_vectorc_brute(index2, bruteForceEstimator\u001b[38;5;241m.\u001b[39mmatrixA)\n",
      "File \u001b[0;32m~/VecRepV3/src/visualization/ImagePlots.py:125\u001b[0m, in \u001b[0;36mdisplay_and_plot_results\u001b[0;34m(vectorb, vectorc, method_name, index, k, input_images)\u001b[0m\n\u001b[1;32m    123\u001b[0m \u001b[38;5;28mprint\u001b[39m(\u001b[38;5;124m\"\u001b[39m\u001b[38;5;130;01m\\n\u001b[39;00m\u001b[38;5;124mComparing images in intersection & union sets\u001b[39m\u001b[38;5;124m\"\u001b[39m)\n\u001b[1;32m    124\u001b[0m print_images(indices, intersection_indices, input_images)\n\u001b[0;32m--> 125\u001b[0m plot_unique_images(vectorb, indices, intersection_indices, input_images)\n",
      "File \u001b[0;32m~/VecRepV3/src/visualization/ImagePlots.py:76\u001b[0m, in \u001b[0;36mplot_unique_images\u001b[0;34m(vectorb, indices, intersection_indices, input_images)\u001b[0m\n\u001b[1;32m     74\u001b[0m \u001b[38;5;28mprint\u001b[39m(\u001b[38;5;124mf\u001b[39m\u001b[38;5;124m\"\u001b[39m\u001b[38;5;130;01m\\n\u001b[39;00m\u001b[38;5;124mFor translationally unique plots: \u001b[39m\u001b[38;5;124m\"\u001b[39m)\n\u001b[1;32m     75\u001b[0m unique_indices, unique_intersection_indices \u001b[38;5;241m=\u001b[39m imgcalc\u001b[38;5;241m.\u001b[39mget_unique_images(indices, intersection_indices, input_images, vectorb)\n\u001b[0;32m---> 76\u001b[0m printing_translational_indices(similar_groups, unique_indices)\n\u001b[1;32m     77\u001b[0m print_images(unique_indices, unique_intersection_indices, input_images)\n",
      "\u001b[0;31mNameError\u001b[0m: name 'similar_groups' is not defined"
     ]
    }
   ],
   "source": [
    "#----------------------Metric 2 - KNNIoU-----------------\n",
    "index1 = 302\n",
    "index2 = 479\n",
    "print(\"\\nBrute Force Method -- KNN-IOU score\")\n",
    "vectorb_bf1 = bruteForceEstimator.matrixG[index1]\n",
    "vectorc_bf1 = imgcalc.get_vectorc_brute(index1, bruteForceEstimator.matrixA)\n",
    "imgplt.display_and_plot_results(vectorb_bf1, vectorc_bf1, \"Brute Force\", index1, k, bruteForceEstimator.imageSet)\n",
    "\n",
    "vectorb_bf2 = bruteForceEstimator.matrixG[index2]\n",
    "vectorc_bf2 = imgcalc.get_vectorc_brute(index2, bruteForceEstimator.matrixA)\n",
    "imgplt.display_and_plot_results(vectorb_bf2, vectorc_bf2, \"Brute Force\", index2, k, bruteForceEstimator.imageSet)\n",
    "\n",
    "print(\"\\nModel Method -- KNN-IOU score\")\n",
    "input_dataset = []\n",
    "for img in bruteForceEstimator.imageSet:\n",
    "    img_tensor = torch.from_numpy(np.array(img, dtype=np.float64))\n",
    "    img_tensor = img_tensor.unsqueeze(0).unsqueeze(0).cuda().double()\n",
    "    input_dataset.append(img_tensor)\n",
    "input_dataset = [tensor.float() for tensor in input_dataset] \n",
    "\n",
    "vectorb_model1 = bruteForceEstimator.matrixG[index1]\n",
    "vectorc_model1 = imgcalc.get_vectorc_model(index1, model, input_dataset)\n",
    "imgplt.display_and_plot_results(vectorb_model1, vectorc_model1, \"Model\", index1, k, bruteForceEstimator.imageSet)\n",
    "\n",
    "vectorb_model2 = bruteForceEstimator.matrixG[index2]\n",
    "vectorc_model2 = imgcalc.get_vectorc_model(index2, model, input_dataset)\n",
    "imgplt.display_and_plot_results(vectorb_model2, vectorc_model2, \"Model\", index2, k, bruteForceEstimator.imageSet)\n",
    "    \n",
    "    \n",
    "import src.data_processing.Filters as filter\n",
    "print(f\"Excluding translationally similar images\")\n",
    "input_image = filter.apply_translationally_unique_filter(bruteForceEstimator.imageSet)\n",
    "vectorb_model1 = bruteForceEstimator.matrixG[index1]\n",
    "vectorc_model1 = imgcalc.get_vectorc_model(index1, model, input_dataset)\n",
    "imgplt.display_and_plot_results(vectorb_model1, vectorc_model1, \"Model\", index1, k,input_image)\n"
   ]
  },
  {
   "cell_type": "code",
   "execution_count": null,
   "id": "a76ee309-6bf4-42e1-b5b8-5ef2cbf9fa36",
   "metadata": {},
   "outputs": [],
   "source": []
  }
 ],
 "metadata": {
  "kernelspec": {
   "display_name": "Python (test)",
   "language": "python",
   "name": "test"
  },
  "language_info": {
   "codemirror_mode": {
    "name": "ipython",
    "version": 3
   },
   "file_extension": ".py",
   "mimetype": "text/x-python",
   "name": "python",
   "nbconvert_exporter": "python",
   "pygments_lexer": "ipython3",
   "version": "3.12.8"
  }
 },
 "nbformat": 4,
 "nbformat_minor": 5
}
